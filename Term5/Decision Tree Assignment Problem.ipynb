{
 "cells": [
  {
   "cell_type": "markdown",
   "metadata": {
    "id": "YOFy-OE3F0c-"
   },
   "source": [
    "<center><img src=\"https://github.com/insaid2018/Term-1/blob/master/Images/INSAID_Full%20Logo.png?raw=true\" width=\"240\" height=\"100\" /></center>\n",
    "\n",
    "**<center><h3>Decision Tree Assignment Problem</h3></center>**"
   ]
  },
  {
   "cell_type": "markdown",
   "metadata": {
    "id": "geoElrUULqXM"
   },
   "source": [
    "---\n",
    "# **Table of Contents**\n",
    "---\n",
    "\n",
    "**1.** [**Problem Statement**](#Section1)<br>\n",
    "**2.** [**Objective**](#Section2)<br>\n",
    "**3.** [**Installing & Importing Libraries**](#Section3)<br>\n",
    "  - **3.1** [**Installing Libraries**](#Section31)\n",
    "  - **3.2** [**Upgrading Libraries**](#Section32)\n",
    "  - **3.3** [**Importing Libraries**](#Section33)\n",
    "\n",
    "**4.** [**Data Acquisition & Description**](#Section4)<br>\n",
    "  - **4.1** [**Data Description**](#Section41)<br>\n",
    "\n",
    "**5.** [**Data Pre-processing**](#Section5)<br>\n",
    "  - **5.1** [**Pre-Profiling Report**](#Section51)<br>\n",
    "\n",
    "**6.** [**Exploratory Data Analysis**](#Section6)<br>\n",
    "**7.** [**Post Data Processing**](#Section7)<br>\n",
    "  - **7.1** [**Feature Encoding**](#Section71)\n",
    "  - **7.2** [**Feature Scaling**](#Section72)\n",
    "  - **7.3** [**Data Preparation**](#Section73)\n",
    "  \n",
    "**8.** [**Model Development & Evaluation**](#Section8)<br>\n",
    "**9.** [**Conclusion**](#Section9)<br>\n"
   ]
  },
  {
   "cell_type": "markdown",
   "metadata": {
    "id": "YHjJq99XLywk"
   },
   "source": [
    "---\n",
    "<a name = Section1></a>\n",
    "# **1. Problem Statement**\n",
    "---\n",
    "\n",
    "- Exploring publicly available data from __LendingClub.com__.\n",
    "\n",
    "- Lending Club connects people who need money __(borrowers)__ with people who have money __(investors)__.\n",
    "\n",
    "  - Try to create a model that will help predict people who have a profile of having a __high probability of paying back__.\n",
    "\n",
    "  - Lending club had a very interesting year in __2016__.\n",
    "  \n",
    "  - This data is from _before they even went public_."
   ]
  },
  {
   "cell_type": "markdown",
   "metadata": {
    "id": "CsyYFAX6Lunc"
   },
   "source": [
    "---\n",
    "<a name = Section2></a>\n",
    "# **2. Objective**\n",
    "---\n",
    "\n",
    "- The objective of this assignment is to classify and predict whether or not the borrower paid back their loan in full."
   ]
  },
  {
   "cell_type": "markdown",
   "metadata": {
    "id": "_FtD_ysnMEox"
   },
   "source": [
    "---\n",
    "<a name = Section3></a>\n",
    "# **3. Installing & Importing Libraries**\n",
    "---"
   ]
  },
  {
   "cell_type": "markdown",
   "metadata": {
    "id": "yqLwpfW9MGhS"
   },
   "source": [
    "<a name = Section31></a>\n",
    "### **3.1 Installing Libraries**"
   ]
  },
  {
   "cell_type": "code",
   "execution_count": null,
   "metadata": {
    "id": "ZLe1Ef4fFuOU"
   },
   "outputs": [],
   "source": [
    "!pip install -q datascience                                                       # Package that is required by pandas profiling\n",
    "!pip install -q pandas-profiling  "
   ]
  },
  {
   "cell_type": "markdown",
   "metadata": {
    "id": "5z7fjGTsMI7S"
   },
   "source": [
    "<a name = Section32></a>\n",
    "### **3.2 Upgrading Libraries**\n",
    "\n",
    "- **After upgrading** the libraries, you need to **restart the runtime** to make the libraries in sync. \n",
    "\n",
    "- Make sure not to execute the cell above (3.1) and below (3.2) again after restarting the runtime."
   ]
  },
  {
   "cell_type": "code",
   "execution_count": null,
   "metadata": {
    "id": "gWKFz2K1MIwH"
   },
   "outputs": [],
   "source": [
    "!pip install -q --upgrade pandas-profiling"
   ]
  },
  {
   "cell_type": "markdown",
   "metadata": {
    "id": "Oo48nYBzMN66"
   },
   "source": [
    "<a name = Section33></a>\n",
    "### **3.3 Importing Libraries**"
   ]
  },
  {
   "cell_type": "code",
   "execution_count": 1,
   "metadata": {
    "id": "_Rvxt5bCMIth"
   },
   "outputs": [],
   "source": [
    "#-------------------------------------------------------------------------------------------------------------------------------\n",
    "import pandas as pd                                                               # Importing for panel data analysis\n",
    "from pandas_profiling import ProfileReport                                        # Import Pandas Profiling (To generate Univariate Analysis) \n",
    "pd.set_option('display.max_columns', None)                                        # Unfolding hidden features if the cardinality is high      \n",
    "pd.set_option('display.max_colwidth', None)                                       # Unfolding the max feature width for better clearity      \n",
    "pd.set_option('display.max_rows', None)                                           # Unfolding hidden data points if the cardinality is high\n",
    "pd.set_option('mode.chained_assignment', None)                                    # Removing restriction over chained assignments operations\n",
    "#-------------------------------------------------------------------------------------------------------------------------------\n",
    "import numpy as np                                                                # Importing package numpys (For Numerical Python)\n",
    "#-------------------------------------------------------------------------------------------------------------------------------\n",
    "import matplotlib.pyplot as plt                                                   # Importing pyplot interface using matplotlib\n",
    "import seaborn as sns                                                             # Importing seaborm library for interactive visualization\n",
    "%matplotlib inline\n",
    "#-------------------------------------------------------------------------------------------------------------------------------\n",
    "from sklearn.preprocessing import StandardScaler                                  # Importing Standard Scaler library from preprocessing\n",
    "#-------------------------------------------------------------------------------------------------------------------------------\n",
    "from sklearn.model_selection import train_test_split                              # To split the data in training and testing part \n",
    "from sklearn.model_selection import cross_val_score                               # Importing cross validation score from model selection\n",
    "#-------------------------------------------------------------------------------------------------------------------------------\n",
    "from sklearn.tree import DecisionTreeClassifier                                   # Loading decision tree classifier from tree\n",
    "#-------------------------------------------------------------------------------------------------------------------------------\n",
    "from sklearn.metrics import classification_report                                 # To generate complete report of evaluation metrics\n",
    "from sklearn.metrics import plot_confusion_matrix                                 # To plot confusion matrix\n",
    "#-------------------------------------------------------------------------------------------------------------------------------\n",
    "import warnings                                                                   # Importing warning to disable runtime warnings\n",
    "warnings.filterwarnings(\"ignore\")     "
   ]
  },
  {
   "cell_type": "markdown",
   "metadata": {
    "id": "0ekYgS1oMtGM"
   },
   "source": [
    "---\n",
    "<a name = Section4></a>\n",
    "# **4. Data Acquisition & Description**\n",
    "---\n",
    "- The dataset has been provided by lending club and its description is shown below in the table.\n",
    "\n",
    "</br>\n",
    "\n",
    "| Records | Features | Dataset Size |\n",
    "| :-- | :-- | :-- |\n",
    "| 9578 | 14 | 733 KB | \n",
    "\n",
    "</br>\n",
    "\n",
    "|Id|Feature|Description|\n",
    "|:--|:--|:--|\n",
    "|01|**credit.policy**|1 if the customer meets the credit underwriting criteria of LendingClub.com, and 0 otherwise.|\n",
    "|02|**purpose**|The purpose to get the loan.|\n",
    "|03|**int.rate**|\tThe interest rate of the loan, as a proportion (a rate of 11% would be stored as 0.11). |\n",
    "|||Borrowers judged by LendingClub.com to be more risky are assigned higher interest rates.|\n",
    "|04|**installment**|The monthly installments owed by the borrower if the loan is funded.|\n",
    "|05|**log.annual.inc**|The natural log of the self-reported annual income of the borrower.|\n",
    "|06|**dti**|The debt-to-income ratio of the borrower (amount of debt divided by annual income).|\n",
    "|07|**fico**|The FICO credit score of the borrower.|\n",
    "|08|**days.with.cr.line**|The number of days the borrower has had a credit line.|\n",
    "|09|**revol.bal**|The borrower's revolving balance (amount unpaid at the end of the credit card billing cycle).|\n",
    "|10|**revol.util**|The borrower's revolving line utilization rate (the amount of the credit line used relative to total credit available).|\n",
    "|11|**inq.last.6mths**|The borrower's number of inquiries by creditors in the last 6 months.|\n",
    "|12|**delinq.2yrs**|The number of times the borrower had been 30+ days past due on a payment in the past 2 years.|\n",
    "|13|**pub.rec**|The borrower's number of derogatory public records (bankruptcy filings, tax liens, or judgments).|\n",
    "|14|**not.fully.paid**|Whether the loan amount fully paid or not.|\n"
   ]
  },
  {
   "cell_type": "code",
   "execution_count": 2,
   "metadata": {
    "id": "K-WAtc0tMIq9"
   },
   "outputs": [
    {
     "name": "stdout",
     "output_type": "stream",
     "text": [
      "Data Shape: (9578, 14)\n"
     ]
    },
    {
     "data": {
      "text/html": [
       "<div>\n",
       "<style scoped>\n",
       "    .dataframe tbody tr th:only-of-type {\n",
       "        vertical-align: middle;\n",
       "    }\n",
       "\n",
       "    .dataframe tbody tr th {\n",
       "        vertical-align: top;\n",
       "    }\n",
       "\n",
       "    .dataframe thead th {\n",
       "        text-align: right;\n",
       "    }\n",
       "</style>\n",
       "<table border=\"1\" class=\"dataframe\">\n",
       "  <thead>\n",
       "    <tr style=\"text-align: right;\">\n",
       "      <th></th>\n",
       "      <th>credit.policy</th>\n",
       "      <th>purpose</th>\n",
       "      <th>int.rate</th>\n",
       "      <th>installment</th>\n",
       "      <th>log.annual.inc</th>\n",
       "      <th>dti</th>\n",
       "      <th>fico</th>\n",
       "      <th>days.with.cr.line</th>\n",
       "      <th>revol.bal</th>\n",
       "      <th>revol.util</th>\n",
       "      <th>inq.last.6mths</th>\n",
       "      <th>delinq.2yrs</th>\n",
       "      <th>pub.rec</th>\n",
       "      <th>not.fully.paid</th>\n",
       "    </tr>\n",
       "  </thead>\n",
       "  <tbody>\n",
       "    <tr>\n",
       "      <th>0</th>\n",
       "      <td>1</td>\n",
       "      <td>debt_consolidation</td>\n",
       "      <td>0.1189</td>\n",
       "      <td>829.10</td>\n",
       "      <td>11.350407</td>\n",
       "      <td>19.48</td>\n",
       "      <td>737</td>\n",
       "      <td>5639.958333</td>\n",
       "      <td>28854</td>\n",
       "      <td>52.1</td>\n",
       "      <td>0</td>\n",
       "      <td>0</td>\n",
       "      <td>0</td>\n",
       "      <td>0</td>\n",
       "    </tr>\n",
       "    <tr>\n",
       "      <th>1</th>\n",
       "      <td>1</td>\n",
       "      <td>credit_card</td>\n",
       "      <td>0.1071</td>\n",
       "      <td>228.22</td>\n",
       "      <td>11.082143</td>\n",
       "      <td>14.29</td>\n",
       "      <td>707</td>\n",
       "      <td>2760.000000</td>\n",
       "      <td>33623</td>\n",
       "      <td>76.7</td>\n",
       "      <td>0</td>\n",
       "      <td>0</td>\n",
       "      <td>0</td>\n",
       "      <td>0</td>\n",
       "    </tr>\n",
       "    <tr>\n",
       "      <th>2</th>\n",
       "      <td>1</td>\n",
       "      <td>debt_consolidation</td>\n",
       "      <td>0.1357</td>\n",
       "      <td>366.86</td>\n",
       "      <td>10.373491</td>\n",
       "      <td>11.63</td>\n",
       "      <td>682</td>\n",
       "      <td>4710.000000</td>\n",
       "      <td>3511</td>\n",
       "      <td>25.6</td>\n",
       "      <td>1</td>\n",
       "      <td>0</td>\n",
       "      <td>0</td>\n",
       "      <td>0</td>\n",
       "    </tr>\n",
       "    <tr>\n",
       "      <th>3</th>\n",
       "      <td>1</td>\n",
       "      <td>debt_consolidation</td>\n",
       "      <td>0.1008</td>\n",
       "      <td>162.34</td>\n",
       "      <td>11.350407</td>\n",
       "      <td>8.10</td>\n",
       "      <td>712</td>\n",
       "      <td>2699.958333</td>\n",
       "      <td>33667</td>\n",
       "      <td>73.2</td>\n",
       "      <td>1</td>\n",
       "      <td>0</td>\n",
       "      <td>0</td>\n",
       "      <td>0</td>\n",
       "    </tr>\n",
       "    <tr>\n",
       "      <th>4</th>\n",
       "      <td>1</td>\n",
       "      <td>credit_card</td>\n",
       "      <td>0.1426</td>\n",
       "      <td>102.92</td>\n",
       "      <td>11.299732</td>\n",
       "      <td>14.97</td>\n",
       "      <td>667</td>\n",
       "      <td>4066.000000</td>\n",
       "      <td>4740</td>\n",
       "      <td>39.5</td>\n",
       "      <td>0</td>\n",
       "      <td>1</td>\n",
       "      <td>0</td>\n",
       "      <td>0</td>\n",
       "    </tr>\n",
       "  </tbody>\n",
       "</table>\n",
       "</div>"
      ],
      "text/plain": [
       "   credit.policy             purpose  int.rate  installment  log.annual.inc  \\\n",
       "0              1  debt_consolidation    0.1189       829.10       11.350407   \n",
       "1              1         credit_card    0.1071       228.22       11.082143   \n",
       "2              1  debt_consolidation    0.1357       366.86       10.373491   \n",
       "3              1  debt_consolidation    0.1008       162.34       11.350407   \n",
       "4              1         credit_card    0.1426       102.92       11.299732   \n",
       "\n",
       "     dti  fico  days.with.cr.line  revol.bal  revol.util  inq.last.6mths  \\\n",
       "0  19.48   737        5639.958333      28854        52.1               0   \n",
       "1  14.29   707        2760.000000      33623        76.7               0   \n",
       "2  11.63   682        4710.000000       3511        25.6               1   \n",
       "3   8.10   712        2699.958333      33667        73.2               1   \n",
       "4  14.97   667        4066.000000       4740        39.5               0   \n",
       "\n",
       "   delinq.2yrs  pub.rec  not.fully.paid  \n",
       "0            0        0               0  \n",
       "1            0        0               0  \n",
       "2            0        0               0  \n",
       "3            0        0               0  \n",
       "4            1        0               0  "
      ]
     },
     "execution_count": 2,
     "metadata": {},
     "output_type": "execute_result"
    }
   ],
   "source": [
    "data = pd.read_csv('https://raw.githubusercontent.com/insaid2018/Term-2/master/Data/loan_data.csv')\n",
    "print('Data Shape:', data.shape)\n",
    "data.head()"
   ]
  },
  {
   "cell_type": "markdown",
   "metadata": {
    "id": "ucDJhq89Rcia"
   },
   "source": [
    "<a name = Section41></a>\n",
    "### **4.1 Data Description**\n",
    "\n",
    "- In this section we will get **description** and **statistics** about the data."
   ]
  },
  {
   "cell_type": "code",
   "execution_count": 3,
   "metadata": {
    "id": "NYHIoTKeMIlq"
   },
   "outputs": [
    {
     "data": {
      "text/html": [
       "<div>\n",
       "<style scoped>\n",
       "    .dataframe tbody tr th:only-of-type {\n",
       "        vertical-align: middle;\n",
       "    }\n",
       "\n",
       "    .dataframe tbody tr th {\n",
       "        vertical-align: top;\n",
       "    }\n",
       "\n",
       "    .dataframe thead th {\n",
       "        text-align: right;\n",
       "    }\n",
       "</style>\n",
       "<table border=\"1\" class=\"dataframe\">\n",
       "  <thead>\n",
       "    <tr style=\"text-align: right;\">\n",
       "      <th></th>\n",
       "      <th>credit.policy</th>\n",
       "      <th>int.rate</th>\n",
       "      <th>installment</th>\n",
       "      <th>log.annual.inc</th>\n",
       "      <th>dti</th>\n",
       "      <th>fico</th>\n",
       "      <th>days.with.cr.line</th>\n",
       "      <th>revol.bal</th>\n",
       "      <th>revol.util</th>\n",
       "      <th>inq.last.6mths</th>\n",
       "      <th>delinq.2yrs</th>\n",
       "      <th>pub.rec</th>\n",
       "      <th>not.fully.paid</th>\n",
       "    </tr>\n",
       "  </thead>\n",
       "  <tbody>\n",
       "    <tr>\n",
       "      <th>count</th>\n",
       "      <td>9578.000000</td>\n",
       "      <td>9578.000000</td>\n",
       "      <td>9578.000000</td>\n",
       "      <td>9578.000000</td>\n",
       "      <td>9578.000000</td>\n",
       "      <td>9578.000000</td>\n",
       "      <td>9578.000000</td>\n",
       "      <td>9.578000e+03</td>\n",
       "      <td>9578.000000</td>\n",
       "      <td>9578.000000</td>\n",
       "      <td>9578.000000</td>\n",
       "      <td>9578.000000</td>\n",
       "      <td>9578.000000</td>\n",
       "    </tr>\n",
       "    <tr>\n",
       "      <th>mean</th>\n",
       "      <td>0.804970</td>\n",
       "      <td>0.122640</td>\n",
       "      <td>319.089413</td>\n",
       "      <td>10.932117</td>\n",
       "      <td>12.606679</td>\n",
       "      <td>710.846314</td>\n",
       "      <td>4560.767197</td>\n",
       "      <td>1.691396e+04</td>\n",
       "      <td>46.799236</td>\n",
       "      <td>1.577469</td>\n",
       "      <td>0.163708</td>\n",
       "      <td>0.062122</td>\n",
       "      <td>0.160054</td>\n",
       "    </tr>\n",
       "    <tr>\n",
       "      <th>std</th>\n",
       "      <td>0.396245</td>\n",
       "      <td>0.026847</td>\n",
       "      <td>207.071301</td>\n",
       "      <td>0.614813</td>\n",
       "      <td>6.883970</td>\n",
       "      <td>37.970537</td>\n",
       "      <td>2496.930377</td>\n",
       "      <td>3.375619e+04</td>\n",
       "      <td>29.014417</td>\n",
       "      <td>2.200245</td>\n",
       "      <td>0.546215</td>\n",
       "      <td>0.262126</td>\n",
       "      <td>0.366676</td>\n",
       "    </tr>\n",
       "    <tr>\n",
       "      <th>min</th>\n",
       "      <td>0.000000</td>\n",
       "      <td>0.060000</td>\n",
       "      <td>15.670000</td>\n",
       "      <td>7.547502</td>\n",
       "      <td>0.000000</td>\n",
       "      <td>612.000000</td>\n",
       "      <td>178.958333</td>\n",
       "      <td>0.000000e+00</td>\n",
       "      <td>0.000000</td>\n",
       "      <td>0.000000</td>\n",
       "      <td>0.000000</td>\n",
       "      <td>0.000000</td>\n",
       "      <td>0.000000</td>\n",
       "    </tr>\n",
       "    <tr>\n",
       "      <th>25%</th>\n",
       "      <td>1.000000</td>\n",
       "      <td>0.103900</td>\n",
       "      <td>163.770000</td>\n",
       "      <td>10.558414</td>\n",
       "      <td>7.212500</td>\n",
       "      <td>682.000000</td>\n",
       "      <td>2820.000000</td>\n",
       "      <td>3.187000e+03</td>\n",
       "      <td>22.600000</td>\n",
       "      <td>0.000000</td>\n",
       "      <td>0.000000</td>\n",
       "      <td>0.000000</td>\n",
       "      <td>0.000000</td>\n",
       "    </tr>\n",
       "    <tr>\n",
       "      <th>50%</th>\n",
       "      <td>1.000000</td>\n",
       "      <td>0.122100</td>\n",
       "      <td>268.950000</td>\n",
       "      <td>10.928884</td>\n",
       "      <td>12.665000</td>\n",
       "      <td>707.000000</td>\n",
       "      <td>4139.958333</td>\n",
       "      <td>8.596000e+03</td>\n",
       "      <td>46.300000</td>\n",
       "      <td>1.000000</td>\n",
       "      <td>0.000000</td>\n",
       "      <td>0.000000</td>\n",
       "      <td>0.000000</td>\n",
       "    </tr>\n",
       "    <tr>\n",
       "      <th>75%</th>\n",
       "      <td>1.000000</td>\n",
       "      <td>0.140700</td>\n",
       "      <td>432.762500</td>\n",
       "      <td>11.291293</td>\n",
       "      <td>17.950000</td>\n",
       "      <td>737.000000</td>\n",
       "      <td>5730.000000</td>\n",
       "      <td>1.824950e+04</td>\n",
       "      <td>70.900000</td>\n",
       "      <td>2.000000</td>\n",
       "      <td>0.000000</td>\n",
       "      <td>0.000000</td>\n",
       "      <td>0.000000</td>\n",
       "    </tr>\n",
       "    <tr>\n",
       "      <th>max</th>\n",
       "      <td>1.000000</td>\n",
       "      <td>0.216400</td>\n",
       "      <td>940.140000</td>\n",
       "      <td>14.528354</td>\n",
       "      <td>29.960000</td>\n",
       "      <td>827.000000</td>\n",
       "      <td>17639.958330</td>\n",
       "      <td>1.207359e+06</td>\n",
       "      <td>119.000000</td>\n",
       "      <td>33.000000</td>\n",
       "      <td>13.000000</td>\n",
       "      <td>5.000000</td>\n",
       "      <td>1.000000</td>\n",
       "    </tr>\n",
       "  </tbody>\n",
       "</table>\n",
       "</div>"
      ],
      "text/plain": [
       "       credit.policy     int.rate  installment  log.annual.inc          dti  \\\n",
       "count    9578.000000  9578.000000  9578.000000     9578.000000  9578.000000   \n",
       "mean        0.804970     0.122640   319.089413       10.932117    12.606679   \n",
       "std         0.396245     0.026847   207.071301        0.614813     6.883970   \n",
       "min         0.000000     0.060000    15.670000        7.547502     0.000000   \n",
       "25%         1.000000     0.103900   163.770000       10.558414     7.212500   \n",
       "50%         1.000000     0.122100   268.950000       10.928884    12.665000   \n",
       "75%         1.000000     0.140700   432.762500       11.291293    17.950000   \n",
       "max         1.000000     0.216400   940.140000       14.528354    29.960000   \n",
       "\n",
       "              fico  days.with.cr.line     revol.bal   revol.util  \\\n",
       "count  9578.000000        9578.000000  9.578000e+03  9578.000000   \n",
       "mean    710.846314        4560.767197  1.691396e+04    46.799236   \n",
       "std      37.970537        2496.930377  3.375619e+04    29.014417   \n",
       "min     612.000000         178.958333  0.000000e+00     0.000000   \n",
       "25%     682.000000        2820.000000  3.187000e+03    22.600000   \n",
       "50%     707.000000        4139.958333  8.596000e+03    46.300000   \n",
       "75%     737.000000        5730.000000  1.824950e+04    70.900000   \n",
       "max     827.000000       17639.958330  1.207359e+06   119.000000   \n",
       "\n",
       "       inq.last.6mths  delinq.2yrs      pub.rec  not.fully.paid  \n",
       "count     9578.000000  9578.000000  9578.000000     9578.000000  \n",
       "mean         1.577469     0.163708     0.062122        0.160054  \n",
       "std          2.200245     0.546215     0.262126        0.366676  \n",
       "min          0.000000     0.000000     0.000000        0.000000  \n",
       "25%          0.000000     0.000000     0.000000        0.000000  \n",
       "50%          1.000000     0.000000     0.000000        0.000000  \n",
       "75%          2.000000     0.000000     0.000000        0.000000  \n",
       "max         33.000000    13.000000     5.000000        1.000000  "
      ]
     },
     "execution_count": 3,
     "metadata": {},
     "output_type": "execute_result"
    }
   ],
   "source": [
    "data.describe()"
   ]
  },
  {
   "cell_type": "markdown",
   "metadata": {
    "id": "pEiefF8wT0em"
   },
   "source": [
    "<a name = Section42></a>\n",
    "### **4.2 Data Information**\n",
    "\n",
    " - In this section, we will get **information about the data** and see some observations.\n"
   ]
  },
  {
   "cell_type": "code",
   "execution_count": 4,
   "metadata": {
    "id": "RG46ZJvNMIi0"
   },
   "outputs": [
    {
     "name": "stdout",
     "output_type": "stream",
     "text": [
      "<class 'pandas.core.frame.DataFrame'>\n",
      "RangeIndex: 9578 entries, 0 to 9577\n",
      "Data columns (total 14 columns):\n",
      " #   Column             Non-Null Count  Dtype  \n",
      "---  ------             --------------  -----  \n",
      " 0   credit.policy      9578 non-null   int64  \n",
      " 1   purpose            9578 non-null   object \n",
      " 2   int.rate           9578 non-null   float64\n",
      " 3   installment        9578 non-null   float64\n",
      " 4   log.annual.inc     9578 non-null   float64\n",
      " 5   dti                9578 non-null   float64\n",
      " 6   fico               9578 non-null   int64  \n",
      " 7   days.with.cr.line  9578 non-null   float64\n",
      " 8   revol.bal          9578 non-null   int64  \n",
      " 9   revol.util         9578 non-null   float64\n",
      " 10  inq.last.6mths     9578 non-null   int64  \n",
      " 11  delinq.2yrs        9578 non-null   int64  \n",
      " 12  pub.rec            9578 non-null   int64  \n",
      " 13  not.fully.paid     9578 non-null   int64  \n",
      "dtypes: float64(6), int64(7), object(1)\n",
      "memory usage: 1.0+ MB\n"
     ]
    }
   ],
   "source": [
    "data.info()"
   ]
  },
  {
   "cell_type": "markdown",
   "metadata": {
    "id": "Jz-ZeVynUIGE"
   },
   "source": [
    "<a name = Section5></a>\n",
    "\n",
    "---\n",
    "# **5. Data Pre-Processing**\n",
    "---"
   ]
  },
  {
   "cell_type": "markdown",
   "metadata": {
    "id": "DKAjCZF3UV7F"
   },
   "source": [
    "<a name = Section51></a>\n",
    "### **5.1 Pre Profiling Report**"
   ]
  },
  {
   "cell_type": "code",
   "execution_count": 6,
   "metadata": {
    "id": "zRV-xLIvMIgO"
   },
   "outputs": [
    {
     "data": {
      "application/vnd.jupyter.widget-view+json": {
       "model_id": "1e53408ccbd544aeab4ec2d2ee8bcdcb",
       "version_major": 2,
       "version_minor": 0
      },
      "text/plain": [
       "Summarize dataset:   0%|          | 0/5 [00:00<?, ?it/s]"
      ]
     },
     "metadata": {},
     "output_type": "display_data"
    },
    {
     "data": {
      "application/vnd.jupyter.widget-view+json": {
       "model_id": "9524f4c30fe5450cbe8400dceae84a9d",
       "version_major": 2,
       "version_minor": 0
      },
      "text/plain": [
       "Generate report structure:   0%|          | 0/1 [00:00<?, ?it/s]"
      ]
     },
     "metadata": {},
     "output_type": "display_data"
    },
    {
     "data": {
      "application/vnd.jupyter.widget-view+json": {
       "model_id": "0e402415c5cb4dcaa0bd6ac6afa77648",
       "version_major": 2,
       "version_minor": 0
      },
      "text/plain": [
       "Render HTML:   0%|          | 0/1 [00:00<?, ?it/s]"
      ]
     },
     "metadata": {},
     "output_type": "display_data"
    },
    {
     "data": {
      "application/vnd.jupyter.widget-view+json": {
       "model_id": "fff6f784da0e4080b8c335fddef43ae6",
       "version_major": 2,
       "version_minor": 0
      },
      "text/plain": [
       "Export report to file:   0%|          | 0/1 [00:00<?, ?it/s]"
      ]
     },
     "metadata": {},
     "output_type": "display_data"
    },
    {
     "name": "stdout",
     "output_type": "stream",
     "text": [
      "Accomplished!\n"
     ]
    }
   ],
   "source": [
    "import pandas_profiling as pp\n",
    "profile = pp.ProfileReport(df=data)\n",
    "profile.to_file(output_file='Pre Profiling Report.html')\n",
    "print('Accomplished!')"
   ]
  },
  {
   "cell_type": "markdown",
   "metadata": {
    "id": "LvHFLuqRzdYr"
   },
   "source": [
    "**Peforming Cleaning Operations**"
   ]
  },
  {
   "cell_type": "markdown",
   "metadata": {
    "id": "f6-BGLRZz7wy"
   },
   "source": [
    "---\n",
    "**<h4>Question 1:** Create a function that transform credit.policy and not.fully.paid to correct data type.</h4>\n",
    "\n",
    "---\n",
    "\n",
    "<details>\n",
    "\n",
    "**<summary>Hint:</summary>**\n",
    "\n",
    "- You can use pandas .as_type() functionality to handle inconsistent data types.\n",
    "\n",
    "</details>"
   ]
  },
  {
   "cell_type": "code",
   "execution_count": 12,
   "metadata": {
    "id": "1flHc_sD0SXa"
   },
   "outputs": [],
   "source": [
    "def transCorrectType(feature=None, type=None):\n",
    "    data[feature] = data[feature].astype(bool)"
   ]
  },
  {
   "cell_type": "code",
   "execution_count": 13,
   "metadata": {
    "id": "sMM2PnBlz6EB"
   },
   "outputs": [],
   "source": [
    "transCorrectType(feature='credit.policy', type=int)\n",
    "transCorrectType(feature='not.fully.paid', type=int)"
   ]
  },
  {
   "cell_type": "code",
   "execution_count": 14,
   "metadata": {},
   "outputs": [
    {
     "data": {
      "text/plain": [
       "dtype('bool')"
      ]
     },
     "execution_count": 14,
     "metadata": {},
     "output_type": "execute_result"
    }
   ],
   "source": [
    "data['credit.policy'].dtype"
   ]
  },
  {
   "cell_type": "code",
   "execution_count": 15,
   "metadata": {},
   "outputs": [
    {
     "data": {
      "text/plain": [
       "dtype('bool')"
      ]
     },
     "execution_count": 15,
     "metadata": {},
     "output_type": "execute_result"
    }
   ],
   "source": [
    "data['not.fully.paid'].dtype"
   ]
  },
  {
   "cell_type": "code",
   "execution_count": 17,
   "metadata": {},
   "outputs": [
    {
     "name": "stdout",
     "output_type": "stream",
     "text": [
      "<class 'pandas.core.frame.DataFrame'>\n",
      "RangeIndex: 9578 entries, 0 to 9577\n",
      "Data columns (total 14 columns):\n",
      " #   Column             Non-Null Count  Dtype  \n",
      "---  ------             --------------  -----  \n",
      " 0   credit.policy      9578 non-null   bool   \n",
      " 1   purpose            9578 non-null   object \n",
      " 2   int.rate           9578 non-null   float64\n",
      " 3   installment        9578 non-null   float64\n",
      " 4   log.annual.inc     9578 non-null   float64\n",
      " 5   dti                9578 non-null   float64\n",
      " 6   fico               9578 non-null   int64  \n",
      " 7   days.with.cr.line  9578 non-null   float64\n",
      " 8   revol.bal          9578 non-null   int64  \n",
      " 9   revol.util         9578 non-null   float64\n",
      " 10  inq.last.6mths     9578 non-null   int64  \n",
      " 11  delinq.2yrs        9578 non-null   int64  \n",
      " 12  pub.rec            9578 non-null   int64  \n",
      " 13  not.fully.paid     9578 non-null   bool   \n",
      "dtypes: bool(2), float64(6), int64(5), object(1)\n",
      "memory usage: 916.8+ KB\n"
     ]
    }
   ],
   "source": [
    "data.info()"
   ]
  },
  {
   "cell_type": "markdown",
   "metadata": {
    "id": "QbZ4RJLweGQM"
   },
   "source": [
    "<a name = Section6></a>\n",
    "\n",
    "---\n",
    "# **6. Exploratory Data Analysis**\n",
    "---"
   ]
  },
  {
   "cell_type": "markdown",
   "metadata": {
    "id": "ALAJqj3vaUpM"
   },
   "source": [
    "---\n",
    "**<h4>Question 2:** Create a function that generate distribution of fico feature for each credit policy.</h4>\n",
    "\n",
    "---\n",
    "\n",
    "<details>\n",
    "\n",
    "**<summary>Hint:</summary>**\n",
    "\n",
    "- You can plot the frequency distribution and proportion using seaborn histplot function.\n",
    "\n",
    "- You can use hue parameter for the credit.policy and add some cosmetics to make you graph look better.\n",
    "\n",
    "</details>"
   ]
  },
  {
   "cell_type": "code",
   "execution_count": 35,
   "metadata": {},
   "outputs": [],
   "source": [
    "data['credit.policy'] = data['credit.policy'].astype(int)"
   ]
  },
  {
   "cell_type": "code",
   "execution_count": 36,
   "metadata": {},
   "outputs": [
    {
     "data": {
      "text/plain": [
       "dtype('int64')"
      ]
     },
     "execution_count": 36,
     "metadata": {},
     "output_type": "execute_result"
    }
   ],
   "source": [
    "data['credit.policy'].dtype"
   ]
  },
  {
   "cell_type": "code",
   "execution_count": 44,
   "metadata": {},
   "outputs": [
    {
     "data": {
      "text/plain": [
       "<matplotlib.legend.Legend at 0x7fab77831610>"
      ]
     },
     "execution_count": 44,
     "metadata": {},
     "output_type": "execute_result"
    },
    {
     "data": {
      "image/png": "[encoded data removed]",
      "text/plain": [
       "<Figure size 432x288 with 1 Axes>"
      ]
     },
     "metadata": {
      "needs_background": "light"
     },
     "output_type": "display_data"
    }
   ],
   "source": [
    "sns.histplot(data=data, x='fico', hue=\"credit.policy\")\n",
    "plt.legend(labels=['Fico Credit Policy 0', 'Fico Credit Policy 1'])"
   ]
  },
  {
   "cell_type": "code",
   "execution_count": null,
   "metadata": {
    "id": "u6W6T_I5MIdd"
   },
   "outputs": [],
   "source": [
    "def ficoCreditPolicyDist():\n",
    "  # Put your code here..."
   ]
  },
  {
   "cell_type": "code",
   "execution_count": null,
   "metadata": {
    "id": "sGGhTemOMIay"
   },
   "outputs": [],
   "source": [
    "ficoCreditPolicyDist()"
   ]
  },
  {
   "cell_type": "code",
   "execution_count": 41,
   "metadata": {},
   "outputs": [
    {
     "data": {
      "text/plain": [
       "dtype('bool')"
      ]
     },
     "execution_count": 41,
     "metadata": {},
     "output_type": "execute_result"
    }
   ],
   "source": [
    "data['not.fully.paid'].dtype"
   ]
  },
  {
   "cell_type": "markdown",
   "metadata": {
    "id": "fTiMZ5sbewgJ"
   },
   "source": [
    "---\n",
    "**<h4>Question 3:** Create a function that generate distribution of fico feature concerning not fully paid feature.</h4>\n",
    "\n",
    "---\n",
    "\n",
    "<details>\n",
    "\n",
    "**<summary>Hint:</summary>**\n",
    "\n",
    "- You can plot the frequency distribution and proportion using seaborn histplot function.\n",
    "\n",
    "- You can use hue parameter for the not.fully.paid feature and add some cosmetics to make you graph look better.\n",
    "\n",
    "</details>"
   ]
  },
  {
   "cell_type": "code",
   "execution_count": null,
   "metadata": {
    "id": "jn-16mhfMIX6"
   },
   "outputs": [],
   "source": [
    "def ficoNotFullyPaidDist():\n",
    "  # Put your code here..."
   ]
  },
  {
   "cell_type": "code",
   "execution_count": null,
   "metadata": {
    "id": "oKy9UYclfE3m"
   },
   "outputs": [],
   "source": [
    "ficoNotFullyPaidDist()"
   ]
  },
  {
   "cell_type": "markdown",
   "metadata": {
    "id": "Ssw7Jz8ZhvDC"
   },
   "source": [
    "---\n",
    "**<h4>Question 4:** Create a function that shows association between purpose and not fully paid feature.</h4>\n",
    "\n",
    "---\n",
    "\n",
    "<details>\n",
    "\n",
    "**<summary>Hint:</summary>**\n",
    "\n",
    "- You can plot the barplot and plot frequencies of categories using seaborn countplot function.\n",
    "\n",
    "- You can use hue parameter for the not.fully.paid feature and add some cosmetics to make you graph look better.\n",
    "\n",
    "</details>"
   ]
  },
  {
   "cell_type": "code",
   "execution_count": null,
   "metadata": {
    "id": "3bXUBF4NfEwF"
   },
   "outputs": [],
   "source": [
    "def purposeNotFullyPaid():\n",
    "  # Put your code here..."
   ]
  },
  {
   "cell_type": "code",
   "execution_count": null,
   "metadata": {
    "id": "jM4M8_pPfErx"
   },
   "outputs": [],
   "source": [
    "purposeNotFullyPaid()"
   ]
  },
  {
   "cell_type": "markdown",
   "metadata": {
    "id": "4Cnw23CLzNaJ"
   },
   "source": [
    "<a name = Section7></a>\n",
    "\n",
    "---\n",
    "# **7. Post Data Processing**\n",
    "---\n"
   ]
  },
  {
   "cell_type": "markdown",
   "metadata": {
    "id": "tc9ZOZrg1tiu"
   },
   "source": [
    "<a name = Section71></a>\n",
    "### **7.1 Feature Encoding**"
   ]
  },
  {
   "cell_type": "markdown",
   "metadata": {
    "id": "uw9RFP_62AWq"
   },
   "source": [
    "---\n",
    "**<h4>Question 5:** Create a function that performs one hot encoding over the purpose feature.</h4>\n",
    "\n",
    "---\n",
    "\n",
    "<details>\n",
    "\n",
    "**<summary>Hint:</summary>**\n",
    "\n",
    "- You can use pandas .get_dummies() functionality to achieve the asked objective.\n",
    "\n",
    "</details>"
   ]
  },
  {
   "cell_type": "code",
   "execution_count": null,
   "metadata": {
    "id": "dDRpkdzw2P37"
   },
   "outputs": [],
   "source": [
    "def performEncoding(data=None, features=None):\n",
    "  # Put your code here..."
   ]
  },
  {
   "cell_type": "code",
   "execution_count": null,
   "metadata": {
    "id": "FEThHxUC2oVL"
   },
   "outputs": [],
   "source": [
    "data = performEncoding(data=data, features=['purpose'])\n",
    "data.head()"
   ]
  },
  {
   "cell_type": "markdown",
   "metadata": {
    "id": "QkRpcbPy4xyD"
   },
   "source": [
    "<a name = Section72></a>\n",
    "### **7.2 Feature Scaling**"
   ]
  },
  {
   "cell_type": "markdown",
   "metadata": {
    "id": "ksMwQVdy4vYh"
   },
   "source": [
    "---\n",
    "**<h4>Question 6:** Create a function that performs standard scaling over the following set of features.</h4>\n",
    "\n",
    "> int.rate, installment, log.annual.inc, dti, fico, days.with.cr.line, revol.bal, revol.util\n",
    "\n",
    "---\n",
    "\n",
    "<details>\n",
    "\n",
    "**<summary>Hint:</summary>**\n",
    "\n",
    "- Initialize data as input and output form.\n",
    "\n",
    "- Initialize a list of features that needs to be scaled.\n",
    "\n",
    "- Create a function that performs standard scaling over the features and returns a scaled dataframe.\n",
    "\n",
    "</details>"
   ]
  },
  {
   "cell_type": "code",
   "execution_count": null,
   "metadata": {
    "id": "0pO6yy4zfEol"
   },
   "outputs": [],
   "source": [
    "# Split the data into input and output\n",
    "X = data.drop(labels=['not.fully.paid'], axis=1)\n",
    "y = data['not.fully.paid']\n",
    "\n",
    "# Initialize a list of scaled features\n",
    "scalerlabels = ['int.rate', 'installment', 'log.annual.inc', 'dti', \n",
    "                'fico', 'days.with.cr.line', 'revol.bal', 'revol.util']"
   ]
  },
  {
   "cell_type": "code",
   "execution_count": null,
   "metadata": {
    "id": "LFgZD1IU6R1C"
   },
   "outputs": [],
   "source": [
    "def dataScaler(data=None, labels=None):\n",
    "  # Put your code here..."
   ]
  },
  {
   "cell_type": "code",
   "execution_count": null,
   "metadata": {
    "id": "MQT0kNcc7t0O"
   },
   "outputs": [],
   "source": [
    "X_scaled = dataScaler(data=data, labels=scalerlabels)\n",
    "X_scaled.head()"
   ]
  },
  {
   "cell_type": "markdown",
   "metadata": {
    "id": "QIUdRi8t7gol"
   },
   "source": [
    "---\n",
    "**<h4>Question 7:** Create a function that concat scaled dataframe and dataframe that contains features apart from scalerlabels.</h4>\n",
    "\n",
    "---\n",
    "\n",
    "<details>\n",
    "\n",
    "**<summary>Hint:</summary>**\n",
    "\n",
    "- You can use .concat() functionality of pandas to concat features and return back the dataframe.\n",
    "\n",
    "</details>"
   ]
  },
  {
   "cell_type": "code",
   "execution_count": null,
   "metadata": {
    "id": "W5tGzsSm9JF7"
   },
   "outputs": [],
   "source": [
    "def concatFrames():\n",
    "  # Put your code here..."
   ]
  },
  {
   "cell_type": "code",
   "execution_count": null,
   "metadata": {
    "id": "rugDYrIBzQ2C"
   },
   "outputs": [],
   "source": [
    "final_data = concatFrames()\n",
    "final_data.head()"
   ]
  },
  {
   "cell_type": "markdown",
   "metadata": {
    "id": "otxEBnHk-27C"
   },
   "source": [
    "<a name = Section73></a>\n",
    "### **7.3 Data Preparation**"
   ]
  },
  {
   "cell_type": "markdown",
   "metadata": {
    "id": "UW0uVNY8_FWl"
   },
   "source": [
    "---\n",
    "**<h4>Question 8:** Create a function that prepare the data according to the following model requirements.</h4>\n",
    "\n",
    "- **Split** the data into **80:20** inside train_test_split.\n",
    "\n",
    "- Make sure to set the **random_state = 42**.\n",
    "\n",
    "---\n",
    "\n",
    "<details>\n",
    "\n",
    "**<summary>Hint:</summary>**\n",
    "\n",
    "- You can use .train_test_split functionality of sklearn package to achieve the objective.\n",
    "\n",
    "</details>"
   ]
  },
  {
   "cell_type": "code",
   "execution_count": null,
   "metadata": {
    "id": "yDRKxqtj-oJg"
   },
   "outputs": [],
   "source": [
    "def data_prep(input=None, output=None):\n",
    "  # Put your code here..."
   ]
  },
  {
   "cell_type": "code",
   "execution_count": null,
   "metadata": {
    "id": "ZQYEfTCM_g1T"
   },
   "outputs": [],
   "source": [
    "X_train, X_test, y_train, y_test = data_prep(input=final_data, output=y)"
   ]
  },
  {
   "cell_type": "markdown",
   "metadata": {
    "id": "Fdo3HdO3_7D7"
   },
   "source": [
    "<a name = Section8></a>\n",
    "\n",
    "---\n",
    "# **8. Model Development & Evaluation**\n",
    "---\n",
    "\n",
    "- In this section, you will develop decision tree-based model.\n",
    "\n",
    "- Then **analyze the results** obtained and **make observations**.\n",
    "\n",
    "- For **evaluation purposes** we will **focus** on the **precision and recall score**.\n",
    "\n",
    "- **Remember** that we want to **generalize results** i.e. same results or error on testing data as that of training data."
   ]
  },
  {
   "cell_type": "markdown",
   "metadata": {
    "id": "SUCb5Z9PWrwx"
   },
   "source": [
    "---\n",
    "**<h4>Question 9:** Create a function that develops decision tree model and output a confusion matrix.</h4>\n",
    "\n",
    "---\n",
    "\n",
    "<details>\n",
    "\n",
    "**<summary>Hint:</summary>**\n",
    "\n",
    "- To train decision tree model you can use sklearn package.\n",
    "\n",
    "- Plot a side by side figure of confusion matrix using some beautiful cosmetics.\n",
    "\n",
    "- You can use confusion_matrix function to generate a confusion maxtrix.\n",
    "\n",
    "- Display the results.\n",
    "\n",
    "</details>"
   ]
  },
  {
   "cell_type": "code",
   "execution_count": null,
   "metadata": {
    "id": "R9PmVbYZXcgI"
   },
   "outputs": [],
   "source": [
    "def trainDecisionGetConfusion():\n",
    "  # Put your code here..."
   ]
  },
  {
   "cell_type": "code",
   "execution_count": null,
   "metadata": {
    "id": "rK7Art_kAH4f"
   },
   "outputs": [],
   "source": [
    "trainDecisionGetConfusion()"
   ]
  },
  {
   "cell_type": "markdown",
   "metadata": {
    "id": "6VamyLhlXoKQ"
   },
   "source": [
    "---\n",
    "**<h4>Question 10:** Create a function that generates a classification report using the decision tree classifier developed above.</h4>\n",
    "\n",
    "---\n",
    "\n",
    "<details>\n",
    "\n",
    "**<summary>Hint:</summary>**\n",
    "\n",
    "- To train decision tree model you can use sklearn package.\n",
    "\n",
    "- Fit the data on training data and then predict on both train set and test set.\n",
    "\n",
    "- Plot a side by side figure of confusion matrix using some beautiful cosmetics.\n",
    "\n",
    "- Display the results.\n",
    "\n",
    "</details>"
   ]
  },
  {
   "cell_type": "code",
   "execution_count": null,
   "metadata": {
    "id": "AitMXlWJXn-R"
   },
   "outputs": [],
   "source": [
    "def getDecisionReport():\n",
    "  # Put your code here..."
   ]
  },
  {
   "cell_type": "code",
   "execution_count": null,
   "metadata": {
    "id": "cjQ13SI0ZLX-"
   },
   "outputs": [],
   "source": [
    "getDecisionReport()"
   ]
  },
  {
   "cell_type": "markdown",
   "metadata": {
    "id": "FgWeMwv9bGMJ"
   },
   "source": [
    "<a name = Section9></a>\n",
    "\n",
    "---\n",
    "# **9. Conclusion**\n",
    "---"
   ]
  }
 ],
 "metadata": {
  "colab": {
   "authorship_tag": "ABX9TyPh5v0hGjlSLqcZyDBLD8ii",
   "collapsed_sections": [],
   "name": "Decision Tree Assignment Problem.ipynb",
   "provenance": []
  },
  "kernelspec": {
   "display_name": "Python 3 (ipykernel)",
   "language": "python",
   "name": "python3"
  },
  "language_info": {
   "codemirror_mode": {
    "name": "ipython",
    "version": 3
   },
   "file_extension": ".py",
   "mimetype": "text/x-python",
   "name": "python",
   "nbconvert_exporter": "python",
   "pygments_lexer": "ipython3",
   "version": "3.9.12"
  }
 },
 "nbformat": 4,
 "nbformat_minor": 1
}
