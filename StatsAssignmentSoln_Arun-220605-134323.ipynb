{
  "nbformat": 4,
  "nbformat_minor": 0,
  "metadata": {
    "colab": {
      "name": "StatsAssignmentSoln_Arun.ipynb",
      "provenance": []
    },
    "kernelspec": {
      "name": "python3",
      "display_name": "Python 3"
    },
    "language_info": {
      "name": "python"
    }
  },
  "cells": [
    {
      "cell_type": "markdown",
      "source": [
        "Question 1: Create a function that calculates mean of a list of numbers.\n",
        "For example, you entered [10, 20, 30, 40, 50, 60, 70, 80, 90, 100].\n",
        "\n",
        "The value returned will be Mean: 55.0."
      ],
      "metadata": {
        "id": "y41CHy3-736G"
      }
    },
    {
      "cell_type": "code",
      "source": [
        "import statistics"
      ],
      "metadata": {
        "id": "OuDVziIH76cy"
      },
      "execution_count": 1,
      "outputs": []
    },
    {
      "cell_type": "code",
      "source": [
        "# Mean\n",
        "list_1 = [10, 20, 30, 40, 50, 60, 70, 80, 90, 100]\n",
        "statistics.mean(list_1)"
      ],
      "metadata": {
        "id": "0DQCxU7879bB",
        "colab": {
          "base_uri": "https://localhost:8080/"
        },
        "outputId": "18c3b96e-7f5a-4c5c-9ae7-49ad88d19b64"
      },
      "execution_count": 2,
      "outputs": [
        {
          "output_type": "execute_result",
          "data": {
            "text/plain": [
              "55"
            ]
          },
          "metadata": {},
          "execution_count": 2
        }
      ]
    },
    {
      "cell_type": "markdown",
      "source": [
        "Question 2: Create a function that calculates the median of a list of numbers.\n",
        "For example, you entered [1, 2, 3, 4, 5] or [1, 2, 3, 4, 5, 6].\n",
        "\n",
        "The value returned will be Median: 3 or Median: 3.5."
      ],
      "metadata": {
        "id": "8wh5sV2M8Jwu"
      }
    },
    {
      "cell_type": "code",
      "source": [
        "# Median with odd number of items\n",
        "list_oddCount = [1, 2, 3, 4, 5] \n",
        "list_evenCount = [1, 2, 3, 4, 5, 6]\n",
        "\n",
        "print(\"Median of \",list_oddCount,\" is \",statistics.median(list_oddCount))\n",
        "\n",
        "print(\"Median of \",list_evenCount,\" is \",statistics.median(list_evenCount))"
      ],
      "metadata": {
        "id": "7EqykES28Ec7",
        "colab": {
          "base_uri": "https://localhost:8080/"
        },
        "outputId": "95040ef1-982c-4dfc-8ee8-36514b9e3155"
      },
      "execution_count": 3,
      "outputs": [
        {
          "output_type": "stream",
          "name": "stdout",
          "text": [
            "Median of  [1, 2, 3, 4, 5]  is  3\n",
            "Median of  [1, 2, 3, 4, 5, 6]  is  3.5\n"
          ]
        }
      ]
    },
    {
      "cell_type": "markdown",
      "source": [
        "Question 3: Create a function that calculates the variance of a list of numbers.\n",
        "For example, you entered [4, 5, 8, 9, 10].\n",
        "\n",
        "The value returned will be Variance: 5.36."
      ],
      "metadata": {
        "id": "Nj2MXB8L8rlX"
      }
    },
    {
      "cell_type": "code",
      "source": [
        "def calVar(list_in=None):\n",
        "  \"\"\"Estimates the variance of the values\"\"\"\n",
        "\n",
        "  # Calculate mean of the list\n",
        "  mean = sum(list_in)/len(list_in)\n",
        "  \n",
        "  # Calculate variance of the list\n",
        "  variance = sum([((x - mean) ** 2) for x in list_in]) / len(list_in)\n",
        "\n",
        "  # Display the standard deviation of the list\n",
        "  print('Variance:', variance)"
      ],
      "metadata": {
        "id": "MQH6W_t7-hwk"
      },
      "execution_count": 4,
      "outputs": []
    },
    {
      "cell_type": "code",
      "source": [
        "# Variance of List\n",
        "# using statistics.variance\n",
        "import statistics\n",
        "\n",
        "list_varr = [6, 7, 3, 9, 10, 15]\n",
        "# easy way\n",
        "print(statistics.pvariance(list_varr))\n",
        "\n",
        "# using our custom function\n",
        "calVar(list_varr)"
      ],
      "metadata": {
        "id": "liieXNCY8vHP",
        "colab": {
          "base_uri": "https://localhost:8080/"
        },
        "outputId": "2c8f08e2-da70-43f0-d45d-82b08741ae6e"
      },
      "execution_count": 11,
      "outputs": [
        {
          "output_type": "stream",
          "name": "stdout",
          "text": [
            "13.88888888888889\n",
            "Variance: 13.888888888888891\n"
          ]
        }
      ]
    },
    {
      "cell_type": "code",
      "source": [
        "help(statistics.variance)"
      ],
      "metadata": {
        "id": "Wi3ksneqInP3"
      },
      "execution_count": null,
      "outputs": []
    },
    {
      "cell_type": "markdown",
      "source": [
        "Question 4: Create a function that calculates the standard deviation of a list of numbers.\n",
        "For example, you entered [4, 5, 8, 9, 10].\n",
        "\n",
        "The value returned will be STD: 2.3151673805580453."
      ],
      "metadata": {
        "id": "z3ISF3B3EGJh"
      }
    },
    {
      "cell_type": "code",
      "source": [
        "list_3 =  [4, 5, 8, 9, 10]\n",
        "statistics.pstdev(list_3)"
      ],
      "metadata": {
        "id": "szC1K6UeEHNl",
        "colab": {
          "base_uri": "https://localhost:8080/"
        },
        "outputId": "63dd129f-f65a-4cba-8bd6-c61bd0108174"
      },
      "execution_count": 8,
      "outputs": [
        {
          "output_type": "execute_result",
          "data": {
            "text/plain": [
              "2.3151673805580453"
            ]
          },
          "metadata": {},
          "execution_count": 8
        }
      ]
    },
    {
      "cell_type": "code",
      "source": [
        "statistics.stdev(list_3)"
      ],
      "metadata": {
        "colab": {
          "base_uri": "https://localhost:8080/"
        },
        "id": "CJ8FSHUJW_IQ",
        "outputId": "0041f046-25e0-436a-c9e9-81596f11a28d"
      },
      "execution_count": 9,
      "outputs": [
        {
          "output_type": "execute_result",
          "data": {
            "text/plain": [
              "2.588435821108957"
            ]
          },
          "metadata": {},
          "execution_count": 9
        }
      ]
    },
    {
      "cell_type": "code",
      "source": [
        "help(statistics.stdev)"
      ],
      "metadata": {
        "id": "13_SXupcHtox"
      },
      "execution_count": null,
      "outputs": []
    },
    {
      "cell_type": "markdown",
      "source": [
        "People = {2, 4, 1, 2, 3, 2, 4, 2, 3, 6, 8, 4, 2, 1, 7, 4, 2, 4, 4, 3}\n"
      ],
      "metadata": {
        "id": "ZJUwylAGNHaD"
      }
    },
    {
      "cell_type": "code",
      "source": [
        "import statistics\n",
        "People = [2, 4, 1, 2, 3, 2, 4, 2, 3, 6, 8, 4, 2, 1, 7, 4, 2, 4, 4, 3,3,3,3,2,2,2]\n",
        "statistics.mode(People)"
      ],
      "metadata": {
        "id": "SqgDTb6LMUj-",
        "colab": {
          "base_uri": "https://localhost:8080/"
        },
        "outputId": "23367f6b-80f0-4f6a-ee2d-afb546fd4aca"
      },
      "execution_count": 12,
      "outputs": [
        {
          "output_type": "execute_result",
          "data": {
            "text/plain": [
              "2"
            ]
          },
          "metadata": {},
          "execution_count": 12
        }
      ]
    },
    {
      "cell_type": "code",
      "source": [
        "a = (5,51)\n",
        "hash(a)"
      ],
      "metadata": {
        "id": "7iskdWIoMOm7"
      },
      "execution_count": null,
      "outputs": []
    },
    {
      "cell_type": "code",
      "source": [
        "# Find the nth root of a number\n",
        "# x ** (1/n)\n",
        "# Cube root of 27 is 3... 3*3*3 = 27\n",
        "\n",
        "27 ** (1/3)"
      ],
      "metadata": {
        "id": "_6yjzMo8vGuV"
      },
      "execution_count": null,
      "outputs": []
    }
  ]
}