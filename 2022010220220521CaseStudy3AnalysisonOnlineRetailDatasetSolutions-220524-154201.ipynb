{
 "cells": [
  {
   "cell_type": "markdown",
   "metadata": {
    "id": "E1Va-pBf5z-h"
   },
   "source": [
    "<center><img src=\"https://github.com/insaid2018/Term-1/blob/master/Images/INSAID_Full%20Logo.png?raw=true\" width=\"240\" height=\"100\" /></center>\n",
    "\n",
    "# <center><b>Analysis on Online Retail Dataset<b></center>"
   ]
  },
  {
   "cell_type": "code",
   "execution_count": null,
   "metadata": {},
   "outputs": [],
   "source": [
    "'''EDA\n",
    "(4'. Sec Data Acq)\n",
    "1. Introduction - just enough - 3 paras + 3 images.\n",
    "2. Problem statement - Objective (mathematical) - measurable MIN/MAX\n",
    "3. import libs/ system ready/excel - logistics\n",
    "4. Data Acq - primary and sec\n",
    "5. Pre profiling - check if there are any issues\n",
    " - outlier - BOXplot, describe\n",
    " - duplicates - .duplicated()\n",
    " - misssing values - .info()\n",
    " - inconstancy in dtypes - know what the type should be, info can see what it actually is.\n",
    " - typos - check for value_counts() or unique()\n",
    " - format - check by unique\n",
    "6. pre processing\n",
    " - outlier - drop - dependent of the objective - contextual\n",
    " - duplicates - .drop_duplicates() - contextual\n",
    " - misssing values - fillna(mean/median/mode) or delete the row/column.\n",
    " - inconstancy in dtypes - .astype()\n",
    " - typos - replace\n",
    " - format - replace\n",
    " 7. Post profiling - trust but verify\n",
    " 8. EDA - asking relevatn qss - 15 +-5.\n",
    " 9. Conclude - Action - PREP - point reason example point.\n",
    "\n",
    "'''"
   ]
  },
  {
   "cell_type": "markdown",
   "metadata": {
    "id": "E5avlNIo-0Mj"
   },
   "source": [
    "---\n",
    "# **Table of Contents**\n",
    "---\n",
    "\n",
    "**1.** [**Introduction**](#Section1)<br>\n",
    "**2.** [**Problem Statement**](#Section2)<br>\n",
    "**3.** [**Installing & Importing Libraries**](#Section3)<br>\n",
    "  - **3.1** [**Installing Libraries**](#Section31)\n",
    "  - **3.2** [**Upgrading Libraries**](#Section32)\n",
    "  - **3.3** [**Importing Libraries**](#Section33)\n",
    "\n",
    "**4.** [**Data Acquisition & Description**](#Section4)<br>\n",
    "  - **4.1** [**Data Description**](#Section41)\n",
    "  - **4.2** [**Data Information**](#Section42)\n",
    "\n",
    "**5.** [**Data Pre-Profiling**](#Section5)<br>\n",
    "**6.** [**Data Cleaning**](#Section6)<br>\n",
    "**7.** [**Data Post-Profiling**](#Section7)<br>\n",
    "**8.** [**Exploratory Data Analysis**](#Section8)<br>\n",
    "**9.** [**Summarization**](#Section9)<br>\n",
    "  - **9.1** [**Conclusion**](#Section91)<br>\n",
    "  - **9.2** [**Actionable Insights**](#Section92)<br>"
   ]
  },
  {
   "cell_type": "markdown",
   "metadata": {
    "id": "gn0C9hpvazb9"
   },
   "source": [
    "---\n",
    "<a name = Section1></a>\n",
    "# **1. Introduction**\n",
    "---\n",
    "\n",
    "- Recently, it has been recognized that **precision marketing** has become a key means of generating profit.\n",
    "\n",
    "- The availability of customer data and transaction records provides better understanding of customers’ **buying behaviors** and **preferences**.\n",
    "\n",
    "- In the increasingly **competitive environment**, enterprises have to create a decision-making model for precision marketing.\n",
    "\n",
    "<center><img width=50% src=\"https://image.freepik.com/free-vector/digital-marketing-advertising-infographic-white-background_18591-6516.jpg\"></center>\n",
    "\n",
    "- The case study considers a **marketing problem** where an online retailer provides different all-occasion gift products.\n",
    "\n",
    "- This case study demonstrates that our **proposed decisions** and insights are capable of providing a good **precision marketing strategy**.\n",
    "\n",
    "- The real-world data from a company in UK were collected and used in this case study to illustrate how to implement EDA."
   ]
  },
  {
   "cell_type": "markdown",
   "metadata": {
    "id": "PJrBgSePrXn_"
   },
   "source": [
    "---\n",
    "<a name = Section2></a>\n",
    "# **2. Problem Statement**\n",
    "---\n",
    "\n",
    "- **The E-Shop** is an online retail company based in the **United Kingdom** (UK) that sells **unique all-occasion gifts**.\n",
    "\n",
    "- They track online **traffic** on their website from **several countries** along with the UK on daily basis.\n",
    "\n",
    "- In 2011, they observed a **hike in online traffic** at their e-retail shop.\n",
    "\n",
    "- They plan to <font color=\"red\">**segment customers**</font> and <font color=\"red\">**target**</font> them with <font color=\"red\">**advertisements**</font> based on their past purchases.\n",
    "\n",
    "- They have hired a data scientist to guide them with the task. Let's say you are the data scientist they have approached.\n",
    "\n",
    "- You have to analyze their **transactional data** from December 2010 to December 2011.\n",
    "\n",
    "- You have to present an **initial investigation** on this data to check for various patterns, unusual transactions, cancellations, and bulk orders.\n",
    "\n",
    "- This would be a **leading step** to help the company form proper customer segments.\n",
    "\n"
   ]
  },
  {
   "cell_type": "markdown",
   "metadata": {
    "id": "XTpc1vFWx3bM"
   },
   "source": [
    "---\n",
    "<a name = Section3></a>\n",
    "# **3. Installing and Importing Libraries**\n",
    "---"
   ]
  },
  {
   "cell_type": "markdown",
   "metadata": {
    "id": "3gZ2Kcpa2qKf"
   },
   "source": [
    "<a name = Section31></a>\n",
    "### **3.1 Installing Libraries**"
   ]
  },
  {
   "cell_type": "code",
   "execution_count": null,
   "metadata": {
    "colab": {
     "base_uri": "https://localhost:8080/"
    },
    "id": "AbDgjFOf2wE8",
    "outputId": "3ccf2774-b564-46a9-8891-79797b466ad6"
   },
   "outputs": [
    {
     "name": "stdout",
     "output_type": "stream",
     "text": [
      "\u001b[K     |████████████████████████████████| 71kB 6.3MB/s \n",
      "\u001b[?25h  Building wheel for folium (setup.py) ... \u001b[?25l\u001b[?25hdone\n"
     ]
    }
   ],
   "source": [
    "!pip install -q datascience                                         # A package that is required by pandas-profiling library\n",
    "!pip install -q pandas-profiling                                    # A library to generate basic statistics about data"
   ]
  },
  {
   "cell_type": "markdown",
   "metadata": {
    "id": "gpcvti9Y9n0O"
   },
   "source": [
    "<a name = Section32></a>\n",
    "### **3.2 Upgrading Libraries**\n",
    "\n",
    "- **After upgrading** the libraries, you need to **restart the runtime** to make the libraries in sync. \n",
    "\n",
    "- Make sure **not to execute** the cell above (3.1) and below (3.2) again after restarting the runtime."
   ]
  },
  {
   "cell_type": "code",
   "execution_count": null,
   "metadata": {
    "colab": {
     "base_uri": "https://localhost:8080/"
    },
    "id": "P9ISYkco90wK",
    "outputId": "94863793-7688-47e5-b9ca-f81dd787c1d5"
   },
   "outputs": [
    {
     "name": "stdout",
     "output_type": "stream",
     "text": [
      "\u001b[K     |████████████████████████████████| 256kB 27.2MB/s \n",
      "\u001b[K     |████████████████████████████████| 3.1MB 31.9MB/s \n",
      "\u001b[K     |████████████████████████████████| 1.1MB 36.7MB/s \n",
      "\u001b[K     |████████████████████████████████| 61kB 6.6MB/s \n",
      "\u001b[K     |████████████████████████████████| 112kB 41.1MB/s \n",
      "\u001b[K     |████████████████████████████████| 645kB 33.8MB/s \n",
      "\u001b[K     |████████████████████████████████| 10.1MB 32.8MB/s \n",
      "\u001b[K     |████████████████████████████████| 81kB 9.2MB/s \n",
      "\u001b[K     |████████████████████████████████| 296kB 53.2MB/s \n",
      "\u001b[?25h  Building wheel for phik (setup.py) ... \u001b[?25l\u001b[?25hdone\n",
      "  Building wheel for htmlmin (setup.py) ... \u001b[?25l\u001b[?25hdone\n",
      "\u001b[31mERROR: google-colab 1.0.0 has requirement requests~=2.23.0, but you'll have requests 2.25.1 which is incompatible.\u001b[0m\n",
      "\u001b[31mERROR: phik 0.11.2 has requirement scipy>=1.5.2, but you'll have scipy 1.4.1 which is incompatible.\u001b[0m\n"
     ]
    }
   ],
   "source": [
    "!pip install -q --upgrade pandas-profiling"
   ]
  },
  {
   "cell_type": "markdown",
   "metadata": {
    "id": "e896j43s-DDT"
   },
   "source": [
    "<a name = Section33></a>\n",
    "### **3.3 Importing Libraries**"
   ]
  },
  {
   "cell_type": "code",
   "execution_count": 1,
   "metadata": {
    "id": "sFmPv8a9-E6a"
   },
   "outputs": [],
   "source": [
    "#-------------------------------------------------------------------------------------------------------------------------------\n",
    "import pandas as pd                                                 # Importing for panel data analysis\n",
    "from pandas_profiling import ProfileReport                          # Importing Pandas Profiling (To generate Univariate Analysis)\n",
    "\n",
    "#-------------------------------------------------------------------------------------------------------------------------------\n",
    "import numpy as np                                                  # Importing package numpys (For Numerical Python)\n",
    "#-------------------------------------------------------------------------------------------------------------------------------\n",
    "import matplotlib.pyplot as plt                                     # Importing pyplot interface of matplotlib\n",
    "import seaborn as sns                                               # Importing seaborn library for interactive visualization\n",
    "%matplotlib inline\n",
    "#-------------------------------------------------------------------------------------------------------------------------------\n",
    "import datetime                                                     # For datetime operations\n",
    "#-------------------------------------------------------------------------------------------------------------------------------\n",
    "import warnings                                                     # Importing warning to disable runtime warnings\n",
    "warnings.filterwarnings(\"ignore\")                                   # Warnings will appear only once"
   ]
  },
  {
   "cell_type": "markdown",
   "metadata": {
    "id": "yAZ3-pPJrZ3z"
   },
   "source": [
    "---\n",
    "<a name = Section4></a>\n",
    "# **4. Data Acquisition & Description**\n",
    "---\n",
    "\n",
    "\n",
    "- The dataset consists of information about the customers, transactions, and products of an online retail site.\n",
    "\n",
    "| Records | Features | Dataset Size |\n",
    "| :--: | :--: | :--: |\n",
    "| 541909 | 8 | 22.6 MB | \n",
    "\n",
    "<br>\n",
    "\n",
    "| # | Feature Name | Feature Description |\n",
    "|:--:|:--|:--| \n",
    "|1| InvoiceNo | A 6-digit number uniquely assigned to each transaction. 'C' in the beginning indicates a Cancellation |\n",
    "|2|StockCode | Product Code, a 5-digit number uniquely assigned to each distinct product |\n",
    "|3| Description |\tProduct (item) Name |\n",
    "|4| Quantity |\tThe quantities of each product (item) per transaction |\n",
    "|5| InvoiceDate |\tThe day and time when each transaction was generated |\n",
    "|6| UnitPrice |\tProduct price per unit in Sterling |\n",
    "|7| CustomerID |\tA 5-digit number uniquely assigned to each customer |\n",
    "|8| Country |\tThe name of the country where each customer resides |"
   ]
  },
  {
   "cell_type": "code",
   "execution_count": 2,
   "metadata": {
    "colab": {
     "base_uri": "https://localhost:8080/",
     "height": 224
    },
    "id": "BbQr5YaJwnl6",
    "outputId": "7e988cb7-add1-421f-a9bd-b8781a06399d",
    "scrolled": true
   },
   "outputs": [
    {
     "name": "stdout",
     "output_type": "stream",
     "text": [
      "Shape of the dataset: (541909, 8)\n"
     ]
    },
    {
     "data": {
      "text/html": [
       "<div>\n",
       "<style scoped>\n",
       "    .dataframe tbody tr th:only-of-type {\n",
       "        vertical-align: middle;\n",
       "    }\n",
       "\n",
       "    .dataframe tbody tr th {\n",
       "        vertical-align: top;\n",
       "    }\n",
       "\n",
       "    .dataframe thead th {\n",
       "        text-align: right;\n",
       "    }\n",
       "</style>\n",
       "<table border=\"1\" class=\"dataframe\">\n",
       "  <thead>\n",
       "    <tr style=\"text-align: right;\">\n",
       "      <th></th>\n",
       "      <th>InvoiceNo</th>\n",
       "      <th>StockCode</th>\n",
       "      <th>Description</th>\n",
       "      <th>Quantity</th>\n",
       "      <th>InvoiceDate</th>\n",
       "      <th>UnitPrice</th>\n",
       "      <th>CustomerID</th>\n",
       "      <th>Country</th>\n",
       "    </tr>\n",
       "  </thead>\n",
       "  <tbody>\n",
       "    <tr>\n",
       "      <th>0</th>\n",
       "      <td>536365</td>\n",
       "      <td>85123A</td>\n",
       "      <td>WHITE HANGING HEART T-LIGHT HOLDER</td>\n",
       "      <td>6</td>\n",
       "      <td>2010-12-01 08:26:00</td>\n",
       "      <td>2.55</td>\n",
       "      <td>17850.0</td>\n",
       "      <td>United Kingdom</td>\n",
       "    </tr>\n",
       "    <tr>\n",
       "      <th>1</th>\n",
       "      <td>536365</td>\n",
       "      <td>71053</td>\n",
       "      <td>WHITE METAL LANTERN</td>\n",
       "      <td>6</td>\n",
       "      <td>2010-12-01 08:26:00</td>\n",
       "      <td>3.39</td>\n",
       "      <td>17850.0</td>\n",
       "      <td>United Kingdom</td>\n",
       "    </tr>\n",
       "    <tr>\n",
       "      <th>2</th>\n",
       "      <td>536365</td>\n",
       "      <td>84406B</td>\n",
       "      <td>CREAM CUPID HEARTS COAT HANGER</td>\n",
       "      <td>8</td>\n",
       "      <td>2010-12-01 08:26:00</td>\n",
       "      <td>2.75</td>\n",
       "      <td>17850.0</td>\n",
       "      <td>United Kingdom</td>\n",
       "    </tr>\n",
       "    <tr>\n",
       "      <th>3</th>\n",
       "      <td>536365</td>\n",
       "      <td>84029G</td>\n",
       "      <td>KNITTED UNION FLAG HOT WATER BOTTLE</td>\n",
       "      <td>6</td>\n",
       "      <td>2010-12-01 08:26:00</td>\n",
       "      <td>3.39</td>\n",
       "      <td>17850.0</td>\n",
       "      <td>United Kingdom</td>\n",
       "    </tr>\n",
       "    <tr>\n",
       "      <th>4</th>\n",
       "      <td>536365</td>\n",
       "      <td>84029E</td>\n",
       "      <td>RED WOOLLY HOTTIE WHITE HEART.</td>\n",
       "      <td>6</td>\n",
       "      <td>2010-12-01 08:26:00</td>\n",
       "      <td>3.39</td>\n",
       "      <td>17850.0</td>\n",
       "      <td>United Kingdom</td>\n",
       "    </tr>\n",
       "  </tbody>\n",
       "</table>\n",
       "</div>"
      ],
      "text/plain": [
       "  InvoiceNo StockCode                          Description  Quantity  \\\n",
       "0    536365    85123A   WHITE HANGING HEART T-LIGHT HOLDER         6   \n",
       "1    536365     71053                  WHITE METAL LANTERN         6   \n",
       "2    536365    84406B       CREAM CUPID HEARTS COAT HANGER         8   \n",
       "3    536365    84029G  KNITTED UNION FLAG HOT WATER BOTTLE         6   \n",
       "4    536365    84029E       RED WOOLLY HOTTIE WHITE HEART.         6   \n",
       "\n",
       "          InvoiceDate  UnitPrice  CustomerID         Country  \n",
       "0 2010-12-01 08:26:00       2.55     17850.0  United Kingdom  \n",
       "1 2010-12-01 08:26:00       3.39     17850.0  United Kingdom  \n",
       "2 2010-12-01 08:26:00       2.75     17850.0  United Kingdom  \n",
       "3 2010-12-01 08:26:00       3.39     17850.0  United Kingdom  \n",
       "4 2010-12-01 08:26:00       3.39     17850.0  United Kingdom  "
      ]
     },
     "execution_count": 2,
     "metadata": {},
     "output_type": "execute_result"
    }
   ],
   "source": [
    "data = pd.read_excel(io='https://github.com/insaid2018/Term-1/blob/master/Data/Casestudy/online_retail.xlsx?raw=true')\n",
    "print('Shape of the dataset:', data.shape)\n",
    "data.head()"
   ]
  },
  {
   "cell_type": "code",
   "execution_count": 4,
   "metadata": {
    "scrolled": true
   },
   "outputs": [
    {
     "name": "stdout",
     "output_type": "stream",
     "text": [
      "<class 'pandas.core.frame.DataFrame'>\n",
      "RangeIndex: 541909 entries, 0 to 541908\n",
      "Data columns (total 8 columns):\n",
      " #   Column       Non-Null Count   Dtype         \n",
      "---  ------       --------------   -----         \n",
      " 0   InvoiceNo    541909 non-null  object        \n",
      " 1   StockCode    541909 non-null  object        \n",
      " 2   Description  540455 non-null  object        \n",
      " 3   Quantity     541909 non-null  int64         \n",
      " 4   InvoiceDate  541909 non-null  datetime64[ns]\n",
      " 5   UnitPrice    541909 non-null  float64       \n",
      " 6   CustomerID   406829 non-null  float64       \n",
      " 7   Country      541909 non-null  object        \n",
      "dtypes: datetime64[ns](1), float64(2), int64(1), object(4)\n",
      "memory usage: 33.1+ MB\n"
     ]
    }
   ],
   "source": [
    "data.info()"
   ]
  },
  {
   "cell_type": "code",
   "execution_count": 5,
   "metadata": {},
   "outputs": [
    {
     "data": {
      "text/plain": [
       "\"\\n1. missing values in Description - delete the column\\n2. cust id - float - type casting to object\\n3. cust id missing - replace with ('guest' + invoice_no) #every guest just visits onces\\n\""
      ]
     },
     "execution_count": 5,
     "metadata": {},
     "output_type": "execute_result"
    }
   ],
   "source": [
    "'''\n",
    "1. missing values in Description - delete the column\n",
    "2. cust id - float - type casting to object\n",
    "3. cust id missing - replace with ('guest') #every guest just visits onces\n",
    "'''"
   ]
  },
  {
   "cell_type": "markdown",
   "metadata": {
    "id": "jTHzKhlGbZN5"
   },
   "source": [
    "<a name = Section41></a>\n",
    "### **4.1 Data Description**\n",
    "\n",
    "- In this section we will get **information about the data** and see some observations."
   ]
  },
  {
   "cell_type": "code",
   "execution_count": 6,
   "metadata": {
    "colab": {
     "base_uri": "https://localhost:8080/",
     "height": 299
    },
    "id": "5WOdH51iaobL",
    "outputId": "13bfc7ff-c193-446f-db6a-b6bc4c2f6dff",
    "scrolled": false
   },
   "outputs": [
    {
     "data": {
      "text/html": [
       "<div>\n",
       "<style scoped>\n",
       "    .dataframe tbody tr th:only-of-type {\n",
       "        vertical-align: middle;\n",
       "    }\n",
       "\n",
       "    .dataframe tbody tr th {\n",
       "        vertical-align: top;\n",
       "    }\n",
       "\n",
       "    .dataframe thead th {\n",
       "        text-align: right;\n",
       "    }\n",
       "</style>\n",
       "<table border=\"1\" class=\"dataframe\">\n",
       "  <thead>\n",
       "    <tr style=\"text-align: right;\">\n",
       "      <th></th>\n",
       "      <th>Quantity</th>\n",
       "      <th>UnitPrice</th>\n",
       "      <th>CustomerID</th>\n",
       "    </tr>\n",
       "  </thead>\n",
       "  <tbody>\n",
       "    <tr>\n",
       "      <th>count</th>\n",
       "      <td>541909.000000</td>\n",
       "      <td>541909.000000</td>\n",
       "      <td>406829.000000</td>\n",
       "    </tr>\n",
       "    <tr>\n",
       "      <th>mean</th>\n",
       "      <td>9.552250</td>\n",
       "      <td>4.611114</td>\n",
       "      <td>15287.690570</td>\n",
       "    </tr>\n",
       "    <tr>\n",
       "      <th>std</th>\n",
       "      <td>218.081158</td>\n",
       "      <td>96.759853</td>\n",
       "      <td>1713.600303</td>\n",
       "    </tr>\n",
       "    <tr>\n",
       "      <th>min</th>\n",
       "      <td>-80995.000000</td>\n",
       "      <td>-11062.060000</td>\n",
       "      <td>12346.000000</td>\n",
       "    </tr>\n",
       "    <tr>\n",
       "      <th>25%</th>\n",
       "      <td>1.000000</td>\n",
       "      <td>1.250000</td>\n",
       "      <td>13953.000000</td>\n",
       "    </tr>\n",
       "    <tr>\n",
       "      <th>50%</th>\n",
       "      <td>3.000000</td>\n",
       "      <td>2.080000</td>\n",
       "      <td>15152.000000</td>\n",
       "    </tr>\n",
       "    <tr>\n",
       "      <th>75%</th>\n",
       "      <td>10.000000</td>\n",
       "      <td>4.130000</td>\n",
       "      <td>16791.000000</td>\n",
       "    </tr>\n",
       "    <tr>\n",
       "      <th>max</th>\n",
       "      <td>80995.000000</td>\n",
       "      <td>38970.000000</td>\n",
       "      <td>18287.000000</td>\n",
       "    </tr>\n",
       "  </tbody>\n",
       "</table>\n",
       "</div>"
      ],
      "text/plain": [
       "            Quantity      UnitPrice     CustomerID\n",
       "count  541909.000000  541909.000000  406829.000000\n",
       "mean        9.552250       4.611114   15287.690570\n",
       "std       218.081158      96.759853    1713.600303\n",
       "min    -80995.000000  -11062.060000   12346.000000\n",
       "25%         1.000000       1.250000   13953.000000\n",
       "50%         3.000000       2.080000   15152.000000\n",
       "75%        10.000000       4.130000   16791.000000\n",
       "max     80995.000000   38970.000000   18287.000000"
      ]
     },
     "execution_count": 6,
     "metadata": {},
     "output_type": "execute_result"
    }
   ],
   "source": [
    "data.describe()"
   ]
  },
  {
   "cell_type": "code",
   "execution_count": null,
   "metadata": {},
   "outputs": [],
   "source": [
    "'''\n",
    "1. Quantity - there are outliers, we can study their validity.\n",
    "2. unit price - negative - study, absolute value.\n",
    "3. unit price - outliers - study, drop is needed.\n",
    "'''"
   ]
  },
  {
   "cell_type": "code",
   "execution_count": 7,
   "metadata": {},
   "outputs": [],
   "source": [
    "# 1.missng value in description\n",
    "# delete\n",
    "\n",
    "data.drop('Description', axis = 1, inplace = True)"
   ]
  },
  {
   "cell_type": "code",
   "execution_count": 8,
   "metadata": {},
   "outputs": [],
   "source": [
    "data['CustomerID'] = data['CustomerID'].fillna(0)"
   ]
  },
  {
   "cell_type": "code",
   "execution_count": 9,
   "metadata": {},
   "outputs": [
    {
     "name": "stdout",
     "output_type": "stream",
     "text": [
      "<class 'pandas.core.frame.DataFrame'>\n",
      "RangeIndex: 541909 entries, 0 to 541908\n",
      "Data columns (total 7 columns):\n",
      " #   Column       Non-Null Count   Dtype         \n",
      "---  ------       --------------   -----         \n",
      " 0   InvoiceNo    541909 non-null  object        \n",
      " 1   StockCode    541909 non-null  object        \n",
      " 2   Quantity     541909 non-null  int64         \n",
      " 3   InvoiceDate  541909 non-null  datetime64[ns]\n",
      " 4   UnitPrice    541909 non-null  float64       \n",
      " 5   CustomerID   541909 non-null  float64       \n",
      " 6   Country      541909 non-null  object        \n",
      "dtypes: datetime64[ns](1), float64(2), int64(1), object(3)\n",
      "memory usage: 28.9+ MB\n"
     ]
    }
   ],
   "source": [
    "data.info()"
   ]
  },
  {
   "cell_type": "code",
   "execution_count": 49,
   "metadata": {},
   "outputs": [],
   "source": [
    "# 2. cust id - float - type casting to object\n",
    "\n",
    "data['CustomerID'] = data['CustomerID'].astype(int).astype('str')"
   ]
  },
  {
   "cell_type": "code",
   "execution_count": 29,
   "metadata": {
    "scrolled": true
   },
   "outputs": [
    {
     "name": "stdout",
     "output_type": "stream",
     "text": [
      "<class 'pandas.core.frame.DataFrame'>\n",
      "RangeIndex: 541909 entries, 0 to 541908\n",
      "Data columns (total 7 columns):\n",
      " #   Column       Non-Null Count   Dtype         \n",
      "---  ------       --------------   -----         \n",
      " 0   InvoiceNo    541909 non-null  object        \n",
      " 1   StockCode    541909 non-null  object        \n",
      " 2   Quantity     541909 non-null  int64         \n",
      " 3   InvoiceDate  541909 non-null  datetime64[ns]\n",
      " 4   UnitPrice    541909 non-null  float64       \n",
      " 5   CustomerID   541909 non-null  object        \n",
      " 6   Country      541909 non-null  object        \n",
      "dtypes: datetime64[ns](1), float64(1), int64(1), object(4)\n",
      "memory usage: 28.9+ MB\n"
     ]
    }
   ],
   "source": [
    "data.info()"
   ]
  },
  {
   "cell_type": "code",
   "execution_count": 10,
   "metadata": {},
   "outputs": [
    {
     "data": {
      "text/plain": [
       "array([17850., 13047., 12583., ..., 13298., 14569., 12713.])"
      ]
     },
     "execution_count": 10,
     "metadata": {},
     "output_type": "execute_result"
    }
   ],
   "source": [
    "data['CustomerID'].unique()"
   ]
  },
  {
   "cell_type": "code",
   "execution_count": 11,
   "metadata": {},
   "outputs": [
    {
     "data": {
      "text/plain": [
       "'deepshwadhwani'"
      ]
     },
     "execution_count": 11,
     "metadata": {},
     "output_type": "execute_result"
    }
   ],
   "source": [
    "'deepsh' + 'wadhwani'"
   ]
  },
  {
   "cell_type": "code",
   "execution_count": 41,
   "metadata": {},
   "outputs": [
    {
     "data": {
      "text/plain": [
       "0         guest_536365\n",
       "1         guest_536365\n",
       "2         guest_536365\n",
       "3         guest_536365\n",
       "4         guest_536365\n",
       "              ...     \n",
       "541904    guest_581587\n",
       "541905    guest_581587\n",
       "541906    guest_581587\n",
       "541907    guest_581587\n",
       "541908    guest_581587\n",
       "Name: InvoiceNo, Length: 541909, dtype: object"
      ]
     },
     "execution_count": 41,
     "metadata": {},
     "output_type": "execute_result"
    }
   ],
   "source": [
    "#'guest_' + data['InvoiceNo'].astype('str')"
   ]
  },
  {
   "cell_type": "code",
   "execution_count": 56,
   "metadata": {},
   "outputs": [],
   "source": [
    "#data[data['CustomerID']==0]['CustomerID'] = 'guest_' + data[data['CustomerID']==0]['InvoiceNo'].astype('str')"
   ]
  },
  {
   "cell_type": "code",
   "execution_count": 57,
   "metadata": {
    "scrolled": true
   },
   "outputs": [
    {
     "data": {
      "text/html": [
       "<div>\n",
       "<style scoped>\n",
       "    .dataframe tbody tr th:only-of-type {\n",
       "        vertical-align: middle;\n",
       "    }\n",
       "\n",
       "    .dataframe tbody tr th {\n",
       "        vertical-align: top;\n",
       "    }\n",
       "\n",
       "    .dataframe thead th {\n",
       "        text-align: right;\n",
       "    }\n",
       "</style>\n",
       "<table border=\"1\" class=\"dataframe\">\n",
       "  <thead>\n",
       "    <tr style=\"text-align: right;\">\n",
       "      <th></th>\n",
       "      <th>InvoiceNo</th>\n",
       "      <th>StockCode</th>\n",
       "      <th>Quantity</th>\n",
       "      <th>InvoiceDate</th>\n",
       "      <th>UnitPrice</th>\n",
       "      <th>CustomerID</th>\n",
       "      <th>Country</th>\n",
       "    </tr>\n",
       "  </thead>\n",
       "  <tbody>\n",
       "  </tbody>\n",
       "</table>\n",
       "</div>"
      ],
      "text/plain": [
       "Empty DataFrame\n",
       "Columns: [InvoiceNo, StockCode, Quantity, InvoiceDate, UnitPrice, CustomerID, Country]\n",
       "Index: []"
      ]
     },
     "execution_count": 57,
     "metadata": {},
     "output_type": "execute_result"
    }
   ],
   "source": [
    "#data[data['CustomerID'].str[0]=='g']"
   ]
  },
  {
   "cell_type": "code",
   "execution_count": 12,
   "metadata": {},
   "outputs": [
    {
     "data": {
      "text/plain": [
       "437603        0.0\n",
       "261044        0.0\n",
       "261045        0.0\n",
       "261046        0.0\n",
       "261047        0.0\n",
       "           ...   \n",
       "198739    18287.0\n",
       "198738    18287.0\n",
       "198737    18287.0\n",
       "198743    18287.0\n",
       "392725    18287.0\n",
       "Name: CustomerID, Length: 541909, dtype: float64"
      ]
     },
     "execution_count": 12,
     "metadata": {},
     "output_type": "execute_result"
    }
   ],
   "source": [
    "data['CustomerID'].sort_values()"
   ]
  },
  {
   "cell_type": "code",
   "execution_count": null,
   "metadata": {},
   "outputs": [],
   "source": []
  },
  {
   "cell_type": "code",
   "execution_count": 58,
   "metadata": {
    "scrolled": true
   },
   "outputs": [
    {
     "name": "stdout",
     "output_type": "stream",
     "text": [
      "<class 'pandas.core.frame.DataFrame'>\n",
      "RangeIndex: 541909 entries, 0 to 541908\n",
      "Data columns (total 7 columns):\n",
      " #   Column       Non-Null Count   Dtype         \n",
      "---  ------       --------------   -----         \n",
      " 0   InvoiceNo    541909 non-null  object        \n",
      " 1   StockCode    541909 non-null  object        \n",
      " 2   Quantity     541909 non-null  int64         \n",
      " 3   InvoiceDate  541909 non-null  datetime64[ns]\n",
      " 4   UnitPrice    541909 non-null  float64       \n",
      " 5   CustomerID   541909 non-null  object        \n",
      " 6   Country      541909 non-null  object        \n",
      "dtypes: datetime64[ns](1), float64(1), int64(1), object(4)\n",
      "memory usage: 28.9+ MB\n"
     ]
    }
   ],
   "source": [
    "data.info()"
   ]
  },
  {
   "cell_type": "code",
   "execution_count": 13,
   "metadata": {},
   "outputs": [
    {
     "data": {
      "text/plain": [
       "count    541909.000000\n",
       "mean          9.552250\n",
       "std         218.081158\n",
       "min      -80995.000000\n",
       "25%           1.000000\n",
       "50%           3.000000\n",
       "75%          10.000000\n",
       "max       80995.000000\n",
       "Name: Quantity, dtype: float64"
      ]
     },
     "execution_count": 13,
     "metadata": {},
     "output_type": "execute_result"
    }
   ],
   "source": [
    "# 4. Quantity - there are outliers, we can study their validity.\n",
    "\n",
    "data['Quantity'].describe()"
   ]
  },
  {
   "cell_type": "code",
   "execution_count": 62,
   "metadata": {},
   "outputs": [
    {
     "name": "stdout",
     "output_type": "stream",
     "text": [
      "Low range  : -12.5 \n",
      "High range : 23.5 \n"
     ]
    }
   ],
   "source": [
    "IQR = data.Quantity.describe()['75%'] - data.Quantity.describe()['25%']\n",
    "\n",
    "low_range = data.Quantity.describe()['25%'] - 1.5*IQR\n",
    "high_range = data.Quantity.describe()['75%'] + 1.5*IQR\n",
    "\n",
    "print('Low range  : {} '.format(low_range))\n",
    "print('High range : {} '.format(high_range))\n"
   ]
  },
  {
   "cell_type": "code",
   "execution_count": 14,
   "metadata": {},
   "outputs": [],
   "source": [
    "data = data[(data['Quantity']< 5000) | (data['Quantity']> -5000)]\n"
   ]
  },
  {
   "cell_type": "code",
   "execution_count": null,
   "metadata": {},
   "outputs": [],
   "source": [
    "'''\n",
    "7. a new feature can be created = returned / expired / outgo\n",
    "8. duplicates\n",
    "'''"
   ]
  },
  {
   "cell_type": "code",
   "execution_count": null,
   "metadata": {},
   "outputs": [],
   "source": [
    "data['CustomerID'] = 'Gust_'.map(str) + data['InvoiceNo'].map(str)\n"
   ]
  },
  {
   "cell_type": "code",
   "execution_count": null,
   "metadata": {},
   "outputs": [],
   "source": []
  },
  {
   "cell_type": "markdown",
   "metadata": {
    "id": "Rtvu33c3beIA"
   },
   "source": [
    "**Observations:**\n",
    "\n",
    "- We can see the description of only three continuous features - **Quantity**,\t**UnitPrice**, and\t**CustomerID**.\n",
    "\n",
    "- The Quantity feature ranges from **-80995 to 80995 units** per transaction.\n",
    "\n",
    "- The **midspread** (middle 50%) of the feature ranges from **1 unit** to **10 units** per transaction.\n",
    "\n",
    "- The **UnitPrice** feature ranges from **-11062.06 to 38970 Sterling**. We will have to deal with the **negative price values**.\n",
    "\n",
    "- The **midspread** (middle 50%) of the feature ranges from **1.25 Sterling to 4.13 Sterling**. \n",
    "\n",
    "- Looking at the maximum value of the feature, we can see that either some products are **priced very high** or it may be misinformation.\n",
    "\n",
    "- **CustomerID** feature is an **identifier** so we won't be making any statistical observations for it. "
   ]
  },
  {
   "cell_type": "markdown",
   "metadata": {
    "id": "S5mvRKbpbjSq"
   },
   "source": [
    "<a name = Section42></a>\n",
    "### **4.2 Data Information**\n",
    "\n",
    "- In this section we will see the **information about the types of features**."
   ]
  },
  {
   "cell_type": "code",
   "execution_count": 15,
   "metadata": {
    "colab": {
     "base_uri": "https://localhost:8080/"
    },
    "id": "qqCFCElYbaZ7",
    "outputId": "4bf3bd88-d35e-4225-e33f-4c183fc7af87"
   },
   "outputs": [
    {
     "name": "stdout",
     "output_type": "stream",
     "text": [
      "<class 'pandas.core.frame.DataFrame'>\n",
      "Int64Index: 541909 entries, 0 to 541908\n",
      "Data columns (total 7 columns):\n",
      " #   Column       Non-Null Count   Dtype         \n",
      "---  ------       --------------   -----         \n",
      " 0   InvoiceNo    541909 non-null  object        \n",
      " 1   StockCode    541909 non-null  object        \n",
      " 2   Quantity     541909 non-null  int64         \n",
      " 3   InvoiceDate  541909 non-null  datetime64[ns]\n",
      " 4   UnitPrice    541909 non-null  float64       \n",
      " 5   CustomerID   541909 non-null  float64       \n",
      " 6   Country      541909 non-null  object        \n",
      "dtypes: datetime64[ns](1), float64(2), int64(1), object(3)\n",
      "memory usage: 33.1+ MB\n"
     ]
    }
   ],
   "source": [
    "data.info()"
   ]
  },
  {
   "cell_type": "markdown",
   "metadata": {
    "id": "foPoveMhbkew"
   },
   "source": [
    "**Observations:**\n",
    "\n",
    "- There are **8 features** with **5,41,908 observations**.\n",
    "\n",
    "- **Quantity** is of **int64** datatype.\n",
    "\n",
    "- **UnitPrice** and **CustomerID** are of **float64** datatype.\n",
    "\n",
    "- **InvoiceDate** is of **datetime64[ns]** datatype.\n",
    "\n",
    "- **InvoiceNo**, **StockCode**, **Description**, and **Country** are of **object** datatypes\n",
    "\n",
    "- We will have to make more sense of InvoiceNo and StockCode by exploring them further."
   ]
  },
  {
   "cell_type": "markdown",
   "metadata": {
    "id": "RIhLwaKObmSw"
   },
   "source": [
    "<a name = Section5></a>\n",
    "\n",
    "---\n",
    "# **5. Data Pre-Profiling**\n",
    "---"
   ]
  },
  {
   "cell_type": "markdown",
   "metadata": {
    "id": "qqPyw_4ubnuh"
   },
   "source": [
    "<a name = Section51></a>\n",
    "### **5.1 Pre Profiling Report**\n",
    "\n",
    "- For **quick analysis** pandas profiling is very handy.\n",
    "\n",
    "- Generates profile reports from a pandas DataFrame.\n",
    "\n",
    "- For each column **statistics** are presented in an interactive HTML report."
   ]
  },
  {
   "cell_type": "code",
   "execution_count": 16,
   "metadata": {
    "id": "ZxzDuAo5baXU"
   },
   "outputs": [
    {
     "data": {
      "application/vnd.jupyter.widget-view+json": {
       "model_id": "bf859479339c4732bb3f376ed77a618c",
       "version_major": 2,
       "version_minor": 0
      },
      "text/plain": [
       "Summarize dataset:   0%|          | 0/5 [00:00<?, ?it/s]"
      ]
     },
     "metadata": {},
     "output_type": "display_data"
    },
    {
     "data": {
      "application/vnd.jupyter.widget-view+json": {
       "model_id": "d3a1ce8a8f56429c81799015f9da1c37",
       "version_major": 2,
       "version_minor": 0
      },
      "text/plain": [
       "Generate report structure:   0%|          | 0/1 [00:00<?, ?it/s]"
      ]
     },
     "metadata": {},
     "output_type": "display_data"
    },
    {
     "data": {
      "application/vnd.jupyter.widget-view+json": {
       "model_id": "2a6f2a03f04f4675b7f2c97d1974fa94",
       "version_major": 2,
       "version_minor": 0
      },
      "text/plain": [
       "Render HTML:   0%|          | 0/1 [00:00<?, ?it/s]"
      ]
     },
     "metadata": {},
     "output_type": "display_data"
    },
    {
     "data": {
      "application/vnd.jupyter.widget-view+json": {
       "model_id": "6f42d7bd83a74b34b9e4599351dc5b97",
       "version_major": 2,
       "version_minor": 0
      },
      "text/plain": [
       "Export report to file:   0%|          | 0/1 [00:00<?, ?it/s]"
      ]
     },
     "metadata": {},
     "output_type": "display_data"
    },
    {
     "name": "stdout",
     "output_type": "stream",
     "text": [
      "Accomplished!\n"
     ]
    }
   ],
   "source": [
    "# profile = ProfileReport(df = data)\n",
    "# profile.to_file(output_file = 'Pre Profiling Report.html')\n",
    "# print('Accomplished!')"
   ]
  },
  {
   "cell_type": "markdown",
   "metadata": {
    "id": "ylhgM1C4br1B"
   },
   "source": [
    "**Observations:**\n",
    "\n",
    "- There are **8 features** with **5,41,909 observations** in the dataset.\n",
    "\n",
    "- **1,36,534 (3.1%) cells** have **missing** values.\n",
    "\n",
    "- Most of the missing values are from the **CustomerID** feature and the rest belong to the **Description** feature.\n",
    "\n",
    "- **CustomerID** feature has **24.9% of cells missing**.\n",
    "\n",
    "- Dataset has **76,627 (14.1%) duplicate rows**.\n",
    "\n",
    "- **Country** and **CustomerID** are highly **correlated** to each other.\n",
    "\n",
    "- The **UnitPrice** feature is **positively skewed**.\n",
    "\n",
    "- It also contains **2 negative values** and **2515 (0.5%) zeros**.\n",
    "\n",
    "- InvoiceNo, StockCode, and Description seem to have unsupported data types.\n",
    "\n",
    "- The dataset has **4372 unique customers** and **3684 unique products**.\n",
    "\n",
    "- The **UK** has the **highest amount of customers** followed by Germany, France, and 34 more countries."
   ]
  },
  {
   "cell_type": "markdown",
   "metadata": {
    "id": "ncoTDlnRb41I"
   },
   "source": [
    "<a name = Section6></a>\n",
    "\n",
    "---\n",
    "# **6. Data Cleaning**\n",
    "---\n",
    "\n",
    "- In this section, we will perform the **cleaning** operations over the features using information from the previous section.\n",
    "\n",
    "- We will simply **drop** the **rows** that contain **missing** values.\n",
    "\n",
    "- We will also extract **year**, **month**, **hour** and **day of the week** of the transactions."
   ]
  },
  {
   "cell_type": "code",
   "execution_count": 17,
   "metadata": {
    "colab": {
     "base_uri": "https://localhost:8080/",
     "height": 205
    },
    "id": "AmKxxW6xbaVR",
    "outputId": "30f2d0eb-fc56-45eb-8ca6-f95abad13b6c"
   },
   "outputs": [
    {
     "data": {
      "text/html": [
       "<div>\n",
       "<style scoped>\n",
       "    .dataframe tbody tr th:only-of-type {\n",
       "        vertical-align: middle;\n",
       "    }\n",
       "\n",
       "    .dataframe tbody tr th {\n",
       "        vertical-align: top;\n",
       "    }\n",
       "\n",
       "    .dataframe thead th {\n",
       "        text-align: right;\n",
       "    }\n",
       "</style>\n",
       "<table border=\"1\" class=\"dataframe\">\n",
       "  <thead>\n",
       "    <tr style=\"text-align: right;\">\n",
       "      <th></th>\n",
       "      <th>InvoiceNo</th>\n",
       "      <th>StockCode</th>\n",
       "      <th>Quantity</th>\n",
       "      <th>InvoiceDate</th>\n",
       "      <th>UnitPrice</th>\n",
       "      <th>CustomerID</th>\n",
       "      <th>Country</th>\n",
       "      <th>year</th>\n",
       "      <th>month</th>\n",
       "      <th>hour</th>\n",
       "      <th>day</th>\n",
       "      <th>Revenue</th>\n",
       "    </tr>\n",
       "  </thead>\n",
       "  <tbody>\n",
       "    <tr>\n",
       "      <th>0</th>\n",
       "      <td>536365</td>\n",
       "      <td>85123A</td>\n",
       "      <td>6</td>\n",
       "      <td>2010-12-01 08:26:00</td>\n",
       "      <td>2.55</td>\n",
       "      <td>17850.0</td>\n",
       "      <td>United Kingdom</td>\n",
       "      <td>2010</td>\n",
       "      <td>12</td>\n",
       "      <td>8</td>\n",
       "      <td>3</td>\n",
       "      <td>15.30</td>\n",
       "    </tr>\n",
       "    <tr>\n",
       "      <th>1</th>\n",
       "      <td>536365</td>\n",
       "      <td>71053</td>\n",
       "      <td>6</td>\n",
       "      <td>2010-12-01 08:26:00</td>\n",
       "      <td>3.39</td>\n",
       "      <td>17850.0</td>\n",
       "      <td>United Kingdom</td>\n",
       "      <td>2010</td>\n",
       "      <td>12</td>\n",
       "      <td>8</td>\n",
       "      <td>3</td>\n",
       "      <td>20.34</td>\n",
       "    </tr>\n",
       "    <tr>\n",
       "      <th>2</th>\n",
       "      <td>536365</td>\n",
       "      <td>84406B</td>\n",
       "      <td>8</td>\n",
       "      <td>2010-12-01 08:26:00</td>\n",
       "      <td>2.75</td>\n",
       "      <td>17850.0</td>\n",
       "      <td>United Kingdom</td>\n",
       "      <td>2010</td>\n",
       "      <td>12</td>\n",
       "      <td>8</td>\n",
       "      <td>3</td>\n",
       "      <td>22.00</td>\n",
       "    </tr>\n",
       "    <tr>\n",
       "      <th>3</th>\n",
       "      <td>536365</td>\n",
       "      <td>84029G</td>\n",
       "      <td>6</td>\n",
       "      <td>2010-12-01 08:26:00</td>\n",
       "      <td>3.39</td>\n",
       "      <td>17850.0</td>\n",
       "      <td>United Kingdom</td>\n",
       "      <td>2010</td>\n",
       "      <td>12</td>\n",
       "      <td>8</td>\n",
       "      <td>3</td>\n",
       "      <td>20.34</td>\n",
       "    </tr>\n",
       "    <tr>\n",
       "      <th>4</th>\n",
       "      <td>536365</td>\n",
       "      <td>84029E</td>\n",
       "      <td>6</td>\n",
       "      <td>2010-12-01 08:26:00</td>\n",
       "      <td>3.39</td>\n",
       "      <td>17850.0</td>\n",
       "      <td>United Kingdom</td>\n",
       "      <td>2010</td>\n",
       "      <td>12</td>\n",
       "      <td>8</td>\n",
       "      <td>3</td>\n",
       "      <td>20.34</td>\n",
       "    </tr>\n",
       "  </tbody>\n",
       "</table>\n",
       "</div>"
      ],
      "text/plain": [
       "  InvoiceNo StockCode  Quantity         InvoiceDate  UnitPrice  CustomerID  \\\n",
       "0    536365    85123A         6 2010-12-01 08:26:00       2.55     17850.0   \n",
       "1    536365     71053         6 2010-12-01 08:26:00       3.39     17850.0   \n",
       "2    536365    84406B         8 2010-12-01 08:26:00       2.75     17850.0   \n",
       "3    536365    84029G         6 2010-12-01 08:26:00       3.39     17850.0   \n",
       "4    536365    84029E         6 2010-12-01 08:26:00       3.39     17850.0   \n",
       "\n",
       "          Country  year  month  hour  day  Revenue  \n",
       "0  United Kingdom  2010     12     8    3    15.30  \n",
       "1  United Kingdom  2010     12     8    3    20.34  \n",
       "2  United Kingdom  2010     12     8    3    22.00  \n",
       "3  United Kingdom  2010     12     8    3    20.34  \n",
       "4  United Kingdom  2010     12     8    3    20.34  "
      ]
     },
     "execution_count": 17,
     "metadata": {},
     "output_type": "execute_result"
    }
   ],
   "source": [
    "# We will start by first removing the duplicate rows\n",
    "data.drop_duplicates(inplace=True)\n",
    "\n",
    "# Dropping rows containing missing values\n",
    "data.dropna(inplace=True)\n",
    "\n",
    "# Checking for missing values again\n",
    "data.isna().sum()\n",
    "\n",
    "# Extracting Year, Month, Day and Hour for every transaction\n",
    "data['year'] = data['InvoiceDate'].dt.year\n",
    "data['month'] = data['InvoiceDate'].dt.month\n",
    "data['hour'] = data['InvoiceDate'].dt.hour\n",
    "\n",
    "# We get Monday = 0 to Sunday = 6 when we convert to day of the week.\n",
    "# We will add +1 to every day of week so we can get Monday = 1 to Sunday = 7\n",
    "data['day'] = (data['InvoiceDate'].dt.dayofweek) + 1\n",
    "\n",
    "data[\"Revenue\"] = data[\"Quantity\"] * data[\"UnitPrice\"]\n",
    "\n",
    "data.head()"
   ]
  },
  {
   "cell_type": "markdown",
   "metadata": {
    "id": "dAcB7RiTcrYf"
   },
   "source": [
    "<a name = Section7></a>\n",
    "\n",
    "---\n",
    "# **7. Data Post-Profiling**\n",
    "---\n",
    "\n",
    "- In this section, we will observe the changes after performing data pre-processing, if present."
   ]
  },
  {
   "cell_type": "code",
   "execution_count": null,
   "metadata": {
    "id": "3mqrKq6GEzFV"
   },
   "outputs": [],
   "source": [
    "# profile = ProfileReport(df = data)\n",
    "# profile.to_file(output_file = 'Post Profiling Report.html')\n",
    "# print('Accomplished!')"
   ]
  },
  {
   "cell_type": "markdown",
   "metadata": {
    "id": "sx-zlllaHMVi"
   },
   "source": [
    "**Observations**:\n",
    "\n",
    "- There are **no missing values** in the dataset.\n",
    "\n",
    "- There are **no duplicate values** in the dataset.\n",
    "\n",
    "- **Description** feature shows **high cardinality**."
   ]
  },
  {
   "cell_type": "markdown",
   "metadata": {
    "id": "qSN3rbZKwnOy"
   },
   "source": [
    "<a name = Section8></a>\n",
    "\n",
    "---\n",
    "# **8. Exploratory Data Analysis**\n",
    "---"
   ]
  },
  {
   "cell_type": "code",
   "execution_count": 18,
   "metadata": {},
   "outputs": [
    {
     "data": {
      "text/html": [
       "<div>\n",
       "<style scoped>\n",
       "    .dataframe tbody tr th:only-of-type {\n",
       "        vertical-align: middle;\n",
       "    }\n",
       "\n",
       "    .dataframe tbody tr th {\n",
       "        vertical-align: top;\n",
       "    }\n",
       "\n",
       "    .dataframe thead th {\n",
       "        text-align: right;\n",
       "    }\n",
       "</style>\n",
       "<table border=\"1\" class=\"dataframe\">\n",
       "  <thead>\n",
       "    <tr style=\"text-align: right;\">\n",
       "      <th></th>\n",
       "      <th>InvoiceNo</th>\n",
       "      <th>StockCode</th>\n",
       "      <th>Quantity</th>\n",
       "      <th>InvoiceDate</th>\n",
       "      <th>UnitPrice</th>\n",
       "      <th>CustomerID</th>\n",
       "      <th>Country</th>\n",
       "      <th>year</th>\n",
       "      <th>month</th>\n",
       "      <th>hour</th>\n",
       "      <th>day</th>\n",
       "      <th>Revenue</th>\n",
       "    </tr>\n",
       "  </thead>\n",
       "  <tbody>\n",
       "    <tr>\n",
       "      <th>0</th>\n",
       "      <td>536365</td>\n",
       "      <td>85123A</td>\n",
       "      <td>6</td>\n",
       "      <td>2010-12-01 08:26:00</td>\n",
       "      <td>2.55</td>\n",
       "      <td>17850.0</td>\n",
       "      <td>United Kingdom</td>\n",
       "      <td>2010</td>\n",
       "      <td>12</td>\n",
       "      <td>8</td>\n",
       "      <td>3</td>\n",
       "      <td>15.30</td>\n",
       "    </tr>\n",
       "    <tr>\n",
       "      <th>1</th>\n",
       "      <td>536365</td>\n",
       "      <td>71053</td>\n",
       "      <td>6</td>\n",
       "      <td>2010-12-01 08:26:00</td>\n",
       "      <td>3.39</td>\n",
       "      <td>17850.0</td>\n",
       "      <td>United Kingdom</td>\n",
       "      <td>2010</td>\n",
       "      <td>12</td>\n",
       "      <td>8</td>\n",
       "      <td>3</td>\n",
       "      <td>20.34</td>\n",
       "    </tr>\n",
       "    <tr>\n",
       "      <th>2</th>\n",
       "      <td>536365</td>\n",
       "      <td>84406B</td>\n",
       "      <td>8</td>\n",
       "      <td>2010-12-01 08:26:00</td>\n",
       "      <td>2.75</td>\n",
       "      <td>17850.0</td>\n",
       "      <td>United Kingdom</td>\n",
       "      <td>2010</td>\n",
       "      <td>12</td>\n",
       "      <td>8</td>\n",
       "      <td>3</td>\n",
       "      <td>22.00</td>\n",
       "    </tr>\n",
       "    <tr>\n",
       "      <th>3</th>\n",
       "      <td>536365</td>\n",
       "      <td>84029G</td>\n",
       "      <td>6</td>\n",
       "      <td>2010-12-01 08:26:00</td>\n",
       "      <td>3.39</td>\n",
       "      <td>17850.0</td>\n",
       "      <td>United Kingdom</td>\n",
       "      <td>2010</td>\n",
       "      <td>12</td>\n",
       "      <td>8</td>\n",
       "      <td>3</td>\n",
       "      <td>20.34</td>\n",
       "    </tr>\n",
       "    <tr>\n",
       "      <th>4</th>\n",
       "      <td>536365</td>\n",
       "      <td>84029E</td>\n",
       "      <td>6</td>\n",
       "      <td>2010-12-01 08:26:00</td>\n",
       "      <td>3.39</td>\n",
       "      <td>17850.0</td>\n",
       "      <td>United Kingdom</td>\n",
       "      <td>2010</td>\n",
       "      <td>12</td>\n",
       "      <td>8</td>\n",
       "      <td>3</td>\n",
       "      <td>20.34</td>\n",
       "    </tr>\n",
       "  </tbody>\n",
       "</table>\n",
       "</div>"
      ],
      "text/plain": [
       "  InvoiceNo StockCode  Quantity         InvoiceDate  UnitPrice  CustomerID  \\\n",
       "0    536365    85123A         6 2010-12-01 08:26:00       2.55     17850.0   \n",
       "1    536365     71053         6 2010-12-01 08:26:00       3.39     17850.0   \n",
       "2    536365    84406B         8 2010-12-01 08:26:00       2.75     17850.0   \n",
       "3    536365    84029G         6 2010-12-01 08:26:00       3.39     17850.0   \n",
       "4    536365    84029E         6 2010-12-01 08:26:00       3.39     17850.0   \n",
       "\n",
       "          Country  year  month  hour  day  Revenue  \n",
       "0  United Kingdom  2010     12     8    3    15.30  \n",
       "1  United Kingdom  2010     12     8    3    20.34  \n",
       "2  United Kingdom  2010     12     8    3    22.00  \n",
       "3  United Kingdom  2010     12     8    3    20.34  \n",
       "4  United Kingdom  2010     12     8    3    20.34  "
      ]
     },
     "execution_count": 18,
     "metadata": {},
     "output_type": "execute_result"
    }
   ],
   "source": [
    "data.head()"
   ]
  },
  {
   "cell_type": "code",
   "execution_count": null,
   "metadata": {},
   "outputs": [],
   "source": []
  },
  {
   "cell_type": "code",
   "execution_count": null,
   "metadata": {},
   "outputs": [],
   "source": [
    "'''\n",
    "15+-5 relevant questions\n",
    "\n",
    "asking question is not easy:\n",
    "1. Relevence\n",
    "2. Reasonable answering the question. - RESONABLY \n",
    "3. Vague while asking question. - SPECIFIC\n",
    "'''"
   ]
  },
  {
   "cell_type": "code",
   "execution_count": null,
   "metadata": {},
   "outputs": [],
   "source": [
    "'''\n",
    "UNI - BI - MULTI strategy (n columns)\n",
    "\n",
    "UNI - one variable at a time -  n questions\n",
    "\n",
    "BI - two variables at a time - nC2 = (n2-n)/2\n",
    "\n",
    "MULTI - > two variable at a time - 2n - 1 - n - (n2-n)/2\n",
    "--------------------------------------------------------------\n",
    "TOTAL -                           nC1 + nC2 ... + nCn = (2n - 1)\n",
    "\n",
    "\n",
    "\n",
    "'''"
   ]
  },
  {
   "cell_type": "markdown",
   "metadata": {
    "id": "vqeimsjUcUtQ"
   },
   "source": [
    "**<h4>Question:** How to cerify for cancelled transactions?</h4>\n",
    "\n",
    "- According to Section 4, feature descreption table, a cancelled transaction can be identified if the InvoiceNo begins with a 'C'"
   ]
  },
  {
   "cell_type": "code",
   "execution_count": null,
   "metadata": {
    "colab": {
     "base_uri": "https://localhost:8080/",
     "height": 224
    },
    "id": "H9rxpC4AbaST",
    "outputId": "27bc0cc0-a0e5-4d2c-fd6b-a1c66eac557c"
   },
   "outputs": [
    {
     "name": "stdout",
     "output_type": "stream",
     "text": [
      "Total number of cancelled orders: 8872\n"
     ]
    },
    {
     "data": {
      "text/html": [
       "<div>\n",
       "<style scoped>\n",
       "    .dataframe tbody tr th:only-of-type {\n",
       "        vertical-align: middle;\n",
       "    }\n",
       "\n",
       "    .dataframe tbody tr th {\n",
       "        vertical-align: top;\n",
       "    }\n",
       "\n",
       "    .dataframe thead th {\n",
       "        text-align: right;\n",
       "    }\n",
       "</style>\n",
       "<table border=\"1\" class=\"dataframe\">\n",
       "  <thead>\n",
       "    <tr style=\"text-align: right;\">\n",
       "      <th></th>\n",
       "      <th>InvoiceNo</th>\n",
       "      <th>StockCode</th>\n",
       "      <th>Description</th>\n",
       "      <th>Quantity</th>\n",
       "      <th>InvoiceDate</th>\n",
       "      <th>UnitPrice</th>\n",
       "      <th>CustomerID</th>\n",
       "      <th>Country</th>\n",
       "      <th>year</th>\n",
       "      <th>month</th>\n",
       "      <th>hour</th>\n",
       "      <th>day</th>\n",
       "      <th>Revenue</th>\n",
       "    </tr>\n",
       "  </thead>\n",
       "  <tbody>\n",
       "    <tr>\n",
       "      <th>141</th>\n",
       "      <td>C536379</td>\n",
       "      <td>D</td>\n",
       "      <td>Discount</td>\n",
       "      <td>-1</td>\n",
       "      <td>2010-12-01 09:41:00</td>\n",
       "      <td>27.50000</td>\n",
       "      <td>14527.00000</td>\n",
       "      <td>United Kingdom</td>\n",
       "      <td>2010</td>\n",
       "      <td>12</td>\n",
       "      <td>9</td>\n",
       "      <td>3</td>\n",
       "      <td>-27.50000</td>\n",
       "    </tr>\n",
       "    <tr>\n",
       "      <th>154</th>\n",
       "      <td>C536383</td>\n",
       "      <td>35004C</td>\n",
       "      <td>SET OF 3 COLOURED  FLYING DUCKS</td>\n",
       "      <td>-1</td>\n",
       "      <td>2010-12-01 09:49:00</td>\n",
       "      <td>4.65000</td>\n",
       "      <td>15311.00000</td>\n",
       "      <td>United Kingdom</td>\n",
       "      <td>2010</td>\n",
       "      <td>12</td>\n",
       "      <td>9</td>\n",
       "      <td>3</td>\n",
       "      <td>-4.65000</td>\n",
       "    </tr>\n",
       "    <tr>\n",
       "      <th>235</th>\n",
       "      <td>C536391</td>\n",
       "      <td>22556</td>\n",
       "      <td>PLASTERS IN TIN CIRCUS PARADE</td>\n",
       "      <td>-12</td>\n",
       "      <td>2010-12-01 10:24:00</td>\n",
       "      <td>1.65000</td>\n",
       "      <td>17548.00000</td>\n",
       "      <td>United Kingdom</td>\n",
       "      <td>2010</td>\n",
       "      <td>12</td>\n",
       "      <td>10</td>\n",
       "      <td>3</td>\n",
       "      <td>-19.80000</td>\n",
       "    </tr>\n",
       "    <tr>\n",
       "      <th>236</th>\n",
       "      <td>C536391</td>\n",
       "      <td>21984</td>\n",
       "      <td>PACK OF 12 PINK PAISLEY TISSUES</td>\n",
       "      <td>-24</td>\n",
       "      <td>2010-12-01 10:24:00</td>\n",
       "      <td>0.29000</td>\n",
       "      <td>17548.00000</td>\n",
       "      <td>United Kingdom</td>\n",
       "      <td>2010</td>\n",
       "      <td>12</td>\n",
       "      <td>10</td>\n",
       "      <td>3</td>\n",
       "      <td>-6.96000</td>\n",
       "    </tr>\n",
       "    <tr>\n",
       "      <th>237</th>\n",
       "      <td>C536391</td>\n",
       "      <td>21983</td>\n",
       "      <td>PACK OF 12 BLUE PAISLEY TISSUES</td>\n",
       "      <td>-24</td>\n",
       "      <td>2010-12-01 10:24:00</td>\n",
       "      <td>0.29000</td>\n",
       "      <td>17548.00000</td>\n",
       "      <td>United Kingdom</td>\n",
       "      <td>2010</td>\n",
       "      <td>12</td>\n",
       "      <td>10</td>\n",
       "      <td>3</td>\n",
       "      <td>-6.96000</td>\n",
       "    </tr>\n",
       "  </tbody>\n",
       "</table>\n",
       "</div>"
      ],
      "text/plain": [
       "    InvoiceNo StockCode                       Description  Quantity  \\\n",
       "141   C536379         D                          Discount        -1   \n",
       "154   C536383    35004C   SET OF 3 COLOURED  FLYING DUCKS        -1   \n",
       "235   C536391     22556    PLASTERS IN TIN CIRCUS PARADE        -12   \n",
       "236   C536391     21984  PACK OF 12 PINK PAISLEY TISSUES        -24   \n",
       "237   C536391     21983  PACK OF 12 BLUE PAISLEY TISSUES        -24   \n",
       "\n",
       "            InvoiceDate  UnitPrice  CustomerID         Country  year  month  \\\n",
       "141 2010-12-01 09:41:00   27.50000 14527.00000  United Kingdom  2010     12   \n",
       "154 2010-12-01 09:49:00    4.65000 15311.00000  United Kingdom  2010     12   \n",
       "235 2010-12-01 10:24:00    1.65000 17548.00000  United Kingdom  2010     12   \n",
       "236 2010-12-01 10:24:00    0.29000 17548.00000  United Kingdom  2010     12   \n",
       "237 2010-12-01 10:24:00    0.29000 17548.00000  United Kingdom  2010     12   \n",
       "\n",
       "     hour  day   Revenue  \n",
       "141     9    3 -27.50000  \n",
       "154     9    3  -4.65000  \n",
       "235    10    3 -19.80000  \n",
       "236    10    3  -6.96000  \n",
       "237    10    3  -6.96000  "
      ]
     },
     "execution_count": 72,
     "metadata": {
      "tags": []
     },
     "output_type": "execute_result"
    }
   ],
   "source": [
    "# Putting cancelled orders in a different dataframe for easier analysis\n",
    "cancelled_orders = data[data['InvoiceNo'].astype(str).str.startswith('C')]\n",
    "\n",
    "print('Total number of cancelled orders:',cancelled_orders.shape[0])\n",
    "cancelled_orders.head()"
   ]
  },
  {
   "cell_type": "markdown",
   "metadata": {
    "id": "dTnwy7-9LpQr"
   },
   "source": [
    "**Observations**:\n",
    "\n",
    "- There are **8872 cancelled transactions** in the dataset.\n",
    "\n",
    "- We can hypothesize that the Quantity column corresponding to the cancelled orders are shown as negative values."
   ]
  },
  {
   "cell_type": "markdown",
   "metadata": {
    "id": "WQ_B9WabJLSX"
   },
   "source": [
    "**<h4>Question:** Does the Quantity feature consists of negative values for cancelled orders?</h4>"
   ]
  },
  {
   "cell_type": "code",
   "execution_count": null,
   "metadata": {
    "colab": {
     "base_uri": "https://localhost:8080/"
    },
    "id": "qGl7BOjfKqAv",
    "outputId": "c5972f0b-d743-4c6e-fae1-f108b14148e0"
   },
   "outputs": [
    {
     "data": {
      "text/plain": [
       "(0, 13)"
      ]
     },
     "execution_count": 73,
     "metadata": {
      "tags": []
     },
     "output_type": "execute_result"
    }
   ],
   "source": [
    "cancelled_orders[cancelled_orders['Quantity']>=0].shape"
   ]
  },
  {
   "cell_type": "markdown",
   "metadata": {
    "id": "4UQ2M3m8SDOb"
   },
   "source": [
    "**Observations**:\n",
    "\n",
    "- Our assumption seems true.\n",
    "\n",
    "- We will **cross-check** this by **checking negative values** in Quantity feature in the entire dataset for **invoice numbers** that **don't start** with '**C**'."
   ]
  },
  {
   "cell_type": "code",
   "execution_count": null,
   "metadata": {
    "colab": {
     "base_uri": "https://localhost:8080/"
    },
    "id": "0UkckZ5gRfmK",
    "outputId": "bb5f9914-636e-40bb-fa83-0ac6e2b202cd"
   },
   "outputs": [
    {
     "data": {
      "text/plain": [
       "(8872, 13)"
      ]
     },
     "execution_count": 74,
     "metadata": {
      "tags": []
     },
     "output_type": "execute_result"
    }
   ],
   "source": [
    "data[(data['Quantity']<0) & (data['InvoiceNo'] != data['InvoiceNo'].astype(str).str.startswith('C'))].shape"
   ]
  },
  {
   "cell_type": "markdown",
   "metadata": {
    "id": "ku9AxH98RJCm"
   },
   "source": [
    "**Observations**:\n",
    "\n",
    "- We can conclude that a **negative value** in the **quantity** feature **indicates** a **cancelled order**."
   ]
  },
  {
   "cell_type": "markdown",
   "metadata": {
    "id": "G8ibAPgwJL5z"
   },
   "source": [
    "**<h4>Question**: How many total orders have been made?</h4>"
   ]
  },
  {
   "cell_type": "code",
   "execution_count": null,
   "metadata": {
    "colab": {
     "base_uri": "https://localhost:8080/"
    },
    "id": "3TcybExBKp9A",
    "outputId": "fec2504d-2c47-414d-fb25-06f71a89596f"
   },
   "outputs": [
    {
     "data": {
      "text/plain": [
       "22190"
      ]
     },
     "execution_count": 75,
     "metadata": {
      "tags": []
     },
     "output_type": "execute_result"
    }
   ],
   "source": [
    "total = data['InvoiceNo'].nunique()\n",
    "total"
   ]
  },
  {
   "cell_type": "markdown",
   "metadata": {
    "id": "hQtWVecDzZT7"
   },
   "source": [
    "**Observations**: There have been **22190 unique orders** made on the retail site."
   ]
  },
  {
   "cell_type": "markdown",
   "metadata": {
    "id": "KQCYgop2JL1r"
   },
   "source": [
    "**<h4>Question:** What is the proportion of cancelled transactions from total number of transactions?</h4>"
   ]
  },
  {
   "cell_type": "code",
   "execution_count": null,
   "metadata": {
    "colab": {
     "base_uri": "https://localhost:8080/"
    },
    "id": "V398DlrwPgC6",
    "outputId": "99c0b840-db05-44ba-df0b-ec66f8a90156"
   },
   "outputs": [
    {
     "name": "stdout",
     "output_type": "stream",
     "text": [
      "Proportion of cancelled orders is: 16.466876971608833%\n"
     ]
    }
   ],
   "source": [
    "cancelled = cancelled_orders['InvoiceNo'].nunique()\n",
    "print('Proportion of cancelled orders is: ' + str(cancelled*100/total) + '%')"
   ]
  },
  {
   "cell_type": "markdown",
   "metadata": {
    "id": "dRjJNY5AzhmG"
   },
   "source": [
    "**Observations:** Overall **16.46% orders** have been cancelled."
   ]
  },
  {
   "cell_type": "markdown",
   "metadata": {
    "id": "QRbIab9PJL-g"
   },
   "source": [
    "**<h4>Question :** What is the average number of orders placed per customer?</h4>"
   ]
  },
  {
   "cell_type": "code",
   "execution_count": null,
   "metadata": {
    "colab": {
     "base_uri": "https://localhost:8080/",
     "height": 236
    },
    "id": "IpuCSHSVKp4y",
    "outputId": "d7b3ee85-af59-4d1c-a37a-e25521872748"
   },
   "outputs": [
    {
     "data": {
      "text/html": [
       "<div>\n",
       "<style scoped>\n",
       "    .dataframe tbody tr th:only-of-type {\n",
       "        vertical-align: middle;\n",
       "    }\n",
       "\n",
       "    .dataframe tbody tr th {\n",
       "        vertical-align: top;\n",
       "    }\n",
       "\n",
       "    .dataframe thead th {\n",
       "        text-align: right;\n",
       "    }\n",
       "</style>\n",
       "<table border=\"1\" class=\"dataframe\">\n",
       "  <thead>\n",
       "    <tr style=\"text-align: right;\">\n",
       "      <th></th>\n",
       "      <th>InvoiceNo</th>\n",
       "    </tr>\n",
       "    <tr>\n",
       "      <th>CustomerID</th>\n",
       "      <th></th>\n",
       "    </tr>\n",
       "  </thead>\n",
       "  <tbody>\n",
       "    <tr>\n",
       "      <th>12346.00000</th>\n",
       "      <td>2</td>\n",
       "    </tr>\n",
       "    <tr>\n",
       "      <th>12347.00000</th>\n",
       "      <td>7</td>\n",
       "    </tr>\n",
       "    <tr>\n",
       "      <th>12348.00000</th>\n",
       "      <td>4</td>\n",
       "    </tr>\n",
       "    <tr>\n",
       "      <th>12349.00000</th>\n",
       "      <td>1</td>\n",
       "    </tr>\n",
       "    <tr>\n",
       "      <th>12350.00000</th>\n",
       "      <td>1</td>\n",
       "    </tr>\n",
       "  </tbody>\n",
       "</table>\n",
       "</div>"
      ],
      "text/plain": [
       "             InvoiceNo\n",
       "CustomerID            \n",
       "12346.00000          2\n",
       "12347.00000          7\n",
       "12348.00000          4\n",
       "12349.00000          1\n",
       "12350.00000          1"
      ]
     },
     "execution_count": 77,
     "metadata": {
      "tags": []
     },
     "output_type": "execute_result"
    }
   ],
   "source": [
    "groupby_customers = pd.DataFrame(data.groupby('CustomerID')['InvoiceNo'].nunique())\n",
    "groupby_customers.head()"
   ]
  },
  {
   "cell_type": "code",
   "execution_count": null,
   "metadata": {
    "colab": {
     "base_uri": "https://localhost:8080/",
     "height": 299
    },
    "id": "Zp1zauRSnSVV",
    "outputId": "5c5a10aa-6c17-4fc9-efb4-6ffe87a877f7"
   },
   "outputs": [
    {
     "data": {
      "text/html": [
       "<div>\n",
       "<style scoped>\n",
       "    .dataframe tbody tr th:only-of-type {\n",
       "        vertical-align: middle;\n",
       "    }\n",
       "\n",
       "    .dataframe tbody tr th {\n",
       "        vertical-align: top;\n",
       "    }\n",
       "\n",
       "    .dataframe thead th {\n",
       "        text-align: right;\n",
       "    }\n",
       "</style>\n",
       "<table border=\"1\" class=\"dataframe\">\n",
       "  <thead>\n",
       "    <tr style=\"text-align: right;\">\n",
       "      <th></th>\n",
       "      <th>InvoiceNo</th>\n",
       "    </tr>\n",
       "  </thead>\n",
       "  <tbody>\n",
       "    <tr>\n",
       "      <th>count</th>\n",
       "      <td>4372.00000</td>\n",
       "    </tr>\n",
       "    <tr>\n",
       "      <th>mean</th>\n",
       "      <td>5.07548</td>\n",
       "    </tr>\n",
       "    <tr>\n",
       "      <th>std</th>\n",
       "      <td>9.33875</td>\n",
       "    </tr>\n",
       "    <tr>\n",
       "      <th>min</th>\n",
       "      <td>1.00000</td>\n",
       "    </tr>\n",
       "    <tr>\n",
       "      <th>25%</th>\n",
       "      <td>1.00000</td>\n",
       "    </tr>\n",
       "    <tr>\n",
       "      <th>50%</th>\n",
       "      <td>3.00000</td>\n",
       "    </tr>\n",
       "    <tr>\n",
       "      <th>75%</th>\n",
       "      <td>5.00000</td>\n",
       "    </tr>\n",
       "    <tr>\n",
       "      <th>max</th>\n",
       "      <td>248.00000</td>\n",
       "    </tr>\n",
       "  </tbody>\n",
       "</table>\n",
       "</div>"
      ],
      "text/plain": [
       "       InvoiceNo\n",
       "count 4372.00000\n",
       "mean     5.07548\n",
       "std      9.33875\n",
       "min      1.00000\n",
       "25%      1.00000\n",
       "50%      3.00000\n",
       "75%      5.00000\n",
       "max    248.00000"
      ]
     },
     "execution_count": 78,
     "metadata": {
      "tags": []
     },
     "output_type": "execute_result"
    }
   ],
   "source": [
    "groupby_customers.describe()"
   ]
  },
  {
   "cell_type": "markdown",
   "metadata": {
    "id": "5p61pdLLnVPX"
   },
   "source": [
    "**Observations:**\n",
    "\n",
    "- At an average, every customer has placed around 5 orders on the website.\n",
    "\n",
    "- We will examine further how products are purchased."
   ]
  },
  {
   "cell_type": "markdown",
   "metadata": {
    "id": "RuMxKru2qGQ6"
   },
   "source": [
    "**Question:** What's the average number of unique items per order?"
   ]
  },
  {
   "cell_type": "code",
   "execution_count": null,
   "metadata": {
    "colab": {
     "base_uri": "https://localhost:8080/",
     "height": 236
    },
    "id": "r01U0HzzrN1j",
    "outputId": "44a89ce4-bc7d-482a-ffe5-17b00964527f"
   },
   "outputs": [
    {
     "data": {
      "text/html": [
       "<div>\n",
       "<style scoped>\n",
       "    .dataframe tbody tr th:only-of-type {\n",
       "        vertical-align: middle;\n",
       "    }\n",
       "\n",
       "    .dataframe tbody tr th {\n",
       "        vertical-align: top;\n",
       "    }\n",
       "\n",
       "    .dataframe thead th {\n",
       "        text-align: right;\n",
       "    }\n",
       "</style>\n",
       "<table border=\"1\" class=\"dataframe\">\n",
       "  <thead>\n",
       "    <tr style=\"text-align: right;\">\n",
       "      <th></th>\n",
       "      <th>Items</th>\n",
       "    </tr>\n",
       "    <tr>\n",
       "      <th>InvoiceNo</th>\n",
       "      <th></th>\n",
       "    </tr>\n",
       "  </thead>\n",
       "  <tbody>\n",
       "    <tr>\n",
       "      <th>536365</th>\n",
       "      <td>7</td>\n",
       "    </tr>\n",
       "    <tr>\n",
       "      <th>536366</th>\n",
       "      <td>2</td>\n",
       "    </tr>\n",
       "    <tr>\n",
       "      <th>536367</th>\n",
       "      <td>12</td>\n",
       "    </tr>\n",
       "    <tr>\n",
       "      <th>536368</th>\n",
       "      <td>4</td>\n",
       "    </tr>\n",
       "    <tr>\n",
       "      <th>536369</th>\n",
       "      <td>1</td>\n",
       "    </tr>\n",
       "  </tbody>\n",
       "</table>\n",
       "</div>"
      ],
      "text/plain": [
       "           Items\n",
       "InvoiceNo       \n",
       "536365         7\n",
       "536366         2\n",
       "536367        12\n",
       "536368         4\n",
       "536369         1"
      ]
     },
     "execution_count": 79,
     "metadata": {
      "tags": []
     },
     "output_type": "execute_result"
    }
   ],
   "source": [
    "groupby_invoice = pd.DataFrame(data.groupby(['InvoiceNo'])['StockCode'].nunique())\n",
    "groupby_invoice.columns = ['Items']\n",
    "groupby_invoice.head()"
   ]
  },
  {
   "cell_type": "code",
   "execution_count": null,
   "metadata": {
    "colab": {
     "base_uri": "https://localhost:8080/",
     "height": 299
    },
    "id": "m32dPicPq48j",
    "outputId": "2cdf6ea9-cf3b-4b81-90d5-0fed10172593"
   },
   "outputs": [
    {
     "data": {
      "text/html": [
       "<div>\n",
       "<style scoped>\n",
       "    .dataframe tbody tr th:only-of-type {\n",
       "        vertical-align: middle;\n",
       "    }\n",
       "\n",
       "    .dataframe tbody tr th {\n",
       "        vertical-align: top;\n",
       "    }\n",
       "\n",
       "    .dataframe thead th {\n",
       "        text-align: right;\n",
       "    }\n",
       "</style>\n",
       "<table border=\"1\" class=\"dataframe\">\n",
       "  <thead>\n",
       "    <tr style=\"text-align: right;\">\n",
       "      <th></th>\n",
       "      <th>Items</th>\n",
       "    </tr>\n",
       "  </thead>\n",
       "  <tbody>\n",
       "    <tr>\n",
       "      <th>count</th>\n",
       "      <td>22190.00000</td>\n",
       "    </tr>\n",
       "    <tr>\n",
       "      <th>mean</th>\n",
       "      <td>17.87657</td>\n",
       "    </tr>\n",
       "    <tr>\n",
       "      <th>std</th>\n",
       "      <td>22.87261</td>\n",
       "    </tr>\n",
       "    <tr>\n",
       "      <th>min</th>\n",
       "      <td>1.00000</td>\n",
       "    </tr>\n",
       "    <tr>\n",
       "      <th>25%</th>\n",
       "      <td>3.00000</td>\n",
       "    </tr>\n",
       "    <tr>\n",
       "      <th>50%</th>\n",
       "      <td>12.00000</td>\n",
       "    </tr>\n",
       "    <tr>\n",
       "      <th>75%</th>\n",
       "      <td>24.00000</td>\n",
       "    </tr>\n",
       "    <tr>\n",
       "      <th>max</th>\n",
       "      <td>541.00000</td>\n",
       "    </tr>\n",
       "  </tbody>\n",
       "</table>\n",
       "</div>"
      ],
      "text/plain": [
       "            Items\n",
       "count 22190.00000\n",
       "mean     17.87657\n",
       "std      22.87261\n",
       "min       1.00000\n",
       "25%       3.00000\n",
       "50%      12.00000\n",
       "75%      24.00000\n",
       "max     541.00000"
      ]
     },
     "execution_count": 80,
     "metadata": {
      "tags": []
     },
     "output_type": "execute_result"
    }
   ],
   "source": [
    "groupby_invoice.describe()"
   ]
  },
  {
   "cell_type": "markdown",
   "metadata": {
    "id": "hAga8vt7q8Cs"
   },
   "source": [
    "**Observations:**\n",
    "\n",
    "- The **average** number of **unique items per order** are around **17**.\n",
    "\n",
    "- **Majority** orders involve **less than 25** unique items.\n",
    "\n",
    "- But some orders can have **high amount** of unique items by as much as **541 items**."
   ]
  },
  {
   "cell_type": "markdown",
   "metadata": {
    "id": "QE9o6BV4s5lH"
   },
   "source": [
    "**<h4>Question:** How many products does a customer buy on an average?</h4>"
   ]
  },
  {
   "cell_type": "code",
   "execution_count": null,
   "metadata": {
    "colab": {
     "base_uri": "https://localhost:8080/",
     "height": 205
    },
    "id": "BwGD1ha0toA8",
    "outputId": "cb5186ae-8af5-44c5-a240-54cd96c23379"
   },
   "outputs": [
    {
     "data": {
      "text/html": [
       "<div>\n",
       "<style scoped>\n",
       "    .dataframe tbody tr th:only-of-type {\n",
       "        vertical-align: middle;\n",
       "    }\n",
       "\n",
       "    .dataframe tbody tr th {\n",
       "        vertical-align: top;\n",
       "    }\n",
       "\n",
       "    .dataframe thead th {\n",
       "        text-align: right;\n",
       "    }\n",
       "</style>\n",
       "<table border=\"1\" class=\"dataframe\">\n",
       "  <thead>\n",
       "    <tr style=\"text-align: right;\">\n",
       "      <th></th>\n",
       "      <th>CustomerID</th>\n",
       "      <th>Number of Products</th>\n",
       "    </tr>\n",
       "  </thead>\n",
       "  <tbody>\n",
       "    <tr>\n",
       "      <th>0</th>\n",
       "      <td>12346.00000</td>\n",
       "      <td>0</td>\n",
       "    </tr>\n",
       "    <tr>\n",
       "      <th>1</th>\n",
       "      <td>12347.00000</td>\n",
       "      <td>2458</td>\n",
       "    </tr>\n",
       "    <tr>\n",
       "      <th>2</th>\n",
       "      <td>12348.00000</td>\n",
       "      <td>2341</td>\n",
       "    </tr>\n",
       "    <tr>\n",
       "      <th>3</th>\n",
       "      <td>12349.00000</td>\n",
       "      <td>631</td>\n",
       "    </tr>\n",
       "    <tr>\n",
       "      <th>4</th>\n",
       "      <td>12350.00000</td>\n",
       "      <td>197</td>\n",
       "    </tr>\n",
       "  </tbody>\n",
       "</table>\n",
       "</div>"
      ],
      "text/plain": [
       "   CustomerID  Number of Products\n",
       "0 12346.00000                   0\n",
       "1 12347.00000                2458\n",
       "2 12348.00000                2341\n",
       "3 12349.00000                 631\n",
       "4 12350.00000                 197"
      ]
     },
     "execution_count": 81,
     "metadata": {
      "tags": []
     },
     "output_type": "execute_result"
    }
   ],
   "source": [
    "temp_df = data.groupby(['CustomerID'], as_index=False)['Quantity'].sum()\n",
    "transaction_df = temp_df.rename(columns = {'Quantity':'Number of Products'})\n",
    "transaction_df.head()"
   ]
  },
  {
   "cell_type": "markdown",
   "metadata": {
    "id": "gQcLzEAHwV_V"
   },
   "source": [
    "**Observations:**\n",
    "\n",
    "- The **zero average value** indicates that the particular customer has returned all the ordered items back.\n",
    "\n",
    "- Let's see a description of this data."
   ]
  },
  {
   "cell_type": "code",
   "execution_count": null,
   "metadata": {
    "colab": {
     "base_uri": "https://localhost:8080/",
     "height": 299
    },
    "id": "8JdBbAsCu4Bz",
    "outputId": "7dbf7b9d-8406-4efd-d2f0-47c7849ff3d0"
   },
   "outputs": [
    {
     "data": {
      "text/html": [
       "<div>\n",
       "<style scoped>\n",
       "    .dataframe tbody tr th:only-of-type {\n",
       "        vertical-align: middle;\n",
       "    }\n",
       "\n",
       "    .dataframe tbody tr th {\n",
       "        vertical-align: top;\n",
       "    }\n",
       "\n",
       "    .dataframe thead th {\n",
       "        text-align: right;\n",
       "    }\n",
       "</style>\n",
       "<table border=\"1\" class=\"dataframe\">\n",
       "  <thead>\n",
       "    <tr style=\"text-align: right;\">\n",
       "      <th></th>\n",
       "      <th>CustomerID</th>\n",
       "      <th>Number of Products</th>\n",
       "    </tr>\n",
       "  </thead>\n",
       "  <tbody>\n",
       "    <tr>\n",
       "      <th>count</th>\n",
       "      <td>4372.00000</td>\n",
       "      <td>4372.00000</td>\n",
       "    </tr>\n",
       "    <tr>\n",
       "      <th>mean</th>\n",
       "      <td>15299.67772</td>\n",
       "      <td>1119.13335</td>\n",
       "    </tr>\n",
       "    <tr>\n",
       "      <th>std</th>\n",
       "      <td>1722.39071</td>\n",
       "      <td>4672.99571</td>\n",
       "    </tr>\n",
       "    <tr>\n",
       "      <th>min</th>\n",
       "      <td>12346.00000</td>\n",
       "      <td>-303.00000</td>\n",
       "    </tr>\n",
       "    <tr>\n",
       "      <th>25%</th>\n",
       "      <td>13812.75000</td>\n",
       "      <td>151.75000</td>\n",
       "    </tr>\n",
       "    <tr>\n",
       "      <th>50%</th>\n",
       "      <td>15300.50000</td>\n",
       "      <td>364.00000</td>\n",
       "    </tr>\n",
       "    <tr>\n",
       "      <th>75%</th>\n",
       "      <td>16778.25000</td>\n",
       "      <td>956.25000</td>\n",
       "    </tr>\n",
       "    <tr>\n",
       "      <th>max</th>\n",
       "      <td>18287.00000</td>\n",
       "      <td>196719.00000</td>\n",
       "    </tr>\n",
       "  </tbody>\n",
       "</table>\n",
       "</div>"
      ],
      "text/plain": [
       "       CustomerID  Number of Products\n",
       "count  4372.00000          4372.00000\n",
       "mean  15299.67772          1119.13335\n",
       "std    1722.39071          4672.99571\n",
       "min   12346.00000          -303.00000\n",
       "25%   13812.75000           151.75000\n",
       "50%   15300.50000           364.00000\n",
       "75%   16778.25000           956.25000\n",
       "max   18287.00000        196719.00000"
      ]
     },
     "execution_count": 82,
     "metadata": {
      "tags": []
     },
     "output_type": "execute_result"
    }
   ],
   "source": [
    "transaction_df.describe()"
   ]
  },
  {
   "cell_type": "markdown",
   "metadata": {
    "id": "zixZkxyZwn9H"
   },
   "source": [
    "- **Mean** amount of products are **1119 products per customer**.\n",
    "\n",
    "- Looks like a **lot of customers** could be **wholesale businesses** and thus are **buying** the gift items in a **bulk**.\n",
    "\n",
    "- There is a negative value in the description. The number of **returns** should be **equal** to the number of **purchases**.\n",
    "\n",
    "- Let's see what does this value mean."
   ]
  },
  {
   "cell_type": "code",
   "execution_count": null,
   "metadata": {
    "colab": {
     "base_uri": "https://localhost:8080/",
     "height": 81
    },
    "id": "qx3gG0U4vWQW",
    "outputId": "d5c2c23a-77bb-4dde-ec8d-e1ccc95198c5"
   },
   "outputs": [
    {
     "data": {
      "text/html": [
       "<div>\n",
       "<style scoped>\n",
       "    .dataframe tbody tr th:only-of-type {\n",
       "        vertical-align: middle;\n",
       "    }\n",
       "\n",
       "    .dataframe tbody tr th {\n",
       "        vertical-align: top;\n",
       "    }\n",
       "\n",
       "    .dataframe thead th {\n",
       "        text-align: right;\n",
       "    }\n",
       "</style>\n",
       "<table border=\"1\" class=\"dataframe\">\n",
       "  <thead>\n",
       "    <tr style=\"text-align: right;\">\n",
       "      <th></th>\n",
       "      <th>CustomerID</th>\n",
       "      <th>Number of Products</th>\n",
       "    </tr>\n",
       "  </thead>\n",
       "  <tbody>\n",
       "    <tr>\n",
       "      <th>3103</th>\n",
       "      <td>16546.00000</td>\n",
       "      <td>-303</td>\n",
       "    </tr>\n",
       "  </tbody>\n",
       "</table>\n",
       "</div>"
      ],
      "text/plain": [
       "      CustomerID  Number of Products\n",
       "3103 16546.00000                -303"
      ]
     },
     "execution_count": 83,
     "metadata": {
      "tags": []
     },
     "output_type": "execute_result"
    }
   ],
   "source": [
    "transaction_df[transaction_df['Number of Products']==transaction_df['Number of Products'].min()]"
   ]
  },
  {
   "cell_type": "code",
   "execution_count": null,
   "metadata": {
    "colab": {
     "base_uri": "https://localhost:8080/",
     "height": 1000
    },
    "id": "eWDuvTQTvgl7",
    "outputId": "d519b6f1-317e-48d3-db42-b8be018b7fe4"
   },
   "outputs": [
    {
     "data": {
      "text/html": [
       "<div>\n",
       "<style scoped>\n",
       "    .dataframe tbody tr th:only-of-type {\n",
       "        vertical-align: middle;\n",
       "    }\n",
       "\n",
       "    .dataframe tbody tr th {\n",
       "        vertical-align: top;\n",
       "    }\n",
       "\n",
       "    .dataframe thead th {\n",
       "        text-align: right;\n",
       "    }\n",
       "</style>\n",
       "<table border=\"1\" class=\"dataframe\">\n",
       "  <thead>\n",
       "    <tr style=\"text-align: right;\">\n",
       "      <th></th>\n",
       "      <th>InvoiceNo</th>\n",
       "      <th>StockCode</th>\n",
       "      <th>Description</th>\n",
       "      <th>Quantity</th>\n",
       "      <th>InvoiceDate</th>\n",
       "      <th>UnitPrice</th>\n",
       "      <th>CustomerID</th>\n",
       "      <th>Country</th>\n",
       "      <th>year</th>\n",
       "      <th>month</th>\n",
       "      <th>hour</th>\n",
       "      <th>day</th>\n",
       "      <th>Revenue</th>\n",
       "    </tr>\n",
       "  </thead>\n",
       "  <tbody>\n",
       "    <tr>\n",
       "      <th>3721</th>\n",
       "      <td>536663</td>\n",
       "      <td>22867</td>\n",
       "      <td>HAND WARMER BIRD DESIGN</td>\n",
       "      <td>24</td>\n",
       "      <td>2010-12-02 12:07:00</td>\n",
       "      <td>2.10000</td>\n",
       "      <td>16546.00000</td>\n",
       "      <td>United Kingdom</td>\n",
       "      <td>2010</td>\n",
       "      <td>12</td>\n",
       "      <td>12</td>\n",
       "      <td>4</td>\n",
       "      <td>50.40000</td>\n",
       "    </tr>\n",
       "    <tr>\n",
       "      <th>3722</th>\n",
       "      <td>536663</td>\n",
       "      <td>22633</td>\n",
       "      <td>HAND WARMER UNION JACK</td>\n",
       "      <td>24</td>\n",
       "      <td>2010-12-02 12:07:00</td>\n",
       "      <td>2.10000</td>\n",
       "      <td>16546.00000</td>\n",
       "      <td>United Kingdom</td>\n",
       "      <td>2010</td>\n",
       "      <td>12</td>\n",
       "      <td>12</td>\n",
       "      <td>4</td>\n",
       "      <td>50.40000</td>\n",
       "    </tr>\n",
       "    <tr>\n",
       "      <th>3723</th>\n",
       "      <td>536663</td>\n",
       "      <td>22632</td>\n",
       "      <td>HAND WARMER RED RETROSPOT</td>\n",
       "      <td>24</td>\n",
       "      <td>2010-12-02 12:07:00</td>\n",
       "      <td>2.10000</td>\n",
       "      <td>16546.00000</td>\n",
       "      <td>United Kingdom</td>\n",
       "      <td>2010</td>\n",
       "      <td>12</td>\n",
       "      <td>12</td>\n",
       "      <td>4</td>\n",
       "      <td>50.40000</td>\n",
       "    </tr>\n",
       "    <tr>\n",
       "      <th>3724</th>\n",
       "      <td>536663</td>\n",
       "      <td>22910</td>\n",
       "      <td>PAPER CHAIN KIT VINTAGE CHRISTMAS</td>\n",
       "      <td>40</td>\n",
       "      <td>2010-12-02 12:07:00</td>\n",
       "      <td>2.55000</td>\n",
       "      <td>16546.00000</td>\n",
       "      <td>United Kingdom</td>\n",
       "      <td>2010</td>\n",
       "      <td>12</td>\n",
       "      <td>12</td>\n",
       "      <td>4</td>\n",
       "      <td>102.00000</td>\n",
       "    </tr>\n",
       "    <tr>\n",
       "      <th>3725</th>\n",
       "      <td>536663</td>\n",
       "      <td>22737</td>\n",
       "      <td>RIBBON REEL CHRISTMAS PRESENT</td>\n",
       "      <td>20</td>\n",
       "      <td>2010-12-02 12:07:00</td>\n",
       "      <td>1.65000</td>\n",
       "      <td>16546.00000</td>\n",
       "      <td>United Kingdom</td>\n",
       "      <td>2010</td>\n",
       "      <td>12</td>\n",
       "      <td>12</td>\n",
       "      <td>4</td>\n",
       "      <td>33.00000</td>\n",
       "    </tr>\n",
       "    <tr>\n",
       "      <th>3726</th>\n",
       "      <td>536663</td>\n",
       "      <td>22952</td>\n",
       "      <td>60 CAKE CASES VINTAGE CHRISTMAS</td>\n",
       "      <td>24</td>\n",
       "      <td>2010-12-02 12:07:00</td>\n",
       "      <td>0.55000</td>\n",
       "      <td>16546.00000</td>\n",
       "      <td>United Kingdom</td>\n",
       "      <td>2010</td>\n",
       "      <td>12</td>\n",
       "      <td>12</td>\n",
       "      <td>4</td>\n",
       "      <td>13.20000</td>\n",
       "    </tr>\n",
       "    <tr>\n",
       "      <th>4853</th>\n",
       "      <td>C536812</td>\n",
       "      <td>22578</td>\n",
       "      <td>WOODEN STAR CHRISTMAS SCANDINAVIAN</td>\n",
       "      <td>-36</td>\n",
       "      <td>2010-12-02 16:58:00</td>\n",
       "      <td>0.85000</td>\n",
       "      <td>16546.00000</td>\n",
       "      <td>United Kingdom</td>\n",
       "      <td>2010</td>\n",
       "      <td>12</td>\n",
       "      <td>16</td>\n",
       "      <td>4</td>\n",
       "      <td>-30.60000</td>\n",
       "    </tr>\n",
       "    <tr>\n",
       "      <th>4854</th>\n",
       "      <td>C536812</td>\n",
       "      <td>22574</td>\n",
       "      <td>HEART WOODEN CHRISTMAS DECORATION</td>\n",
       "      <td>-192</td>\n",
       "      <td>2010-12-02 16:58:00</td>\n",
       "      <td>0.72000</td>\n",
       "      <td>16546.00000</td>\n",
       "      <td>United Kingdom</td>\n",
       "      <td>2010</td>\n",
       "      <td>12</td>\n",
       "      <td>16</td>\n",
       "      <td>4</td>\n",
       "      <td>-138.24000</td>\n",
       "    </tr>\n",
       "    <tr>\n",
       "      <th>4855</th>\n",
       "      <td>C536812</td>\n",
       "      <td>22593</td>\n",
       "      <td>CHRISTMAS GINGHAM STAR</td>\n",
       "      <td>-144</td>\n",
       "      <td>2010-12-02 16:58:00</td>\n",
       "      <td>0.72000</td>\n",
       "      <td>16546.00000</td>\n",
       "      <td>United Kingdom</td>\n",
       "      <td>2010</td>\n",
       "      <td>12</td>\n",
       "      <td>16</td>\n",
       "      <td>4</td>\n",
       "      <td>-103.68000</td>\n",
       "    </tr>\n",
       "    <tr>\n",
       "      <th>4856</th>\n",
       "      <td>C536812</td>\n",
       "      <td>22595</td>\n",
       "      <td>CHRISTMAS GINGHAM HEART</td>\n",
       "      <td>-144</td>\n",
       "      <td>2010-12-02 16:58:00</td>\n",
       "      <td>0.72000</td>\n",
       "      <td>16546.00000</td>\n",
       "      <td>United Kingdom</td>\n",
       "      <td>2010</td>\n",
       "      <td>12</td>\n",
       "      <td>16</td>\n",
       "      <td>4</td>\n",
       "      <td>-103.68000</td>\n",
       "    </tr>\n",
       "    <tr>\n",
       "      <th>4857</th>\n",
       "      <td>C536812</td>\n",
       "      <td>22588</td>\n",
       "      <td>CARD HOLDER GINGHAM HEART</td>\n",
       "      <td>-192</td>\n",
       "      <td>2010-12-02 16:58:00</td>\n",
       "      <td>2.10000</td>\n",
       "      <td>16546.00000</td>\n",
       "      <td>United Kingdom</td>\n",
       "      <td>2010</td>\n",
       "      <td>12</td>\n",
       "      <td>16</td>\n",
       "      <td>4</td>\n",
       "      <td>-403.20000</td>\n",
       "    </tr>\n",
       "    <tr>\n",
       "      <th>4858</th>\n",
       "      <td>C536812</td>\n",
       "      <td>22130</td>\n",
       "      <td>PARTY CONE CHRISTMAS DECORATION</td>\n",
       "      <td>-144</td>\n",
       "      <td>2010-12-02 16:58:00</td>\n",
       "      <td>0.72000</td>\n",
       "      <td>16546.00000</td>\n",
       "      <td>United Kingdom</td>\n",
       "      <td>2010</td>\n",
       "      <td>12</td>\n",
       "      <td>16</td>\n",
       "      <td>4</td>\n",
       "      <td>-103.68000</td>\n",
       "    </tr>\n",
       "    <tr>\n",
       "      <th>97484</th>\n",
       "      <td>544637</td>\n",
       "      <td>22245</td>\n",
       "      <td>HOOK, 1 HANGER ,MAGIC GARDEN</td>\n",
       "      <td>12</td>\n",
       "      <td>2011-02-22 11:20:00</td>\n",
       "      <td>0.85000</td>\n",
       "      <td>16546.00000</td>\n",
       "      <td>United Kingdom</td>\n",
       "      <td>2011</td>\n",
       "      <td>2</td>\n",
       "      <td>11</td>\n",
       "      <td>2</td>\n",
       "      <td>10.20000</td>\n",
       "    </tr>\n",
       "    <tr>\n",
       "      <th>97485</th>\n",
       "      <td>544637</td>\n",
       "      <td>22251</td>\n",
       "      <td>BIRDHOUSE DECORATION MAGIC GARDEN</td>\n",
       "      <td>24</td>\n",
       "      <td>2011-02-22 11:20:00</td>\n",
       "      <td>1.25000</td>\n",
       "      <td>16546.00000</td>\n",
       "      <td>United Kingdom</td>\n",
       "      <td>2011</td>\n",
       "      <td>2</td>\n",
       "      <td>11</td>\n",
       "      <td>2</td>\n",
       "      <td>30.00000</td>\n",
       "    </tr>\n",
       "    <tr>\n",
       "      <th>97486</th>\n",
       "      <td>544637</td>\n",
       "      <td>22250</td>\n",
       "      <td>DECORATION  BUTTERFLY  MAGIC GARDEN</td>\n",
       "      <td>16</td>\n",
       "      <td>2011-02-22 11:20:00</td>\n",
       "      <td>0.85000</td>\n",
       "      <td>16546.00000</td>\n",
       "      <td>United Kingdom</td>\n",
       "      <td>2011</td>\n",
       "      <td>2</td>\n",
       "      <td>11</td>\n",
       "      <td>2</td>\n",
       "      <td>13.60000</td>\n",
       "    </tr>\n",
       "    <tr>\n",
       "      <th>97487</th>\n",
       "      <td>544637</td>\n",
       "      <td>22248</td>\n",
       "      <td>DECORATION  PINK CHICK MAGIC GARDEN</td>\n",
       "      <td>16</td>\n",
       "      <td>2011-02-22 11:20:00</td>\n",
       "      <td>0.85000</td>\n",
       "      <td>16546.00000</td>\n",
       "      <td>United Kingdom</td>\n",
       "      <td>2011</td>\n",
       "      <td>2</td>\n",
       "      <td>11</td>\n",
       "      <td>2</td>\n",
       "      <td>13.60000</td>\n",
       "    </tr>\n",
       "    <tr>\n",
       "      <th>97488</th>\n",
       "      <td>544637</td>\n",
       "      <td>22244</td>\n",
       "      <td>3 HOOK HANGER MAGIC GARDEN</td>\n",
       "      <td>12</td>\n",
       "      <td>2011-02-22 11:20:00</td>\n",
       "      <td>1.95000</td>\n",
       "      <td>16546.00000</td>\n",
       "      <td>United Kingdom</td>\n",
       "      <td>2011</td>\n",
       "      <td>2</td>\n",
       "      <td>11</td>\n",
       "      <td>2</td>\n",
       "      <td>23.40000</td>\n",
       "    </tr>\n",
       "    <tr>\n",
       "      <th>97489</th>\n",
       "      <td>544637</td>\n",
       "      <td>22720</td>\n",
       "      <td>SET OF 3 CAKE TINS PANTRY DESIGN</td>\n",
       "      <td>3</td>\n",
       "      <td>2011-02-22 11:20:00</td>\n",
       "      <td>4.95000</td>\n",
       "      <td>16546.00000</td>\n",
       "      <td>United Kingdom</td>\n",
       "      <td>2011</td>\n",
       "      <td>2</td>\n",
       "      <td>11</td>\n",
       "      <td>2</td>\n",
       "      <td>14.85000</td>\n",
       "    </tr>\n",
       "    <tr>\n",
       "      <th>97490</th>\n",
       "      <td>544637</td>\n",
       "      <td>22933</td>\n",
       "      <td>BAKING MOULD EASTER EGG MILK CHOC</td>\n",
       "      <td>18</td>\n",
       "      <td>2011-02-22 11:20:00</td>\n",
       "      <td>2.95000</td>\n",
       "      <td>16546.00000</td>\n",
       "      <td>United Kingdom</td>\n",
       "      <td>2011</td>\n",
       "      <td>2</td>\n",
       "      <td>11</td>\n",
       "      <td>2</td>\n",
       "      <td>53.10000</td>\n",
       "    </tr>\n",
       "    <tr>\n",
       "      <th>97491</th>\n",
       "      <td>544637</td>\n",
       "      <td>21976</td>\n",
       "      <td>PACK OF 60 MUSHROOM CAKE CASES</td>\n",
       "      <td>36</td>\n",
       "      <td>2011-02-22 11:20:00</td>\n",
       "      <td>0.55000</td>\n",
       "      <td>16546.00000</td>\n",
       "      <td>United Kingdom</td>\n",
       "      <td>2011</td>\n",
       "      <td>2</td>\n",
       "      <td>11</td>\n",
       "      <td>2</td>\n",
       "      <td>19.80000</td>\n",
       "    </tr>\n",
       "    <tr>\n",
       "      <th>97492</th>\n",
       "      <td>544637</td>\n",
       "      <td>21975</td>\n",
       "      <td>PACK OF 60 DINOSAUR CAKE CASES</td>\n",
       "      <td>24</td>\n",
       "      <td>2011-02-22 11:20:00</td>\n",
       "      <td>0.55000</td>\n",
       "      <td>16546.00000</td>\n",
       "      <td>United Kingdom</td>\n",
       "      <td>2011</td>\n",
       "      <td>2</td>\n",
       "      <td>11</td>\n",
       "      <td>2</td>\n",
       "      <td>13.20000</td>\n",
       "    </tr>\n",
       "    <tr>\n",
       "      <th>97493</th>\n",
       "      <td>544637</td>\n",
       "      <td>21977</td>\n",
       "      <td>PACK OF 60 PINK PAISLEY CAKE CASES</td>\n",
       "      <td>36</td>\n",
       "      <td>2011-02-22 11:20:00</td>\n",
       "      <td>0.55000</td>\n",
       "      <td>16546.00000</td>\n",
       "      <td>United Kingdom</td>\n",
       "      <td>2011</td>\n",
       "      <td>2</td>\n",
       "      <td>11</td>\n",
       "      <td>2</td>\n",
       "      <td>19.80000</td>\n",
       "    </tr>\n",
       "    <tr>\n",
       "      <th>97494</th>\n",
       "      <td>544637</td>\n",
       "      <td>22129</td>\n",
       "      <td>PARTY CONES CANDY TREE DECORATION</td>\n",
       "      <td>48</td>\n",
       "      <td>2011-02-22 11:20:00</td>\n",
       "      <td>0.85000</td>\n",
       "      <td>16546.00000</td>\n",
       "      <td>United Kingdom</td>\n",
       "      <td>2011</td>\n",
       "      <td>2</td>\n",
       "      <td>11</td>\n",
       "      <td>2</td>\n",
       "      <td>40.80000</td>\n",
       "    </tr>\n",
       "    <tr>\n",
       "      <th>97495</th>\n",
       "      <td>544637</td>\n",
       "      <td>22291</td>\n",
       "      <td>HANGING CHICK CREAM DECORATION</td>\n",
       "      <td>24</td>\n",
       "      <td>2011-02-22 11:20:00</td>\n",
       "      <td>1.45000</td>\n",
       "      <td>16546.00000</td>\n",
       "      <td>United Kingdom</td>\n",
       "      <td>2011</td>\n",
       "      <td>2</td>\n",
       "      <td>11</td>\n",
       "      <td>2</td>\n",
       "      <td>34.80000</td>\n",
       "    </tr>\n",
       "    <tr>\n",
       "      <th>97496</th>\n",
       "      <td>544637</td>\n",
       "      <td>22292</td>\n",
       "      <td>HANGING CHICK  YELLOW DECORATION</td>\n",
       "      <td>24</td>\n",
       "      <td>2011-02-22 11:20:00</td>\n",
       "      <td>1.45000</td>\n",
       "      <td>16546.00000</td>\n",
       "      <td>United Kingdom</td>\n",
       "      <td>2011</td>\n",
       "      <td>2</td>\n",
       "      <td>11</td>\n",
       "      <td>2</td>\n",
       "      <td>34.80000</td>\n",
       "    </tr>\n",
       "    <tr>\n",
       "      <th>97497</th>\n",
       "      <td>544637</td>\n",
       "      <td>22260</td>\n",
       "      <td>FELT EGG COSY BLUE RABBIT</td>\n",
       "      <td>12</td>\n",
       "      <td>2011-02-22 11:20:00</td>\n",
       "      <td>0.85000</td>\n",
       "      <td>16546.00000</td>\n",
       "      <td>United Kingdom</td>\n",
       "      <td>2011</td>\n",
       "      <td>2</td>\n",
       "      <td>11</td>\n",
       "      <td>2</td>\n",
       "      <td>10.20000</td>\n",
       "    </tr>\n",
       "    <tr>\n",
       "      <th>97498</th>\n",
       "      <td>544637</td>\n",
       "      <td>22261</td>\n",
       "      <td>FELT EGG COSY WHITE RABBIT</td>\n",
       "      <td>24</td>\n",
       "      <td>2011-02-22 11:20:00</td>\n",
       "      <td>0.85000</td>\n",
       "      <td>16546.00000</td>\n",
       "      <td>United Kingdom</td>\n",
       "      <td>2011</td>\n",
       "      <td>2</td>\n",
       "      <td>11</td>\n",
       "      <td>2</td>\n",
       "      <td>20.40000</td>\n",
       "    </tr>\n",
       "    <tr>\n",
       "      <th>97499</th>\n",
       "      <td>544637</td>\n",
       "      <td>22262</td>\n",
       "      <td>FELT EGG COSY CHICKEN</td>\n",
       "      <td>24</td>\n",
       "      <td>2011-02-22 11:20:00</td>\n",
       "      <td>0.85000</td>\n",
       "      <td>16546.00000</td>\n",
       "      <td>United Kingdom</td>\n",
       "      <td>2011</td>\n",
       "      <td>2</td>\n",
       "      <td>11</td>\n",
       "      <td>2</td>\n",
       "      <td>20.40000</td>\n",
       "    </tr>\n",
       "    <tr>\n",
       "      <th>97500</th>\n",
       "      <td>544637</td>\n",
       "      <td>22285</td>\n",
       "      <td>HANGING HEN ON NEST DECORATION</td>\n",
       "      <td>24</td>\n",
       "      <td>2011-02-22 11:20:00</td>\n",
       "      <td>1.65000</td>\n",
       "      <td>16546.00000</td>\n",
       "      <td>United Kingdom</td>\n",
       "      <td>2011</td>\n",
       "      <td>2</td>\n",
       "      <td>11</td>\n",
       "      <td>2</td>\n",
       "      <td>39.60000</td>\n",
       "    </tr>\n",
       "    <tr>\n",
       "      <th>97501</th>\n",
       "      <td>544637</td>\n",
       "      <td>22220</td>\n",
       "      <td>CAKE STAND LOVEBIRD 2 TIER WHITE</td>\n",
       "      <td>4</td>\n",
       "      <td>2011-02-22 11:20:00</td>\n",
       "      <td>9.95000</td>\n",
       "      <td>16546.00000</td>\n",
       "      <td>United Kingdom</td>\n",
       "      <td>2011</td>\n",
       "      <td>2</td>\n",
       "      <td>11</td>\n",
       "      <td>2</td>\n",
       "      <td>39.80000</td>\n",
       "    </tr>\n",
       "    <tr>\n",
       "      <th>97502</th>\n",
       "      <td>544637</td>\n",
       "      <td>21380</td>\n",
       "      <td>WOODEN HAPPY BIRTHDAY GARLAND</td>\n",
       "      <td>12</td>\n",
       "      <td>2011-02-22 11:20:00</td>\n",
       "      <td>2.95000</td>\n",
       "      <td>16546.00000</td>\n",
       "      <td>United Kingdom</td>\n",
       "      <td>2011</td>\n",
       "      <td>2</td>\n",
       "      <td>11</td>\n",
       "      <td>2</td>\n",
       "      <td>35.40000</td>\n",
       "    </tr>\n",
       "  </tbody>\n",
       "</table>\n",
       "</div>"
      ],
      "text/plain": [
       "      InvoiceNo StockCode                          Description  Quantity  \\\n",
       "3721     536663     22867              HAND WARMER BIRD DESIGN        24   \n",
       "3722     536663     22633               HAND WARMER UNION JACK        24   \n",
       "3723     536663     22632            HAND WARMER RED RETROSPOT        24   \n",
       "3724     536663     22910    PAPER CHAIN KIT VINTAGE CHRISTMAS        40   \n",
       "3725     536663     22737       RIBBON REEL CHRISTMAS PRESENT         20   \n",
       "3726     536663     22952      60 CAKE CASES VINTAGE CHRISTMAS        24   \n",
       "4853    C536812     22578   WOODEN STAR CHRISTMAS SCANDINAVIAN       -36   \n",
       "4854    C536812     22574    HEART WOODEN CHRISTMAS DECORATION      -192   \n",
       "4855    C536812     22593               CHRISTMAS GINGHAM STAR      -144   \n",
       "4856    C536812     22595              CHRISTMAS GINGHAM HEART      -144   \n",
       "4857    C536812     22588            CARD HOLDER GINGHAM HEART      -192   \n",
       "4858    C536812     22130     PARTY CONE CHRISTMAS DECORATION       -144   \n",
       "97484    544637     22245         HOOK, 1 HANGER ,MAGIC GARDEN        12   \n",
       "97485    544637     22251    BIRDHOUSE DECORATION MAGIC GARDEN        24   \n",
       "97486    544637     22250  DECORATION  BUTTERFLY  MAGIC GARDEN        16   \n",
       "97487    544637     22248  DECORATION  PINK CHICK MAGIC GARDEN        16   \n",
       "97488    544637     22244           3 HOOK HANGER MAGIC GARDEN        12   \n",
       "97489    544637     22720    SET OF 3 CAKE TINS PANTRY DESIGN          3   \n",
       "97490    544637     22933    BAKING MOULD EASTER EGG MILK CHOC        18   \n",
       "97491    544637     21976       PACK OF 60 MUSHROOM CAKE CASES        36   \n",
       "97492    544637     21975       PACK OF 60 DINOSAUR CAKE CASES        24   \n",
       "97493    544637     21977   PACK OF 60 PINK PAISLEY CAKE CASES        36   \n",
       "97494    544637     22129    PARTY CONES CANDY TREE DECORATION        48   \n",
       "97495    544637     22291       HANGING CHICK CREAM DECORATION        24   \n",
       "97496    544637     22292     HANGING CHICK  YELLOW DECORATION        24   \n",
       "97497    544637     22260           FELT EGG COSY BLUE RABBIT         12   \n",
       "97498    544637     22261          FELT EGG COSY WHITE RABBIT         24   \n",
       "97499    544637     22262                FELT EGG COSY CHICKEN        24   \n",
       "97500    544637     22285       HANGING HEN ON NEST DECORATION        24   \n",
       "97501    544637     22220     CAKE STAND LOVEBIRD 2 TIER WHITE         4   \n",
       "97502    544637     21380        WOODEN HAPPY BIRTHDAY GARLAND        12   \n",
       "\n",
       "              InvoiceDate  UnitPrice  CustomerID         Country  year  month  \\\n",
       "3721  2010-12-02 12:07:00    2.10000 16546.00000  United Kingdom  2010     12   \n",
       "3722  2010-12-02 12:07:00    2.10000 16546.00000  United Kingdom  2010     12   \n",
       "3723  2010-12-02 12:07:00    2.10000 16546.00000  United Kingdom  2010     12   \n",
       "3724  2010-12-02 12:07:00    2.55000 16546.00000  United Kingdom  2010     12   \n",
       "3725  2010-12-02 12:07:00    1.65000 16546.00000  United Kingdom  2010     12   \n",
       "3726  2010-12-02 12:07:00    0.55000 16546.00000  United Kingdom  2010     12   \n",
       "4853  2010-12-02 16:58:00    0.85000 16546.00000  United Kingdom  2010     12   \n",
       "4854  2010-12-02 16:58:00    0.72000 16546.00000  United Kingdom  2010     12   \n",
       "4855  2010-12-02 16:58:00    0.72000 16546.00000  United Kingdom  2010     12   \n",
       "4856  2010-12-02 16:58:00    0.72000 16546.00000  United Kingdom  2010     12   \n",
       "4857  2010-12-02 16:58:00    2.10000 16546.00000  United Kingdom  2010     12   \n",
       "4858  2010-12-02 16:58:00    0.72000 16546.00000  United Kingdom  2010     12   \n",
       "97484 2011-02-22 11:20:00    0.85000 16546.00000  United Kingdom  2011      2   \n",
       "97485 2011-02-22 11:20:00    1.25000 16546.00000  United Kingdom  2011      2   \n",
       "97486 2011-02-22 11:20:00    0.85000 16546.00000  United Kingdom  2011      2   \n",
       "97487 2011-02-22 11:20:00    0.85000 16546.00000  United Kingdom  2011      2   \n",
       "97488 2011-02-22 11:20:00    1.95000 16546.00000  United Kingdom  2011      2   \n",
       "97489 2011-02-22 11:20:00    4.95000 16546.00000  United Kingdom  2011      2   \n",
       "97490 2011-02-22 11:20:00    2.95000 16546.00000  United Kingdom  2011      2   \n",
       "97491 2011-02-22 11:20:00    0.55000 16546.00000  United Kingdom  2011      2   \n",
       "97492 2011-02-22 11:20:00    0.55000 16546.00000  United Kingdom  2011      2   \n",
       "97493 2011-02-22 11:20:00    0.55000 16546.00000  United Kingdom  2011      2   \n",
       "97494 2011-02-22 11:20:00    0.85000 16546.00000  United Kingdom  2011      2   \n",
       "97495 2011-02-22 11:20:00    1.45000 16546.00000  United Kingdom  2011      2   \n",
       "97496 2011-02-22 11:20:00    1.45000 16546.00000  United Kingdom  2011      2   \n",
       "97497 2011-02-22 11:20:00    0.85000 16546.00000  United Kingdom  2011      2   \n",
       "97498 2011-02-22 11:20:00    0.85000 16546.00000  United Kingdom  2011      2   \n",
       "97499 2011-02-22 11:20:00    0.85000 16546.00000  United Kingdom  2011      2   \n",
       "97500 2011-02-22 11:20:00    1.65000 16546.00000  United Kingdom  2011      2   \n",
       "97501 2011-02-22 11:20:00    9.95000 16546.00000  United Kingdom  2011      2   \n",
       "97502 2011-02-22 11:20:00    2.95000 16546.00000  United Kingdom  2011      2   \n",
       "\n",
       "       hour  day    Revenue  \n",
       "3721     12    4   50.40000  \n",
       "3722     12    4   50.40000  \n",
       "3723     12    4   50.40000  \n",
       "3724     12    4  102.00000  \n",
       "3725     12    4   33.00000  \n",
       "3726     12    4   13.20000  \n",
       "4853     16    4  -30.60000  \n",
       "4854     16    4 -138.24000  \n",
       "4855     16    4 -103.68000  \n",
       "4856     16    4 -103.68000  \n",
       "4857     16    4 -403.20000  \n",
       "4858     16    4 -103.68000  \n",
       "97484    11    2   10.20000  \n",
       "97485    11    2   30.00000  \n",
       "97486    11    2   13.60000  \n",
       "97487    11    2   13.60000  \n",
       "97488    11    2   23.40000  \n",
       "97489    11    2   14.85000  \n",
       "97490    11    2   53.10000  \n",
       "97491    11    2   19.80000  \n",
       "97492    11    2   13.20000  \n",
       "97493    11    2   19.80000  \n",
       "97494    11    2   40.80000  \n",
       "97495    11    2   34.80000  \n",
       "97496    11    2   34.80000  \n",
       "97497    11    2   10.20000  \n",
       "97498    11    2   20.40000  \n",
       "97499    11    2   20.40000  \n",
       "97500    11    2   39.60000  \n",
       "97501    11    2   39.80000  \n",
       "97502    11    2   35.40000  "
      ]
     },
     "execution_count": 84,
     "metadata": {
      "tags": []
     },
     "output_type": "execute_result"
    }
   ],
   "source": [
    "data[data['CustomerID']==16546]"
   ]
  },
  {
   "cell_type": "markdown",
   "metadata": {
    "id": "hwrzTpGps6H1"
   },
   "source": [
    "**Observations:**\n",
    "\n",
    "- There are a lot of purchases and returns made by CustomerID=16546.\n",
    "\n",
    "- According to this information, they have **returned more** products than they have **purchased**.\n",
    "\n",
    "- There seems to be some **information loss** since we had to drop a lot of rows with missing CustomerIds.\n",
    "\n",
    "- There must be many other transactions that report total number of products purchased per customer as negative (or returned)."
   ]
  },
  {
   "cell_type": "code",
   "execution_count": null,
   "metadata": {
    "colab": {
     "base_uri": "https://localhost:8080/"
    },
    "id": "G_e0xrSeydu0",
    "outputId": "19b9f30c-8fad-47ae-843b-63fd71b47e52"
   },
   "outputs": [
    {
     "data": {
      "text/plain": [
       "40"
      ]
     },
     "execution_count": 85,
     "metadata": {
      "tags": []
     },
     "output_type": "execute_result"
    }
   ],
   "source": [
    "transaction_df[transaction_df['Number of Products']<0].shape[0]"
   ]
  },
  {
   "cell_type": "markdown",
   "metadata": {
    "id": "AI3RHBKszkMC"
   },
   "source": [
    "**Observations:**\n",
    "\n",
    "- There are in all **40 such customers** whose total purchases report more returns than purchases."
   ]
  },
  {
   "cell_type": "markdown",
   "metadata": {
    "id": "eBmnq9s33f40"
   },
   "source": [
    "**<h4>Question:** What is the total revenue generated by the online retailer?</h4>"
   ]
  },
  {
   "cell_type": "code",
   "execution_count": null,
   "metadata": {
    "colab": {
     "base_uri": "https://localhost:8080/",
     "height": 205
    },
    "id": "myxsRd3E3k6X",
    "outputId": "67c0a9fe-1cdc-4875-affb-8eab6d04e705"
   },
   "outputs": [
    {
     "data": {
      "text/html": [
       "<div>\n",
       "<style scoped>\n",
       "    .dataframe tbody tr th:only-of-type {\n",
       "        vertical-align: middle;\n",
       "    }\n",
       "\n",
       "    .dataframe tbody tr th {\n",
       "        vertical-align: top;\n",
       "    }\n",
       "\n",
       "    .dataframe thead th {\n",
       "        text-align: right;\n",
       "    }\n",
       "</style>\n",
       "<table border=\"1\" class=\"dataframe\">\n",
       "  <thead>\n",
       "    <tr style=\"text-align: right;\">\n",
       "      <th></th>\n",
       "      <th>InvoiceNo</th>\n",
       "      <th>StockCode</th>\n",
       "      <th>Description</th>\n",
       "      <th>Quantity</th>\n",
       "      <th>InvoiceDate</th>\n",
       "      <th>UnitPrice</th>\n",
       "      <th>CustomerID</th>\n",
       "      <th>Country</th>\n",
       "      <th>year</th>\n",
       "      <th>month</th>\n",
       "      <th>hour</th>\n",
       "      <th>day</th>\n",
       "      <th>Revenue</th>\n",
       "    </tr>\n",
       "  </thead>\n",
       "  <tbody>\n",
       "    <tr>\n",
       "      <th>0</th>\n",
       "      <td>536365</td>\n",
       "      <td>85123A</td>\n",
       "      <td>WHITE HANGING HEART T-LIGHT HOLDER</td>\n",
       "      <td>6</td>\n",
       "      <td>2010-12-01 08:26:00</td>\n",
       "      <td>2.55000</td>\n",
       "      <td>17850.00000</td>\n",
       "      <td>United Kingdom</td>\n",
       "      <td>2010</td>\n",
       "      <td>12</td>\n",
       "      <td>8</td>\n",
       "      <td>3</td>\n",
       "      <td>15.30000</td>\n",
       "    </tr>\n",
       "    <tr>\n",
       "      <th>1</th>\n",
       "      <td>536365</td>\n",
       "      <td>71053</td>\n",
       "      <td>WHITE METAL LANTERN</td>\n",
       "      <td>6</td>\n",
       "      <td>2010-12-01 08:26:00</td>\n",
       "      <td>3.39000</td>\n",
       "      <td>17850.00000</td>\n",
       "      <td>United Kingdom</td>\n",
       "      <td>2010</td>\n",
       "      <td>12</td>\n",
       "      <td>8</td>\n",
       "      <td>3</td>\n",
       "      <td>20.34000</td>\n",
       "    </tr>\n",
       "    <tr>\n",
       "      <th>2</th>\n",
       "      <td>536365</td>\n",
       "      <td>84406B</td>\n",
       "      <td>CREAM CUPID HEARTS COAT HANGER</td>\n",
       "      <td>8</td>\n",
       "      <td>2010-12-01 08:26:00</td>\n",
       "      <td>2.75000</td>\n",
       "      <td>17850.00000</td>\n",
       "      <td>United Kingdom</td>\n",
       "      <td>2010</td>\n",
       "      <td>12</td>\n",
       "      <td>8</td>\n",
       "      <td>3</td>\n",
       "      <td>22.00000</td>\n",
       "    </tr>\n",
       "    <tr>\n",
       "      <th>3</th>\n",
       "      <td>536365</td>\n",
       "      <td>84029G</td>\n",
       "      <td>KNITTED UNION FLAG HOT WATER BOTTLE</td>\n",
       "      <td>6</td>\n",
       "      <td>2010-12-01 08:26:00</td>\n",
       "      <td>3.39000</td>\n",
       "      <td>17850.00000</td>\n",
       "      <td>United Kingdom</td>\n",
       "      <td>2010</td>\n",
       "      <td>12</td>\n",
       "      <td>8</td>\n",
       "      <td>3</td>\n",
       "      <td>20.34000</td>\n",
       "    </tr>\n",
       "    <tr>\n",
       "      <th>4</th>\n",
       "      <td>536365</td>\n",
       "      <td>84029E</td>\n",
       "      <td>RED WOOLLY HOTTIE WHITE HEART.</td>\n",
       "      <td>6</td>\n",
       "      <td>2010-12-01 08:26:00</td>\n",
       "      <td>3.39000</td>\n",
       "      <td>17850.00000</td>\n",
       "      <td>United Kingdom</td>\n",
       "      <td>2010</td>\n",
       "      <td>12</td>\n",
       "      <td>8</td>\n",
       "      <td>3</td>\n",
       "      <td>20.34000</td>\n",
       "    </tr>\n",
       "  </tbody>\n",
       "</table>\n",
       "</div>"
      ],
      "text/plain": [
       "  InvoiceNo StockCode                          Description  Quantity  \\\n",
       "0    536365    85123A   WHITE HANGING HEART T-LIGHT HOLDER         6   \n",
       "1    536365     71053                  WHITE METAL LANTERN         6   \n",
       "2    536365    84406B       CREAM CUPID HEARTS COAT HANGER         8   \n",
       "3    536365    84029G  KNITTED UNION FLAG HOT WATER BOTTLE         6   \n",
       "4    536365    84029E       RED WOOLLY HOTTIE WHITE HEART.         6   \n",
       "\n",
       "          InvoiceDate  UnitPrice  CustomerID         Country  year  month  \\\n",
       "0 2010-12-01 08:26:00    2.55000 17850.00000  United Kingdom  2010     12   \n",
       "1 2010-12-01 08:26:00    3.39000 17850.00000  United Kingdom  2010     12   \n",
       "2 2010-12-01 08:26:00    2.75000 17850.00000  United Kingdom  2010     12   \n",
       "3 2010-12-01 08:26:00    3.39000 17850.00000  United Kingdom  2010     12   \n",
       "4 2010-12-01 08:26:00    3.39000 17850.00000  United Kingdom  2010     12   \n",
       "\n",
       "   hour  day  Revenue  \n",
       "0     8    3 15.30000  \n",
       "1     8    3 20.34000  \n",
       "2     8    3 22.00000  \n",
       "3     8    3 20.34000  \n",
       "4     8    3 20.34000  "
      ]
     },
     "execution_count": 86,
     "metadata": {
      "tags": []
     },
     "output_type": "execute_result"
    }
   ],
   "source": [
    "data[\"Revenue\"] = data[\"Quantity\"] * data[\"UnitPrice\"]\n",
    "data.head()"
   ]
  },
  {
   "cell_type": "code",
   "execution_count": null,
   "metadata": {
    "colab": {
     "base_uri": "https://localhost:8080/"
    },
    "id": "WF0ZIG565UjN",
    "outputId": "4a846553-9fb0-40dd-e00b-d659c238bd40"
   },
   "outputs": [
    {
     "name": "stdout",
     "output_type": "stream",
     "text": [
      "Total revenue generated by the online retailer is: 8278519.42\n"
     ]
    }
   ],
   "source": [
    "print('Total revenue generated by the online retailer is:', round(data['Revenue'].sum(), 2))"
   ]
  },
  {
   "cell_type": "markdown",
   "metadata": {
    "id": "7zf4Ai1J3f2N"
   },
   "source": [
    "**Observations:**\n",
    "\n",
    "- **8.27 million Sterling** is the **total revenue** generated by the online retailer."
   ]
  },
  {
   "cell_type": "markdown",
   "metadata": {
    "id": "mRJjrrdQ3fzt"
   },
   "source": [
    "**<h4>Question:** What is the average revenue generated per customer?</h4>"
   ]
  },
  {
   "cell_type": "code",
   "execution_count": null,
   "metadata": {
    "colab": {
     "base_uri": "https://localhost:8080/",
     "height": 236
    },
    "id": "ebjhzyJc6D0Q",
    "outputId": "479d0109-46e6-45a5-88e8-15063e718afd"
   },
   "outputs": [
    {
     "data": {
      "text/html": [
       "<div>\n",
       "<style scoped>\n",
       "    .dataframe tbody tr th:only-of-type {\n",
       "        vertical-align: middle;\n",
       "    }\n",
       "\n",
       "    .dataframe tbody tr th {\n",
       "        vertical-align: top;\n",
       "    }\n",
       "\n",
       "    .dataframe thead th {\n",
       "        text-align: right;\n",
       "    }\n",
       "</style>\n",
       "<table border=\"1\" class=\"dataframe\">\n",
       "  <thead>\n",
       "    <tr style=\"text-align: right;\">\n",
       "      <th></th>\n",
       "      <th>Average Revenue</th>\n",
       "    </tr>\n",
       "    <tr>\n",
       "      <th>CustomerID</th>\n",
       "      <th></th>\n",
       "    </tr>\n",
       "  </thead>\n",
       "  <tbody>\n",
       "    <tr>\n",
       "      <th>12346.00000</th>\n",
       "      <td>0.00000</td>\n",
       "    </tr>\n",
       "    <tr>\n",
       "      <th>12347.00000</th>\n",
       "      <td>23.68132</td>\n",
       "    </tr>\n",
       "    <tr>\n",
       "      <th>12348.00000</th>\n",
       "      <td>57.97548</td>\n",
       "    </tr>\n",
       "    <tr>\n",
       "      <th>12349.00000</th>\n",
       "      <td>24.07603</td>\n",
       "    </tr>\n",
       "    <tr>\n",
       "      <th>12350.00000</th>\n",
       "      <td>19.67059</td>\n",
       "    </tr>\n",
       "  </tbody>\n",
       "</table>\n",
       "</div>"
      ],
      "text/plain": [
       "             Average Revenue\n",
       "CustomerID                  \n",
       "12346.00000          0.00000\n",
       "12347.00000         23.68132\n",
       "12348.00000         57.97548\n",
       "12349.00000         24.07603\n",
       "12350.00000         19.67059"
      ]
     },
     "execution_count": 88,
     "metadata": {
      "tags": []
     },
     "output_type": "execute_result"
    }
   ],
   "source": [
    "avg_revenue = pd.DataFrame(data.groupby('CustomerID')['Revenue'].mean())\n",
    "avg_revenue.columns = ['Average Revenue']\n",
    "avg_revenue.head()"
   ]
  },
  {
   "cell_type": "code",
   "execution_count": null,
   "metadata": {
    "colab": {
     "base_uri": "https://localhost:8080/",
     "height": 299
    },
    "id": "PJwt2_6p6PkP",
    "outputId": "bd5b7525-9558-41c4-a076-099ade89e8de"
   },
   "outputs": [
    {
     "data": {
      "text/html": [
       "<div>\n",
       "<style scoped>\n",
       "    .dataframe tbody tr th:only-of-type {\n",
       "        vertical-align: middle;\n",
       "    }\n",
       "\n",
       "    .dataframe tbody tr th {\n",
       "        vertical-align: top;\n",
       "    }\n",
       "\n",
       "    .dataframe thead th {\n",
       "        text-align: right;\n",
       "    }\n",
       "</style>\n",
       "<table border=\"1\" class=\"dataframe\">\n",
       "  <thead>\n",
       "    <tr style=\"text-align: right;\">\n",
       "      <th></th>\n",
       "      <th>Average Revenue</th>\n",
       "    </tr>\n",
       "  </thead>\n",
       "  <tbody>\n",
       "    <tr>\n",
       "      <th>count</th>\n",
       "      <td>4372.00000</td>\n",
       "    </tr>\n",
       "    <tr>\n",
       "      <th>mean</th>\n",
       "      <td>28.86839</td>\n",
       "    </tr>\n",
       "    <tr>\n",
       "      <th>std</th>\n",
       "      <td>127.32472</td>\n",
       "    </tr>\n",
       "    <tr>\n",
       "      <th>min</th>\n",
       "      <td>-4287.63000</td>\n",
       "    </tr>\n",
       "    <tr>\n",
       "      <th>25%</th>\n",
       "      <td>11.06662</td>\n",
       "    </tr>\n",
       "    <tr>\n",
       "      <th>50%</th>\n",
       "      <td>16.94102</td>\n",
       "    </tr>\n",
       "    <tr>\n",
       "      <th>75%</th>\n",
       "      <td>23.58143</td>\n",
       "    </tr>\n",
       "    <tr>\n",
       "      <th>max</th>\n",
       "      <td>3861.00000</td>\n",
       "    </tr>\n",
       "  </tbody>\n",
       "</table>\n",
       "</div>"
      ],
      "text/plain": [
       "       Average Revenue\n",
       "count       4372.00000\n",
       "mean          28.86839\n",
       "std          127.32472\n",
       "min        -4287.63000\n",
       "25%           11.06662\n",
       "50%           16.94102\n",
       "75%           23.58143\n",
       "max         3861.00000"
      ]
     },
     "execution_count": 89,
     "metadata": {
      "tags": []
     },
     "output_type": "execute_result"
    }
   ],
   "source": [
    "avg_revenue.describe()"
   ]
  },
  {
   "cell_type": "markdown",
   "metadata": {
    "id": "l6wZxFaN3fxN"
   },
   "source": [
    "**Observations:**\n",
    "\n",
    "- An average of **29 Sterling** is generated per customer.\n",
    "\n",
    "- Some customers also generate an average revenue of **over 3800 Sterling**."
   ]
  },
  {
   "cell_type": "markdown",
   "metadata": {
    "id": "jtJgMjMJ3fuz"
   },
   "source": [
    "**<h4>Question:** What is the total revenue generated by each country?</h4>"
   ]
  },
  {
   "cell_type": "code",
   "execution_count": null,
   "metadata": {
    "colab": {
     "base_uri": "https://localhost:8080/",
     "height": 205
    },
    "id": "7bXrwDYc9b87",
    "outputId": "d00d2639-5d6c-493e-c0e8-b24cbdb1c064"
   },
   "outputs": [
    {
     "data": {
      "text/html": [
       "<div>\n",
       "<style scoped>\n",
       "    .dataframe tbody tr th:only-of-type {\n",
       "        vertical-align: middle;\n",
       "    }\n",
       "\n",
       "    .dataframe tbody tr th {\n",
       "        vertical-align: top;\n",
       "    }\n",
       "\n",
       "    .dataframe thead th {\n",
       "        text-align: right;\n",
       "    }\n",
       "</style>\n",
       "<table border=\"1\" class=\"dataframe\">\n",
       "  <thead>\n",
       "    <tr style=\"text-align: right;\">\n",
       "      <th></th>\n",
       "      <th>Country</th>\n",
       "      <th>Revenue</th>\n",
       "    </tr>\n",
       "  </thead>\n",
       "  <tbody>\n",
       "    <tr>\n",
       "      <th>35</th>\n",
       "      <td>United Kingdom</td>\n",
       "      <td>6747156.15400</td>\n",
       "    </tr>\n",
       "    <tr>\n",
       "      <th>23</th>\n",
       "      <td>Netherlands</td>\n",
       "      <td>284661.54000</td>\n",
       "    </tr>\n",
       "    <tr>\n",
       "      <th>10</th>\n",
       "      <td>EIRE</td>\n",
       "      <td>250001.78000</td>\n",
       "    </tr>\n",
       "    <tr>\n",
       "      <th>14</th>\n",
       "      <td>Germany</td>\n",
       "      <td>221509.47000</td>\n",
       "    </tr>\n",
       "    <tr>\n",
       "      <th>13</th>\n",
       "      <td>France</td>\n",
       "      <td>196626.05000</td>\n",
       "    </tr>\n",
       "  </tbody>\n",
       "</table>\n",
       "</div>"
      ],
      "text/plain": [
       "           Country       Revenue\n",
       "35  United Kingdom 6747156.15400\n",
       "23     Netherlands  284661.54000\n",
       "10            EIRE  250001.78000\n",
       "14         Germany  221509.47000\n",
       "13          France  196626.05000"
      ]
     },
     "execution_count": 90,
     "metadata": {
      "tags": []
     },
     "output_type": "execute_result"
    }
   ],
   "source": [
    "country_revenue = pd.DataFrame(data.groupby(by='Country', as_index=False)['Revenue'].sum().sort_values(by='Revenue', ascending = False))\n",
    "country_revenue.head()"
   ]
  },
  {
   "cell_type": "markdown",
   "metadata": {
    "id": "qCLusa_x992g"
   },
   "source": [
    "**Observations:**\n",
    "\n",
    "- The **UK** is in the **top** when it comes to generating **revenue**.\n",
    "\n",
    "- It makes sense as the **company** is **based** in the **UK** and must have a **lot of traffic** from the UK itself.\n",
    "\n",
    "- Let's see the distribution of **total revenue** generated by other countries **outside the UK**"
   ]
  },
  {
   "cell_type": "code",
   "execution_count": null,
   "metadata": {
    "colab": {
     "base_uri": "https://localhost:8080/",
     "height": 748
    },
    "id": "nJ7WuWtd-jP8",
    "outputId": "085e1603-46b2-459d-d19a-e10722ec5cfb"
   },
   "outputs": [
    {
     "data": {
      "image/png": "[encoded data removed]",
      "text/plain": [
       "<Figure size 1440x720 with 1 Axes>"
      ]
     },
     "metadata": {
      "needs_background": "light",
      "tags": []
     },
     "output_type": "display_data"
    }
   ],
   "source": [
    "# Create a 15x7 inches figure\n",
    "fig = plt.figure(figsize=(20, 10))\n",
    "\n",
    "# Creating a barplot for country vs revenue\n",
    "sns.barplot(x=country_revenue['Country'][1:], y=country_revenue['Revenue'][1:])\n",
    "\n",
    "# Adding Cosmetics\n",
    "plt.xlabel(xlabel='Country', fontsize=14)\n",
    "plt.ylabel(ylabel='Revenue (in Sterling)', fontsize=14)\n",
    "plt.title(label='Total revenue generated by each country', fontsize=16)\n",
    "plt.xticks(rotation=90, fontsize=12)\n",
    "plt.yticks(fontsize=12)\n",
    "plt.grid(b=True)\n",
    "\n",
    "# Display the plot\n",
    "plt.show()"
   ]
  },
  {
   "cell_type": "markdown",
   "metadata": {
    "id": "DFirrih0jnFi"
   },
   "source": [
    "**Observations:**\n",
    "\n",
    "<a name = #Bar1></a>\n",
    "\n",
    "- **Netherlands** and **EIRE**(Ireland) see a lot of traffic on the website.\n",
    "\n",
    "- This is followed by **Germany**, **France** and **Australia** where all of these countries **generate** more than **100000 Sterling**."
   ]
  },
  {
   "cell_type": "markdown",
   "metadata": {
    "id": "efLZNlkLCzXD"
   },
   "source": [
    "**<h4>Question:** What is the customer distribution across each country?</h4>"
   ]
  },
  {
   "cell_type": "code",
   "execution_count": null,
   "metadata": {
    "colab": {
     "base_uri": "https://localhost:8080/",
     "height": 205
    },
    "id": "f72RpLfiC5-G",
    "outputId": "31ed82c9-ee86-4cdd-cf2b-a0edd0cf79c4"
   },
   "outputs": [
    {
     "data": {
      "text/html": [
       "<div>\n",
       "<style scoped>\n",
       "    .dataframe tbody tr th:only-of-type {\n",
       "        vertical-align: middle;\n",
       "    }\n",
       "\n",
       "    .dataframe tbody tr th {\n",
       "        vertical-align: top;\n",
       "    }\n",
       "\n",
       "    .dataframe thead th {\n",
       "        text-align: right;\n",
       "    }\n",
       "</style>\n",
       "<table border=\"1\" class=\"dataframe\">\n",
       "  <thead>\n",
       "    <tr style=\"text-align: right;\">\n",
       "      <th></th>\n",
       "      <th>Country</th>\n",
       "      <th>No. of Customers</th>\n",
       "    </tr>\n",
       "  </thead>\n",
       "  <tbody>\n",
       "    <tr>\n",
       "      <th>35</th>\n",
       "      <td>United Kingdom</td>\n",
       "      <td>3950</td>\n",
       "    </tr>\n",
       "    <tr>\n",
       "      <th>14</th>\n",
       "      <td>Germany</td>\n",
       "      <td>95</td>\n",
       "    </tr>\n",
       "    <tr>\n",
       "      <th>13</th>\n",
       "      <td>France</td>\n",
       "      <td>87</td>\n",
       "    </tr>\n",
       "    <tr>\n",
       "      <th>30</th>\n",
       "      <td>Spain</td>\n",
       "      <td>31</td>\n",
       "    </tr>\n",
       "    <tr>\n",
       "      <th>3</th>\n",
       "      <td>Belgium</td>\n",
       "      <td>25</td>\n",
       "    </tr>\n",
       "  </tbody>\n",
       "</table>\n",
       "</div>"
      ],
      "text/plain": [
       "           Country  No. of Customers\n",
       "35  United Kingdom              3950\n",
       "14         Germany                95\n",
       "13          France                87\n",
       "30           Spain                31\n",
       "3          Belgium                25"
      ]
     },
     "execution_count": 92,
     "metadata": {
      "tags": []
     },
     "output_type": "execute_result"
    }
   ],
   "source": [
    "# We will count the unique number of CustomerIDs across each country\n",
    "country_customers = pd.DataFrame(data.groupby(by='Country', as_index=False)['CustomerID'].nunique())\n",
    "country_customers.rename(columns={'CustomerID': 'No. of Customers'}, inplace=True)\n",
    "country_customers.sort_values(by=['No. of Customers'], ascending = False, inplace=True)\n",
    "country_customers.head()"
   ]
  },
  {
   "cell_type": "markdown",
   "metadata": {
    "id": "QgxOCcP-FJQy"
   },
   "source": [
    "**Observations:**\n",
    "\n",
    "- The **UK** has **3950 unique customers** out of the 4372 total customers who have ordered from the website.\n",
    "\n",
    "- **Germany** and **France** follow the UK but the **number of customers** is **less than 100** across each country.\n",
    "\n"
   ]
  },
  {
   "cell_type": "code",
   "execution_count": null,
   "metadata": {
    "colab": {
     "base_uri": "https://localhost:8080/",
     "height": 748
    },
    "id": "eecaYbhOEzDt",
    "outputId": "610eab16-3860-4dea-e1be-beac70d90ac3"
   },
   "outputs": [
    {
     "data": {
      "image/png": "[encoded data removed]",
      "text/plain": [
       "<Figure size 1440x720 with 1 Axes>"
      ]
     },
     "metadata": {
      "needs_background": "light",
      "tags": []
     },
     "output_type": "display_data"
    }
   ],
   "source": [
    "# Create a 15x7 inches figure\n",
    "fig = plt.figure(figsize=(20, 10))\n",
    "\n",
    "# Creating a barplot for country vs revenue\n",
    "sns.barplot(x=country_customers['Country'][1:], y=country_customers['No. of Customers'][1:], palette='hls')\n",
    "\n",
    "# Adding Cosmetics\n",
    "plt.xlabel(xlabel='Country', fontsize=14)\n",
    "plt.ylabel(ylabel='No. of Customers', fontsize=14)\n",
    "plt.title(label='Customers across countries outside the UK', fontsize=16)\n",
    "plt.xticks(rotation=90, fontsize=12)\n",
    "plt.yticks(fontsize=12)\n",
    "plt.grid(b=True)\n",
    "\n",
    "# Display the plot\n",
    "plt.show()"
   ]
  },
  {
   "cell_type": "markdown",
   "metadata": {
    "id": "c45YzUhlij36"
   },
   "source": [
    "**Observations:**\n",
    "\n",
    "- **Germany** sees the **most amount** of customers on the website after the UK.\n",
    "\n",
    "- But those customers **don't buy in bulk** or expensive products as the revenue generated by them is 3rd highest across the foreign countries.\n",
    "\n",
    "- **Netherlands**, even though has **less customers**, brings in a lot of revenue as can be seen by the above bar plots."
   ]
  },
  {
   "cell_type": "markdown",
   "metadata": {
    "id": "DHEwFZEOCn-z"
   },
   "source": [
    "**<h4>Question:** What is the total revenue generated per month?</h4>"
   ]
  },
  {
   "cell_type": "code",
   "execution_count": null,
   "metadata": {
    "colab": {
     "base_uri": "https://localhost:8080/",
     "height": 205
    },
    "id": "DEm77I3L-SyK",
    "outputId": "dea9dd3f-de65-41df-9c97-72cc9ed30bca"
   },
   "outputs": [
    {
     "data": {
      "text/html": [
       "<div>\n",
       "<style scoped>\n",
       "    .dataframe tbody tr th:only-of-type {\n",
       "        vertical-align: middle;\n",
       "    }\n",
       "\n",
       "    .dataframe tbody tr th {\n",
       "        vertical-align: top;\n",
       "    }\n",
       "\n",
       "    .dataframe thead th {\n",
       "        text-align: right;\n",
       "    }\n",
       "</style>\n",
       "<table border=\"1\" class=\"dataframe\">\n",
       "  <thead>\n",
       "    <tr style=\"text-align: right;\">\n",
       "      <th></th>\n",
       "      <th>InvoiceNo</th>\n",
       "      <th>StockCode</th>\n",
       "      <th>Description</th>\n",
       "      <th>Quantity</th>\n",
       "      <th>InvoiceDate</th>\n",
       "      <th>UnitPrice</th>\n",
       "      <th>CustomerID</th>\n",
       "      <th>Country</th>\n",
       "      <th>year</th>\n",
       "      <th>month</th>\n",
       "      <th>hour</th>\n",
       "      <th>day</th>\n",
       "      <th>Revenue</th>\n",
       "      <th>InvoiceYearMonth</th>\n",
       "    </tr>\n",
       "  </thead>\n",
       "  <tbody>\n",
       "    <tr>\n",
       "      <th>0</th>\n",
       "      <td>536365</td>\n",
       "      <td>85123A</td>\n",
       "      <td>WHITE HANGING HEART T-LIGHT HOLDER</td>\n",
       "      <td>6</td>\n",
       "      <td>2010-12-01 08:26:00</td>\n",
       "      <td>2.55000</td>\n",
       "      <td>17850.00000</td>\n",
       "      <td>United Kingdom</td>\n",
       "      <td>2010</td>\n",
       "      <td>12</td>\n",
       "      <td>8</td>\n",
       "      <td>3</td>\n",
       "      <td>15.30000</td>\n",
       "      <td>2010-12</td>\n",
       "    </tr>\n",
       "    <tr>\n",
       "      <th>1</th>\n",
       "      <td>536365</td>\n",
       "      <td>71053</td>\n",
       "      <td>WHITE METAL LANTERN</td>\n",
       "      <td>6</td>\n",
       "      <td>2010-12-01 08:26:00</td>\n",
       "      <td>3.39000</td>\n",
       "      <td>17850.00000</td>\n",
       "      <td>United Kingdom</td>\n",
       "      <td>2010</td>\n",
       "      <td>12</td>\n",
       "      <td>8</td>\n",
       "      <td>3</td>\n",
       "      <td>20.34000</td>\n",
       "      <td>2010-12</td>\n",
       "    </tr>\n",
       "    <tr>\n",
       "      <th>2</th>\n",
       "      <td>536365</td>\n",
       "      <td>84406B</td>\n",
       "      <td>CREAM CUPID HEARTS COAT HANGER</td>\n",
       "      <td>8</td>\n",
       "      <td>2010-12-01 08:26:00</td>\n",
       "      <td>2.75000</td>\n",
       "      <td>17850.00000</td>\n",
       "      <td>United Kingdom</td>\n",
       "      <td>2010</td>\n",
       "      <td>12</td>\n",
       "      <td>8</td>\n",
       "      <td>3</td>\n",
       "      <td>22.00000</td>\n",
       "      <td>2010-12</td>\n",
       "    </tr>\n",
       "    <tr>\n",
       "      <th>3</th>\n",
       "      <td>536365</td>\n",
       "      <td>84029G</td>\n",
       "      <td>KNITTED UNION FLAG HOT WATER BOTTLE</td>\n",
       "      <td>6</td>\n",
       "      <td>2010-12-01 08:26:00</td>\n",
       "      <td>3.39000</td>\n",
       "      <td>17850.00000</td>\n",
       "      <td>United Kingdom</td>\n",
       "      <td>2010</td>\n",
       "      <td>12</td>\n",
       "      <td>8</td>\n",
       "      <td>3</td>\n",
       "      <td>20.34000</td>\n",
       "      <td>2010-12</td>\n",
       "    </tr>\n",
       "    <tr>\n",
       "      <th>4</th>\n",
       "      <td>536365</td>\n",
       "      <td>84029E</td>\n",
       "      <td>RED WOOLLY HOTTIE WHITE HEART.</td>\n",
       "      <td>6</td>\n",
       "      <td>2010-12-01 08:26:00</td>\n",
       "      <td>3.39000</td>\n",
       "      <td>17850.00000</td>\n",
       "      <td>United Kingdom</td>\n",
       "      <td>2010</td>\n",
       "      <td>12</td>\n",
       "      <td>8</td>\n",
       "      <td>3</td>\n",
       "      <td>20.34000</td>\n",
       "      <td>2010-12</td>\n",
       "    </tr>\n",
       "  </tbody>\n",
       "</table>\n",
       "</div>"
      ],
      "text/plain": [
       "  InvoiceNo StockCode                          Description  Quantity  \\\n",
       "0    536365    85123A   WHITE HANGING HEART T-LIGHT HOLDER         6   \n",
       "1    536365     71053                  WHITE METAL LANTERN         6   \n",
       "2    536365    84406B       CREAM CUPID HEARTS COAT HANGER         8   \n",
       "3    536365    84029G  KNITTED UNION FLAG HOT WATER BOTTLE         6   \n",
       "4    536365    84029E       RED WOOLLY HOTTIE WHITE HEART.         6   \n",
       "\n",
       "          InvoiceDate  UnitPrice  CustomerID         Country  year  month  \\\n",
       "0 2010-12-01 08:26:00    2.55000 17850.00000  United Kingdom  2010     12   \n",
       "1 2010-12-01 08:26:00    3.39000 17850.00000  United Kingdom  2010     12   \n",
       "2 2010-12-01 08:26:00    2.75000 17850.00000  United Kingdom  2010     12   \n",
       "3 2010-12-01 08:26:00    3.39000 17850.00000  United Kingdom  2010     12   \n",
       "4 2010-12-01 08:26:00    3.39000 17850.00000  United Kingdom  2010     12   \n",
       "\n",
       "   hour  day  Revenue InvoiceYearMonth  \n",
       "0     8    3 15.30000          2010-12  \n",
       "1     8    3 20.34000          2010-12  \n",
       "2     8    3 22.00000          2010-12  \n",
       "3     8    3 20.34000          2010-12  \n",
       "4     8    3 20.34000          2010-12  "
      ]
     },
     "execution_count": 94,
     "metadata": {
      "tags": []
     },
     "output_type": "execute_result"
    }
   ],
   "source": [
    "data['InvoiceYearMonth'] = data['InvoiceDate'].map(lambda date: str(date.year) + '-' + str(date.month))\n",
    "data.head()"
   ]
  },
  {
   "cell_type": "code",
   "execution_count": null,
   "metadata": {
    "colab": {
     "base_uri": "https://localhost:8080/",
     "height": 205
    },
    "id": "_leRJ8x-99jX",
    "outputId": "abf9dfb0-3d51-4f49-c0cc-a65f2b117953"
   },
   "outputs": [
    {
     "data": {
      "text/html": [
       "<div>\n",
       "<style scoped>\n",
       "    .dataframe tbody tr th:only-of-type {\n",
       "        vertical-align: middle;\n",
       "    }\n",
       "\n",
       "    .dataframe tbody tr th {\n",
       "        vertical-align: top;\n",
       "    }\n",
       "\n",
       "    .dataframe thead th {\n",
       "        text-align: right;\n",
       "    }\n",
       "</style>\n",
       "<table border=\"1\" class=\"dataframe\">\n",
       "  <thead>\n",
       "    <tr style=\"text-align: right;\">\n",
       "      <th></th>\n",
       "      <th>InvoiceYearMonth</th>\n",
       "      <th>Revenue</th>\n",
       "    </tr>\n",
       "  </thead>\n",
       "  <tbody>\n",
       "    <tr>\n",
       "      <th>3</th>\n",
       "      <td>2011-11</td>\n",
       "      <td>1126815.07000</td>\n",
       "    </tr>\n",
       "    <tr>\n",
       "      <th>2</th>\n",
       "      <td>2011-10</td>\n",
       "      <td>973306.38000</td>\n",
       "    </tr>\n",
       "    <tr>\n",
       "      <th>12</th>\n",
       "      <td>2011-9</td>\n",
       "      <td>929356.23200</td>\n",
       "    </tr>\n",
       "    <tr>\n",
       "      <th>8</th>\n",
       "      <td>2011-5</td>\n",
       "      <td>647011.67000</td>\n",
       "    </tr>\n",
       "    <tr>\n",
       "      <th>11</th>\n",
       "      <td>2011-8</td>\n",
       "      <td>615078.09000</td>\n",
       "    </tr>\n",
       "  </tbody>\n",
       "</table>\n",
       "</div>"
      ],
      "text/plain": [
       "   InvoiceYearMonth       Revenue\n",
       "3           2011-11 1126815.07000\n",
       "2           2011-10  973306.38000\n",
       "12           2011-9  929356.23200\n",
       "8            2011-5  647011.67000\n",
       "11           2011-8  615078.09000"
      ]
     },
     "execution_count": 95,
     "metadata": {
      "tags": []
     },
     "output_type": "execute_result"
    }
   ],
   "source": [
    "df_revenue = data.groupby(['InvoiceYearMonth']).agg({'Revenue': sum}).reset_index().sort_values(by=['Revenue'], ascending = False)\n",
    "df_revenue.head()"
   ]
  },
  {
   "cell_type": "code",
   "execution_count": null,
   "metadata": {
    "colab": {
     "base_uri": "https://localhost:8080/",
     "height": 539
    },
    "id": "_QdALVgFCnAw",
    "outputId": "85c30c72-a4e5-444f-9f6d-6b05b8fc4dfa"
   },
   "outputs": [
    {
     "data": {
      "image/png": "[encoded data removed]",
      "text/plain": [
       "<Figure size 648x648 with 1 Axes>"
      ]
     },
     "metadata": {
      "tags": []
     },
     "output_type": "display_data"
    }
   ],
   "source": [
    "# Creating a pie plot for revenue per month\n",
    "df_revenue.groupby(['InvoiceYearMonth'])['Revenue'].mean().plot(kind='pie',\n",
    "                                                                autopct='%3.1f%%',\n",
    "                                                                wedgeprops=dict(width=0.15), \n",
    "                                                                explode=np.ones(13)/10,\n",
    "                                                                figsize=(9, 9),\n",
    "                                                                fontsize=12, \n",
    "                                                                startangle=20,\n",
    "                                                                shadow=True,\n",
    "                                                                cmap='inferno',\n",
    "                                                                legend=True,\n",
    "                                                                label='')\n",
    "\n",
    "# Adding some cosmetics\n",
    "plt.xlabel(xlabel='Revenue per Month', fontsize=16)\n",
    "\n",
    "# Display the output\n",
    "plt.show()"
   ]
  },
  {
   "cell_type": "markdown",
   "metadata": {
    "id": "MPmjNPrh3fsJ"
   },
   "source": [
    "**Observations:**\n",
    "\n",
    "- **October**, **November** and **December** saw the **most** amount of orders on the website.\n",
    "\n",
    "- These months come under the **holiday season** in the UK.\n",
    "\n",
    "- It makes sense that people gift each other a lot during the holiday season festivals like **Haloween**, **Thanksgiving** and **Christmas**."
   ]
  },
  {
   "cell_type": "markdown",
   "metadata": {
    "id": "UqQc005gPJ_D"
   },
   "source": [
    "**<h4>Question:** How many orders have been placed at each hour of a day?</h4>"
   ]
  },
  {
   "cell_type": "code",
   "execution_count": null,
   "metadata": {
    "colab": {
     "base_uri": "https://localhost:8080/",
     "height": 467
    },
    "id": "2mckMFbJJvr4",
    "outputId": "02b26e09-f85e-4bd3-b83b-8af7bd185e9c"
   },
   "outputs": [
    {
     "data": {
      "image/png": "[encoded data removed]",
      "text/plain": [
       "<Figure size 1080x504 with 1 Axes>"
      ]
     },
     "metadata": {
      "needs_background": "light",
      "tags": []
     },
     "output_type": "display_data"
    }
   ],
   "source": [
    "# Create a 15x7 inches figure\n",
    "fig = plt.figure(figsize=(15,7))\n",
    "\n",
    "# Create a bar plot\n",
    "hour_data = data.groupby('InvoiceNo')['hour'].unique()\n",
    "hour_data.value_counts().iloc[:-1].sort_index().plot(kind='bar')\n",
    "\n",
    "# Adding Cosmetics\n",
    "plt.xlabel(xlabel='Hour', fontsize=14)\n",
    "plt.ylabel(ylabel='Number of Orders', fontsize=14)\n",
    "plt.title(label='Number of orders for different Hours', fontsize=16)\n",
    "plt.xticks(rotation='horizontal', fontsize=12)\n",
    "#plt.xticks(labels=range(6, 21), rotation='horizontal', fontsize=12)\n",
    "plt.yticks(ticks=range(0, 4000, 500), fontsize=12)\n",
    "plt.grid(b=True)\n",
    "\n",
    "# Displaying the plot\n",
    "plt.show()"
   ]
  },
  {
   "cell_type": "markdown",
   "metadata": {
    "id": "Uik7sdaRKzuR"
   },
   "source": [
    "**Observations:**\n",
    "\n",
    "- We can observe that most of the orders are placed after **8:00 AM till 8:00 PM** London Time.\n",
    "\n",
    "- The **highest amount** of orders are placed around **12:00 PM** London Time.\n"
   ]
  },
  {
   "cell_type": "markdown",
   "metadata": {
    "id": "OMKsreRjJMIu"
   },
   "source": [
    "**<h4>Question:** What is the frequency of orders for weekdays?</h4>"
   ]
  },
  {
   "cell_type": "code",
   "execution_count": null,
   "metadata": {
    "colab": {
     "base_uri": "https://localhost:8080/",
     "height": 467
    },
    "id": "QoZ5Cc5FXbDK",
    "outputId": "e84c573b-0970-4d05-cdab-b1ffb56d5f74"
   },
   "outputs": [
    {
     "data": {
      "image/png": "[encoded data removed]",
      "text/plain": [
       "<Figure size 1080x504 with 1 Axes>"
      ]
     },
     "metadata": {
      "needs_background": "light",
      "tags": []
     },
     "output_type": "display_data"
    }
   ],
   "source": [
    "fig = plt.figure(figsize=(15,7))\n",
    "\n",
    "# Create a bar plot\n",
    "week_data = data.groupby(['InvoiceNo'])['day'].unique()\n",
    "week_data.value_counts().sort_index().plot.bar()\n",
    "\n",
    "# Adding Cosmetics\n",
    "plt.xlabel('Weekday',fontsize=14)\n",
    "plt.ylabel('Number of Orders',fontsize=14)\n",
    "plt.title(\"Frequency of order by Weekday\", fontsize=16)\n",
    "plt.xticks(ticks=[[0], [1], [2], [3], [4], [5]],\n",
    "           labels=['Mon', 'Tue', 'Wed', 'Thurs', 'Fri', 'Sun'],\n",
    "           rotation='horizontal',\n",
    "           fontsize=12)\n",
    "plt.yticks(ticks=range(0, 5500, 1000), fontsize=12)\n",
    "plt.grid(b=True)\n",
    "\n",
    "# Displaying the plot\n",
    "plt.show()"
   ]
  },
  {
   "cell_type": "markdown",
   "metadata": {
    "id": "MHG91qY7g74t"
   },
   "source": [
    "**Observations:**\n",
    "\n",
    "- There are **no orders** that were placed on **Saturday**.\n",
    "\n",
    "- **Most** of the orders are placed on **Thursday** followed by **Wednesdays** and **Tuesdays**.\n",
    "\n",
    "- Orders are placed the **least** on **weekends**."
   ]
  },
  {
   "cell_type": "markdown",
   "metadata": {
    "id": "wCsTZ_w0hqtn"
   },
   "source": [
    "**<h4>Question:** What is the frequency of orders for weekdays vs hours per day?</h4>"
   ]
  },
  {
   "cell_type": "code",
   "execution_count": null,
   "metadata": {
    "colab": {
     "base_uri": "https://localhost:8080/",
     "height": 630
    },
    "id": "ubyEsZThhqSW",
    "outputId": "c39c84b5-7c6e-4da4-9ab5-f06b4c010e66"
   },
   "outputs": [
    {
     "data": {
      "image/png": "[encoded data removed]",
      "text/plain": [
       "<Figure size 1728x720 with 2 Axes>"
      ]
     },
     "metadata": {
      "needs_background": "light",
      "tags": []
     },
     "output_type": "display_data"
    }
   ],
   "source": [
    "plt.figure(figsize=(24, 10))\n",
    "\n",
    "# Creating a group and sorting unique values for invoice numbers\n",
    "grouped_df  = data.groupby([\"day\", \"hour\"])[\"InvoiceNo\"].unique().reset_index()\n",
    "\n",
    "# Calculating number of orders for every hour of every day\n",
    "grouped_df[\"number_of_orders\"] = grouped_df[\"InvoiceNo\"].apply(len)\n",
    "\n",
    "# Creating a pivot table from the grouped_df\n",
    "grouped_df = grouped_df.pivot('day', 'hour', 'number_of_orders')\n",
    "\n",
    "# Create a heatmap\n",
    "sns.heatmap(data=grouped_df, annot=True, cmap='Blues', fmt='g')\n",
    "\n",
    "# Adding some cosmetics\n",
    "plt.title(label=\"Frequency of Day of week Vs Hour of day\", fontsize=16, y=1.02)\n",
    "plt.xticks(fontsize=12)\n",
    "plt.yticks(fontsize=12)\n",
    "plt.xlabel(xlabel='Hours', fontsize=14)\n",
    "plt.ylabel(ylabel='Day', fontsize=14)\n",
    "#plt.grid(b=True)\n",
    "\n",
    "# Display the heatmap\n",
    "plt.show()"
   ]
  },
  {
   "cell_type": "markdown",
   "metadata": {
    "id": "CEFophslkIxO"
   },
   "source": [
    "**Observations:**\n",
    "\n",
    "- Majority number of orders have been placed at **noon** time of **Wednesdays** and followed by the same time on **Thursdays**.\n",
    "\n",
    "- We can see orders are placed at **every hour** on **Thursdays**.\n",
    "\n",
    "- Most of the orders are placed from **Tuesdays** to **Fridays** from **10:00 AM** to **1:00 PM** London Time."
   ]
  },
  {
   "cell_type": "markdown",
   "metadata": {
    "id": "WQSkMhZxlzN2"
   },
   "source": [
    "**<h4>Question:** Assuming UnitPrice=0 means free items, how many free items have been given away?</h4>"
   ]
  },
  {
   "cell_type": "code",
   "execution_count": null,
   "metadata": {
    "colab": {
     "base_uri": "https://localhost:8080/",
     "height": 205
    },
    "id": "AEl8QucWmBYX",
    "outputId": "5170e5bf-837d-46e7-8109-c2828bff15b4"
   },
   "outputs": [
    {
     "data": {
      "text/html": [
       "<div>\n",
       "<style scoped>\n",
       "    .dataframe tbody tr th:only-of-type {\n",
       "        vertical-align: middle;\n",
       "    }\n",
       "\n",
       "    .dataframe tbody tr th {\n",
       "        vertical-align: top;\n",
       "    }\n",
       "\n",
       "    .dataframe thead th {\n",
       "        text-align: right;\n",
       "    }\n",
       "</style>\n",
       "<table border=\"1\" class=\"dataframe\">\n",
       "  <thead>\n",
       "    <tr style=\"text-align: right;\">\n",
       "      <th></th>\n",
       "      <th>InvoiceNo</th>\n",
       "      <th>StockCode</th>\n",
       "      <th>Description</th>\n",
       "      <th>Quantity</th>\n",
       "      <th>InvoiceDate</th>\n",
       "      <th>UnitPrice</th>\n",
       "      <th>CustomerID</th>\n",
       "      <th>Country</th>\n",
       "      <th>year</th>\n",
       "      <th>month</th>\n",
       "      <th>hour</th>\n",
       "      <th>day</th>\n",
       "      <th>Revenue</th>\n",
       "      <th>InvoiceYearMonth</th>\n",
       "    </tr>\n",
       "  </thead>\n",
       "  <tbody>\n",
       "    <tr>\n",
       "      <th>9302</th>\n",
       "      <td>537197</td>\n",
       "      <td>22841</td>\n",
       "      <td>ROUND CAKE TIN VINTAGE GREEN</td>\n",
       "      <td>1</td>\n",
       "      <td>2010-12-05 14:02:00</td>\n",
       "      <td>0.00000</td>\n",
       "      <td>12647.00000</td>\n",
       "      <td>Germany</td>\n",
       "      <td>2010</td>\n",
       "      <td>12</td>\n",
       "      <td>14</td>\n",
       "      <td>7</td>\n",
       "      <td>0.00000</td>\n",
       "      <td>2010-12</td>\n",
       "    </tr>\n",
       "    <tr>\n",
       "      <th>33576</th>\n",
       "      <td>539263</td>\n",
       "      <td>22580</td>\n",
       "      <td>ADVENT CALENDAR GINGHAM SACK</td>\n",
       "      <td>4</td>\n",
       "      <td>2010-12-16 14:36:00</td>\n",
       "      <td>0.00000</td>\n",
       "      <td>16560.00000</td>\n",
       "      <td>United Kingdom</td>\n",
       "      <td>2010</td>\n",
       "      <td>12</td>\n",
       "      <td>14</td>\n",
       "      <td>4</td>\n",
       "      <td>0.00000</td>\n",
       "      <td>2010-12</td>\n",
       "    </tr>\n",
       "    <tr>\n",
       "      <th>40089</th>\n",
       "      <td>539722</td>\n",
       "      <td>22423</td>\n",
       "      <td>REGENCY CAKESTAND 3 TIER</td>\n",
       "      <td>10</td>\n",
       "      <td>2010-12-21 13:45:00</td>\n",
       "      <td>0.00000</td>\n",
       "      <td>14911.00000</td>\n",
       "      <td>EIRE</td>\n",
       "      <td>2010</td>\n",
       "      <td>12</td>\n",
       "      <td>13</td>\n",
       "      <td>2</td>\n",
       "      <td>0.00000</td>\n",
       "      <td>2010-12</td>\n",
       "    </tr>\n",
       "    <tr>\n",
       "      <th>47068</th>\n",
       "      <td>540372</td>\n",
       "      <td>22090</td>\n",
       "      <td>PAPER BUNTING RETROSPOT</td>\n",
       "      <td>24</td>\n",
       "      <td>2011-01-06 16:41:00</td>\n",
       "      <td>0.00000</td>\n",
       "      <td>13081.00000</td>\n",
       "      <td>United Kingdom</td>\n",
       "      <td>2011</td>\n",
       "      <td>1</td>\n",
       "      <td>16</td>\n",
       "      <td>4</td>\n",
       "      <td>0.00000</td>\n",
       "      <td>2011-1</td>\n",
       "    </tr>\n",
       "    <tr>\n",
       "      <th>47070</th>\n",
       "      <td>540372</td>\n",
       "      <td>22553</td>\n",
       "      <td>PLASTERS IN TIN SKULLS</td>\n",
       "      <td>24</td>\n",
       "      <td>2011-01-06 16:41:00</td>\n",
       "      <td>0.00000</td>\n",
       "      <td>13081.00000</td>\n",
       "      <td>United Kingdom</td>\n",
       "      <td>2011</td>\n",
       "      <td>1</td>\n",
       "      <td>16</td>\n",
       "      <td>4</td>\n",
       "      <td>0.00000</td>\n",
       "      <td>2011-1</td>\n",
       "    </tr>\n",
       "  </tbody>\n",
       "</table>\n",
       "</div>"
      ],
      "text/plain": [
       "      InvoiceNo StockCode                   Description  Quantity  \\\n",
       "9302     537197     22841  ROUND CAKE TIN VINTAGE GREEN         1   \n",
       "33576    539263     22580  ADVENT CALENDAR GINGHAM SACK         4   \n",
       "40089    539722     22423      REGENCY CAKESTAND 3 TIER        10   \n",
       "47068    540372     22090       PAPER BUNTING RETROSPOT        24   \n",
       "47070    540372     22553        PLASTERS IN TIN SKULLS        24   \n",
       "\n",
       "              InvoiceDate  UnitPrice  CustomerID         Country  year  month  \\\n",
       "9302  2010-12-05 14:02:00    0.00000 12647.00000         Germany  2010     12   \n",
       "33576 2010-12-16 14:36:00    0.00000 16560.00000  United Kingdom  2010     12   \n",
       "40089 2010-12-21 13:45:00    0.00000 14911.00000            EIRE  2010     12   \n",
       "47068 2011-01-06 16:41:00    0.00000 13081.00000  United Kingdom  2011      1   \n",
       "47070 2011-01-06 16:41:00    0.00000 13081.00000  United Kingdom  2011      1   \n",
       "\n",
       "       hour  day  Revenue InvoiceYearMonth  \n",
       "9302     14    7  0.00000          2010-12  \n",
       "33576    14    4  0.00000          2010-12  \n",
       "40089    13    2  0.00000          2010-12  \n",
       "47068    16    4  0.00000           2011-1  \n",
       "47070    16    4  0.00000           2011-1  "
      ]
     },
     "execution_count": 100,
     "metadata": {
      "tags": []
     },
     "output_type": "execute_result"
    }
   ],
   "source": [
    "free = data[data['UnitPrice'] == 0]\n",
    "free.head()"
   ]
  },
  {
   "cell_type": "code",
   "execution_count": null,
   "metadata": {
    "colab": {
     "base_uri": "https://localhost:8080/",
     "height": 467
    },
    "id": "60lCmlScmVSQ",
    "outputId": "f5e0e3f8-132c-4f30-bfa8-0f9ab2604dd4"
   },
   "outputs": [
    {
     "data": {
      "image/png": "[encoded data removed]",
      "text/plain": [
       "<Figure size 1080x504 with 1 Axes>"
      ]
     },
     "metadata": {
      "needs_background": "light",
      "tags": []
     },
     "output_type": "display_data"
    }
   ],
   "source": [
    "# Create a 15x7 inches figure\n",
    "fig = plt.figure(figsize=(15,7))\n",
    "\n",
    "# Create a bar plot by:\n",
    "# Grouping data by InvoiceNo\n",
    "# Calculating unique months in the groupby object and taking their counts\n",
    "# Sorting their index and plotting\n",
    "\n",
    "free_month_data = free.groupby('InvoiceNo')['InvoiceYearMonth'].unique()\n",
    "free_month_data.value_counts().sort_index().plot(kind='bar')\n",
    "\n",
    "# Adding Cosmetics\n",
    "plt.xlabel('Month', fontsize=14)\n",
    "plt.ylabel('Number of free items', fontsize=14)\n",
    "plt.title('Number of free items given away across different Months', fontsize=16)\n",
    "plt.xticks(rotation='horizontal',\n",
    "           fontsize=12)\n",
    "plt.yticks(fontsize=12)\n",
    "plt.grid(b=True)\n",
    "\n",
    "# Displaying the plot\n",
    "plt.show()"
   ]
  },
  {
   "cell_type": "markdown",
   "metadata": {
    "id": "bIp3gHTbnJ7F"
   },
   "source": [
    "**Observations:**\n",
    "\n",
    "- A lot of free items have been given away in **November**.\n",
    "\n",
    "- Free items given away are almost in same quantity (**2-3 items per month**) for other months.\n",
    "\n",
    "- There were **no items** given away in the month of **June**."
   ]
  },
  {
   "cell_type": "markdown",
   "metadata": {
    "id": "Pmg5FY5n3fpj"
   },
   "source": [
    "**<h4>Question:** What is the average revenue per order?</h4>"
   ]
  },
  {
   "cell_type": "code",
   "execution_count": null,
   "metadata": {
    "colab": {
     "base_uri": "https://localhost:8080/",
     "height": 205
    },
    "id": "QqmhSScSVtCw",
    "outputId": "9562577c-5de2-4ee0-a320-66a72e45677e"
   },
   "outputs": [
    {
     "data": {
      "text/html": [
       "<div>\n",
       "<style scoped>\n",
       "    .dataframe tbody tr th:only-of-type {\n",
       "        vertical-align: middle;\n",
       "    }\n",
       "\n",
       "    .dataframe tbody tr th {\n",
       "        vertical-align: top;\n",
       "    }\n",
       "\n",
       "    .dataframe thead th {\n",
       "        text-align: right;\n",
       "    }\n",
       "</style>\n",
       "<table border=\"1\" class=\"dataframe\">\n",
       "  <thead>\n",
       "    <tr style=\"text-align: right;\">\n",
       "      <th></th>\n",
       "      <th>InvoiceNo</th>\n",
       "      <th>Revenue</th>\n",
       "    </tr>\n",
       "  </thead>\n",
       "  <tbody>\n",
       "    <tr>\n",
       "      <th>0</th>\n",
       "      <td>536365</td>\n",
       "      <td>19.87429</td>\n",
       "    </tr>\n",
       "    <tr>\n",
       "      <th>1</th>\n",
       "      <td>536366</td>\n",
       "      <td>11.10000</td>\n",
       "    </tr>\n",
       "    <tr>\n",
       "      <th>2</th>\n",
       "      <td>536367</td>\n",
       "      <td>23.22750</td>\n",
       "    </tr>\n",
       "    <tr>\n",
       "      <th>3</th>\n",
       "      <td>536368</td>\n",
       "      <td>17.51250</td>\n",
       "    </tr>\n",
       "    <tr>\n",
       "      <th>4</th>\n",
       "      <td>536369</td>\n",
       "      <td>17.85000</td>\n",
       "    </tr>\n",
       "  </tbody>\n",
       "</table>\n",
       "</div>"
      ],
      "text/plain": [
       "  InvoiceNo  Revenue\n",
       "0    536365 19.87429\n",
       "1    536366 11.10000\n",
       "2    536367 23.22750\n",
       "3    536368 17.51250\n",
       "4    536369 17.85000"
      ]
     },
     "execution_count": 102,
     "metadata": {
      "tags": []
     },
     "output_type": "execute_result"
    }
   ],
   "source": [
    "avg_revenue_per_order = data.groupby('InvoiceNo')['Revenue'].mean().reset_index()\n",
    "avg_revenue_per_order.head()"
   ]
  },
  {
   "cell_type": "code",
   "execution_count": null,
   "metadata": {
    "colab": {
     "base_uri": "https://localhost:8080/",
     "height": 299
    },
    "id": "IZc-GKIwV_fX",
    "outputId": "d5d8ee18-e0d3-4ae2-c4e4-013576f5d805"
   },
   "outputs": [
    {
     "data": {
      "text/html": [
       "<div>\n",
       "<style scoped>\n",
       "    .dataframe tbody tr th:only-of-type {\n",
       "        vertical-align: middle;\n",
       "    }\n",
       "\n",
       "    .dataframe tbody tr th {\n",
       "        vertical-align: top;\n",
       "    }\n",
       "\n",
       "    .dataframe thead th {\n",
       "        text-align: right;\n",
       "    }\n",
       "</style>\n",
       "<table border=\"1\" class=\"dataframe\">\n",
       "  <thead>\n",
       "    <tr style=\"text-align: right;\">\n",
       "      <th></th>\n",
       "      <th>Revenue</th>\n",
       "    </tr>\n",
       "  </thead>\n",
       "  <tbody>\n",
       "    <tr>\n",
       "      <th>count</th>\n",
       "      <td>22190.00000</td>\n",
       "    </tr>\n",
       "    <tr>\n",
       "      <th>mean</th>\n",
       "      <td>34.38573</td>\n",
       "    </tr>\n",
       "    <tr>\n",
       "      <th>std</th>\n",
       "      <td>1809.76532</td>\n",
       "    </tr>\n",
       "    <tr>\n",
       "      <th>min</th>\n",
       "      <td>-168469.60000</td>\n",
       "    </tr>\n",
       "    <tr>\n",
       "      <th>25%</th>\n",
       "      <td>5.95881</td>\n",
       "    </tr>\n",
       "    <tr>\n",
       "      <th>50%</th>\n",
       "      <td>16.75605</td>\n",
       "    </tr>\n",
       "    <tr>\n",
       "      <th>75%</th>\n",
       "      <td>27.21063</td>\n",
       "    </tr>\n",
       "    <tr>\n",
       "      <th>max</th>\n",
       "      <td>168469.60000</td>\n",
       "    </tr>\n",
       "  </tbody>\n",
       "</table>\n",
       "</div>"
      ],
      "text/plain": [
       "            Revenue\n",
       "count   22190.00000\n",
       "mean       34.38573\n",
       "std      1809.76532\n",
       "min   -168469.60000\n",
       "25%         5.95881\n",
       "50%        16.75605\n",
       "75%        27.21063\n",
       "max    168469.60000"
      ]
     },
     "execution_count": 103,
     "metadata": {
      "tags": []
     },
     "output_type": "execute_result"
    }
   ],
   "source": [
    "avg_revenue_per_order.describe()"
   ]
  },
  {
   "cell_type": "markdown",
   "metadata": {
    "id": "s_fsqrNK3fmx"
   },
   "source": [
    "**Observation:**\n",
    "\n",
    "- The average revenue per order is **34.39 Sterling** for the online retailer."
   ]
  },
  {
   "cell_type": "markdown",
   "metadata": {
    "id": "fqkC5GXYmkNN"
   },
   "source": [
    "**<h4>Question:** What is the total monthly revenue in UK?</h4>"
   ]
  },
  {
   "cell_type": "code",
   "execution_count": null,
   "metadata": {
    "id": "dxP6QJtF-EHY"
   },
   "outputs": [],
   "source": [
    "df_uk = data.query(\"Country == 'United Kingdom'\").reset_index(drop=True)"
   ]
  },
  {
   "cell_type": "code",
   "execution_count": null,
   "metadata": {
    "colab": {
     "base_uri": "https://localhost:8080/",
     "height": 455
    },
    "id": "CS5LmmNpWakf",
    "outputId": "eef264eb-5e90-4387-e202-3d29853fe210"
   },
   "outputs": [
    {
     "data": {
      "text/html": [
       "<div>\n",
       "<style scoped>\n",
       "    .dataframe tbody tr th:only-of-type {\n",
       "        vertical-align: middle;\n",
       "    }\n",
       "\n",
       "    .dataframe tbody tr th {\n",
       "        vertical-align: top;\n",
       "    }\n",
       "\n",
       "    .dataframe thead th {\n",
       "        text-align: right;\n",
       "    }\n",
       "</style>\n",
       "<table border=\"1\" class=\"dataframe\">\n",
       "  <thead>\n",
       "    <tr style=\"text-align: right;\">\n",
       "      <th></th>\n",
       "      <th>InvoiceYearMonth</th>\n",
       "      <th>Revenue</th>\n",
       "    </tr>\n",
       "  </thead>\n",
       "  <tbody>\n",
       "    <tr>\n",
       "      <th>3</th>\n",
       "      <td>2011-11</td>\n",
       "      <td>950731.45000</td>\n",
       "    </tr>\n",
       "    <tr>\n",
       "      <th>2</th>\n",
       "      <td>2011-10</td>\n",
       "      <td>781610.92000</td>\n",
       "    </tr>\n",
       "    <tr>\n",
       "      <th>12</th>\n",
       "      <td>2011-9</td>\n",
       "      <td>774620.30200</td>\n",
       "    </tr>\n",
       "    <tr>\n",
       "      <th>8</th>\n",
       "      <td>2011-5</td>\n",
       "      <td>524363.88000</td>\n",
       "    </tr>\n",
       "    <tr>\n",
       "      <th>0</th>\n",
       "      <td>2010-12</td>\n",
       "      <td>481675.23000</td>\n",
       "    </tr>\n",
       "    <tr>\n",
       "      <th>11</th>\n",
       "      <td>2011-8</td>\n",
       "      <td>475752.95000</td>\n",
       "    </tr>\n",
       "    <tr>\n",
       "      <th>9</th>\n",
       "      <td>2011-6</td>\n",
       "      <td>471386.36000</td>\n",
       "    </tr>\n",
       "    <tr>\n",
       "      <th>10</th>\n",
       "      <td>2011-7</td>\n",
       "      <td>460082.89100</td>\n",
       "    </tr>\n",
       "    <tr>\n",
       "      <th>6</th>\n",
       "      <td>2011-3</td>\n",
       "      <td>455534.07000</td>\n",
       "    </tr>\n",
       "    <tr>\n",
       "      <th>7</th>\n",
       "      <td>2011-4</td>\n",
       "      <td>375919.23100</td>\n",
       "    </tr>\n",
       "    <tr>\n",
       "      <th>1</th>\n",
       "      <td>2011-1</td>\n",
       "      <td>350668.80000</td>\n",
       "    </tr>\n",
       "    <tr>\n",
       "      <th>5</th>\n",
       "      <td>2011-2</td>\n",
       "      <td>347856.55000</td>\n",
       "    </tr>\n",
       "    <tr>\n",
       "      <th>4</th>\n",
       "      <td>2011-12</td>\n",
       "      <td>296953.52000</td>\n",
       "    </tr>\n",
       "  </tbody>\n",
       "</table>\n",
       "</div>"
      ],
      "text/plain": [
       "   InvoiceYearMonth      Revenue\n",
       "3           2011-11 950731.45000\n",
       "2           2011-10 781610.92000\n",
       "12           2011-9 774620.30200\n",
       "8            2011-5 524363.88000\n",
       "0           2010-12 481675.23000\n",
       "11           2011-8 475752.95000\n",
       "9            2011-6 471386.36000\n",
       "10           2011-7 460082.89100\n",
       "6            2011-3 455534.07000\n",
       "7            2011-4 375919.23100\n",
       "1            2011-1 350668.80000\n",
       "5            2011-2 347856.55000\n",
       "4           2011-12 296953.52000"
      ]
     },
     "execution_count": 105,
     "metadata": {
      "tags": []
     },
     "output_type": "execute_result"
    }
   ],
   "source": [
    "df_monthly_revenue = df_uk.groupby('InvoiceYearMonth')['Revenue'].sum().reset_index().sort_values(by='Revenue', ascending=False)\n",
    "df_monthly_revenue"
   ]
  },
  {
   "cell_type": "code",
   "execution_count": null,
   "metadata": {
    "colab": {
     "base_uri": "https://localhost:8080/",
     "height": 467
    },
    "id": "tJHaFuLEWee3",
    "outputId": "23af880c-a291-4388-bba3-850283115baa"
   },
   "outputs": [
    {
     "data": {
      "image/png": "[encoded data removed]",
      "text/plain": [
       "<Figure size 1080x504 with 1 Axes>"
      ]
     },
     "metadata": {
      "needs_background": "light",
      "tags": []
     },
     "output_type": "display_data"
    }
   ],
   "source": [
    "plt.figure(figsize=(15,7))\n",
    "\n",
    "# Plot a barplot for month vs revenue for the UK\n",
    "sns.barplot(data=df_monthly_revenue, x='InvoiceYearMonth', y='Revenue', palette='rainbow')\n",
    "\n",
    "# Adding some cosmetics\n",
    "plt.xlabel(xlabel='Year-Month', fontsize=14)\n",
    "plt.ylabel(ylabel='Revenue', fontsize=14)\n",
    "plt.xticks(fontsize=12)\n",
    "plt.yticks(fontsize=12)\n",
    "plt.title(label='Revenue vs InvoiceYearMonth', fontsize=16)\n",
    "plt.grid(b=True)\n",
    "\n",
    "# Display the plot\n",
    "plt.show()"
   ]
  },
  {
   "cell_type": "markdown",
   "metadata": {
    "id": "fp-5ZJvdYCFq"
   },
   "source": [
    "**Observations:**\n",
    "\n",
    "- **November** saw the highest amount of sales in the UK followed by **October**, **September**, and **May** months."
   ]
  },
  {
   "cell_type": "markdown",
   "metadata": {
    "id": "COP0Ea0SX53s"
   },
   "source": [
    "**<h4>Question:** Which products are most bought in UK?</h4>"
   ]
  },
  {
   "cell_type": "code",
   "execution_count": null,
   "metadata": {
    "colab": {
     "base_uri": "https://localhost:8080/",
     "height": 362
    },
    "id": "c4bRmjrLdPqM",
    "outputId": "2778ef42-dad1-4bea-d82f-ed48fe67c088"
   },
   "outputs": [
    {
     "data": {
      "text/html": [
       "<div>\n",
       "<style scoped>\n",
       "    .dataframe tbody tr th:only-of-type {\n",
       "        vertical-align: middle;\n",
       "    }\n",
       "\n",
       "    .dataframe tbody tr th {\n",
       "        vertical-align: top;\n",
       "    }\n",
       "\n",
       "    .dataframe thead th {\n",
       "        text-align: right;\n",
       "    }\n",
       "</style>\n",
       "<table border=\"1\" class=\"dataframe\">\n",
       "  <thead>\n",
       "    <tr style=\"text-align: right;\">\n",
       "      <th></th>\n",
       "      <th>StockCode</th>\n",
       "      <th>Description</th>\n",
       "      <th>Quantity</th>\n",
       "    </tr>\n",
       "  </thead>\n",
       "  <tbody>\n",
       "    <tr>\n",
       "      <th>2694</th>\n",
       "      <td>84077</td>\n",
       "      <td>WORLD WAR 2 GLIDERS ASSTD DESIGNS</td>\n",
       "      <td>47886</td>\n",
       "    </tr>\n",
       "    <tr>\n",
       "      <th>3562</th>\n",
       "      <td>85099B</td>\n",
       "      <td>JUMBO BAG RED RETROSPOT</td>\n",
       "      <td>40777</td>\n",
       "    </tr>\n",
       "    <tr>\n",
       "      <th>2800</th>\n",
       "      <td>84879</td>\n",
       "      <td>ASSORTED COLOUR BIRD ORNAMENT</td>\n",
       "      <td>32580</td>\n",
       "    </tr>\n",
       "    <tr>\n",
       "      <th>3569</th>\n",
       "      <td>85123A</td>\n",
       "      <td>WHITE HANGING HEART T-LIGHT HOLDER</td>\n",
       "      <td>32079</td>\n",
       "    </tr>\n",
       "    <tr>\n",
       "      <th>1032</th>\n",
       "      <td>22197</td>\n",
       "      <td>POPCORN HOLDER</td>\n",
       "      <td>28550</td>\n",
       "    </tr>\n",
       "    <tr>\n",
       "      <th>1427</th>\n",
       "      <td>22616</td>\n",
       "      <td>PACK OF 12 LONDON TISSUES</td>\n",
       "      <td>24297</td>\n",
       "    </tr>\n",
       "    <tr>\n",
       "      <th>37</th>\n",
       "      <td>17003</td>\n",
       "      <td>BROCADE RING PURSE</td>\n",
       "      <td>22672</td>\n",
       "    </tr>\n",
       "    <tr>\n",
       "      <th>356</th>\n",
       "      <td>21212</td>\n",
       "      <td>PACK OF 72 RETROSPOT CAKE CASES</td>\n",
       "      <td>22182</td>\n",
       "    </tr>\n",
       "    <tr>\n",
       "      <th>1012</th>\n",
       "      <td>22178</td>\n",
       "      <td>VICTORIAN GLASS HANGING T-LIGHT</td>\n",
       "      <td>21427</td>\n",
       "    </tr>\n",
       "    <tr>\n",
       "      <th>851</th>\n",
       "      <td>21977</td>\n",
       "      <td>PACK OF 60 PINK PAISLEY CAKE CASES</td>\n",
       "      <td>19882</td>\n",
       "    </tr>\n",
       "  </tbody>\n",
       "</table>\n",
       "</div>"
      ],
      "text/plain": [
       "     StockCode                         Description  Quantity\n",
       "2694     84077   WORLD WAR 2 GLIDERS ASSTD DESIGNS     47886\n",
       "3562    85099B             JUMBO BAG RED RETROSPOT     40777\n",
       "2800     84879       ASSORTED COLOUR BIRD ORNAMENT     32580\n",
       "3569    85123A  WHITE HANGING HEART T-LIGHT HOLDER     32079\n",
       "1032     22197                      POPCORN HOLDER     28550\n",
       "1427     22616          PACK OF 12 LONDON TISSUES      24297\n",
       "37       17003                 BROCADE RING PURSE      22672\n",
       "356      21212     PACK OF 72 RETROSPOT CAKE CASES     22182\n",
       "1012     22178     VICTORIAN GLASS HANGING T-LIGHT     21427\n",
       "851      21977  PACK OF 60 PINK PAISLEY CAKE CASES     19882"
      ]
     },
     "execution_count": 107,
     "metadata": {
      "tags": []
     },
     "output_type": "execute_result"
    }
   ],
   "source": [
    "groupedProduct = df_uk.groupby(['StockCode','Description'],as_index= False)['Quantity'].sum().sort_values(by='Quantity', ascending=False)\n",
    "top_10_products = groupedProduct.head(10)\n",
    "top_10_products"
   ]
  },
  {
   "cell_type": "code",
   "execution_count": null,
   "metadata": {
    "colab": {
     "base_uri": "https://localhost:8080/",
     "height": 467
    },
    "id": "QEtOzG9Tdrnk",
    "outputId": "2d9862f4-8bca-489c-8ec1-38b3fcc41ded"
   },
   "outputs": [
    {
     "data": {
      "image/png": "[encoded data removed]",
      "text/plain": [
       "<Figure size 1080x504 with 1 Axes>"
      ]
     },
     "metadata": {
      "needs_background": "light",
      "tags": []
     },
     "output_type": "display_data"
    }
   ],
   "source": [
    "# Create a figure of 15 x 7 inches\n",
    "plt.figure(figsize=(15,7))\n",
    "\n",
    "# Plot a bar plot for top 10 Product names and their quantities\n",
    "sns.barplot(data=top_10_products, y='Description', x='Quantity')\n",
    "\n",
    "# Adding some cosmetics\n",
    "plt.ylabel(ylabel='Product Description', fontsize=14)\n",
    "plt.xlabel(xlabel='Quantity', fontsize=14)\n",
    "plt.xticks(fontsize=12)\n",
    "plt.yticks(fontsize=12)\n",
    "plt.title(label='Top 10 products', fontsize=16)\n",
    "plt.grid(b=True)\n",
    "\n",
    "# Display the plot\n",
    "plt.show()"
   ]
  },
  {
   "cell_type": "markdown",
   "metadata": {
    "id": "22aWq5-TeZwx"
   },
   "source": [
    "**Observations:**\n",
    "\n",
    "- **WORLD WAR 2 GLIDERS ASSTD DESIGNS** have been sold the most with **47886 units**.\n",
    "\n",
    "- This product is **followed** by **JUMBO BAG RED RETROSPOT** and **ASSORTED COLOUR BIRD ORNAMENT**."
   ]
  },
  {
   "cell_type": "markdown",
   "metadata": {
    "id": "o__cWUzyez3V"
   },
   "source": [
    "**<h4>Question:** How many customers were active in all the months in the UK?<h4>"
   ]
  },
  {
   "cell_type": "code",
   "execution_count": null,
   "metadata": {
    "id": "qIPHKgkDfASp"
   },
   "outputs": [],
   "source": [
    "df_monthly_active = df_uk.groupby('InvoiceYearMonth')['CustomerID'].nunique().reset_index()"
   ]
  },
  {
   "cell_type": "code",
   "execution_count": null,
   "metadata": {
    "colab": {
     "base_uri": "https://localhost:8080/",
     "height": 467
    },
    "id": "CFvJlmZDfVpT",
    "outputId": "9219dc4b-5114-499d-d76a-9c115272d02e"
   },
   "outputs": [
    {
     "data": {
      "image/png": "[encoded data removed]",
      "text/plain": [
       "<Figure size 1080x504 with 1 Axes>"
      ]
     },
     "metadata": {
      "needs_background": "light",
      "tags": []
     },
     "output_type": "display_data"
    }
   ],
   "source": [
    "# Create a figure of 15 x 7 inches\n",
    "plt.figure(figsize=(15,7))\n",
    "\n",
    "# Plot \n",
    "plt.hlines(df_monthly_active['InvoiceYearMonth'],xmin=0,xmax=df_monthly_active['CustomerID'],color='blue')\n",
    "plt.plot(df_monthly_active['CustomerID'],df_monthly_active['InvoiceYearMonth'] , \"D\")\n",
    "\n",
    "# Adding some cosmetics\n",
    "plt.xlabel(xlabel='No. of customers', fontsize=14)\n",
    "plt.ylabel(ylabel='Year-Month', fontsize=14)\n",
    "plt.xticks(fontsize=12)\n",
    "plt.yticks(fontsize=12)\n",
    "plt.title(label='Active customers in the UK across all the months', fontsize=16)\n",
    "plt.grid(b=True)\n",
    "\n",
    "# Display the plot\n",
    "plt.show()"
   ]
  },
  {
   "cell_type": "markdown",
   "metadata": {
    "id": "q2ClG-YzfqsZ"
   },
   "source": [
    "**Observations:**\n",
    "\n",
    "- **November** saw the **most** number of **active** customers in the UK with **1548 customers**.\n",
    "\n",
    "- **September** and **October** too have a lot of active customers.\n",
    "\n",
    "- This is more in **correspondence** to the huge **number** of **orders** placed in these months as well."
   ]
  },
  {
   "cell_type": "markdown",
   "metadata": {
    "id": "xo47xksHvMTx"
   },
   "source": [
    "<a name = Section9></a>\n",
    "\n",
    "---\n",
    "# **9. Summarization**\n",
    "---"
   ]
  },
  {
   "cell_type": "markdown",
   "metadata": {
    "id": "gIVZNcQNh6ET"
   },
   "source": [
    "<a name = Section91></a>\n",
    "### **9.1 Conclusion**\n",
    "\n",
    "- We almost have **16.46% cancelled orders** which is a slightly high number for an online retailer.\n",
    "\n",
    "- **Studying** these **cancelled orders** further may help in preventing future cancellation.\n",
    "\n",
    "- Let's first get an overview of the general customers purchase behavior and then dig deeper.\n",
    "\n",
    "- The average **number of unique items per order** are **17**.\n",
    "\n",
    "- The average revenue per order is **34.39 Sterling** for the online retailer.\n",
    "\n",
    "- Not only **most sales revenues** are achieved in the **UK**, but also **most customers** are **located** there too.\n",
    "\n",
    "- Netherlands seems like one of the **bulk buyers** as it has **less than 100 customers** yet brings in the most amount of revenue **outside** the **UK**."
   ]
  },
  {
   "cell_type": "markdown",
   "metadata": {
    "id": "2B0GocLNlbFD"
   },
   "source": [
    "<a name = Section92></a>\n",
    "### **9.2 Actionable Insights**\n",
    "\n",
    "- By analysing the data in this way, we can uncover **groups of customers** that behave in similar ways.\n",
    "\n",
    "- **UK**, **Germany** and **Netherlands** should be the **primary targets** for advertisments.\n",
    "\n",
    "- This level of **customer segmentation** is useful in marketing to these groups of customers appropriately.\n",
    "\n",
    "- A **marketing campaign** that works for a group of customers that places **low value orders** frequently may not be appropriate for customers who place sporadic, **high value orders**.\n",
    "\n",
    "- Make relevant **product recommendations** to the customers using **precision marketing**.\n",
    "\n",
    "- Empower your customers to actively share their details, **make your customers part of the process**.\n",
    "\n",
    "- Encourage them to share their **data** with you through **conversations**, **surveys**, and other **research methods**.\n",
    "\n",
    "- Doing so not only help you get to know them better, but it also **builds trust**.\n",
    "\n",
    "- It would be important to **talk with the e-commerce team to understand the business, customers, strategic and tactical objectives**."
   ]
  }
 ],
 "metadata": {
  "colab": {
   "collapsed_sections": [],
   "name": "Case Study 3: Analysis on Online Retail Dataset.ipynb",
   "provenance": []
  },
  "kernelspec": {
   "display_name": "Python 3 (ipykernel)",
   "language": "python",
   "name": "python3"
  },
  "language_info": {
   "codemirror_mode": {
    "name": "ipython",
    "version": 3
   },
   "file_extension": ".py",
   "mimetype": "text/x-python",
   "name": "python",
   "nbconvert_exporter": "python",
   "pygments_lexer": "ipython3",
   "version": "3.8.8"
  }
 },
 "nbformat": 4,
 "nbformat_minor": 1
}
